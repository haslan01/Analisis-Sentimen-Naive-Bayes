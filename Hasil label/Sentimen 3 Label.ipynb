{
 "cells": [
  {
   "cell_type": "code",
   "execution_count": 1,
   "id": "813297a7",
   "metadata": {},
   "outputs": [],
   "source": [
    "import numpy as np\n",
    "import pandas as pd\n",
    "import matplotlib.pyplot as plt\n",
    "import seaborn as sns\n",
    "import collections\n",
    "from sklearn import model_selection\n",
    "from sklearn.model_selection import cross_val_score\n",
    "from sklearn.model_selection import train_test_split\n",
    "from sklearn.feature_extraction.text import TfidfVectorizer\n",
    "from sklearn.metrics import accuracy_score\n",
    "from sklearn.metrics import confusion_matrix\n",
    "import nltk\n"
   ]
  },
  {
   "cell_type": "code",
   "execution_count": 2,
   "id": "b1376fb6",
   "metadata": {},
   "outputs": [],
   "source": [
    "label_positive = 1 \n",
    "label_netral = 0\n",
    "label_negative = -1"
   ]
  },
  {
   "cell_type": "code",
   "execution_count": 3,
   "id": "5bc132fc",
   "metadata": {},
   "outputs": [
    {
     "data": {
      "text/html": [
       "<div>\n",
       "<style scoped>\n",
       "    .dataframe tbody tr th:only-of-type {\n",
       "        vertical-align: middle;\n",
       "    }\n",
       "\n",
       "    .dataframe tbody tr th {\n",
       "        vertical-align: top;\n",
       "    }\n",
       "\n",
       "    .dataframe thead th {\n",
       "        text-align: right;\n",
       "    }\n",
       "</style>\n",
       "<table border=\"1\" class=\"dataframe\">\n",
       "  <thead>\n",
       "    <tr style=\"text-align: right;\">\n",
       "      <th></th>\n",
       "      <th>Unnamed: 0</th>\n",
       "      <th>Komentar</th>\n",
       "      <th>Label</th>\n",
       "      <th>TOKENIZATION</th>\n",
       "      <th>STOP_REMOVAL</th>\n",
       "      <th>STEMMER</th>\n",
       "      <th>Komentar_Final</th>\n",
       "    </tr>\n",
       "  </thead>\n",
       "  <tbody>\n",
       "    <tr>\n",
       "      <th>0</th>\n",
       "      <td>0</td>\n",
       "      <td>lha kekerasan seksual itu kan mmg definisinya ...</td>\n",
       "      <td>positif</td>\n",
       "      <td>['lha', 'kekerasan', 'seksual', 'itu', 'kan', ...</td>\n",
       "      <td>['lha', 'kekerasan', 'seksual', 'mmg', 'defini...</td>\n",
       "      <td>['lha', 'keras', 'seksual', 'mmg', 'definisi',...</td>\n",
       "      <td>lha keras seksual mmg definisi hrs tuju korban...</td>\n",
       "    </tr>\n",
       "    <tr>\n",
       "      <th>1</th>\n",
       "      <td>1</td>\n",
       "      <td>jangan mendekati zina itu adalah aturan yang p...</td>\n",
       "      <td>negatif</td>\n",
       "      <td>['jngan', 'mendekati', 'zinah', 'itu', 'adalah...</td>\n",
       "      <td>['jngan', 'mendekati', 'zinah', 'aturan', 'dn'...</td>\n",
       "      <td>['jngan', 'dekat', 'zinah', 'atur', 'dn', 'nda...</td>\n",
       "      <td>jngan dekat zinah atur dn ndak pasal uu dll de...</td>\n",
       "    </tr>\n",
       "    <tr>\n",
       "      <th>2</th>\n",
       "      <td>2</td>\n",
       "      <td>the law is an art semakin rinci semakin mudah ...</td>\n",
       "      <td>netral</td>\n",
       "      <td>['the', 'law', 'is', 'an', 'art', 'semakin', '...</td>\n",
       "      <td>['the', 'law', 'is', 'art', 'rinci', 'gampang'...</td>\n",
       "      <td>['the', 'law', 'is', 'art', 'rinci', 'gampang'...</td>\n",
       "      <td>the law is art rinci gampang belok</td>\n",
       "    </tr>\n",
       "    <tr>\n",
       "      <th>3</th>\n",
       "      <td>3</td>\n",
       "      <td>tetapkan dulu apa yang dimaksud dengan kekeras...</td>\n",
       "      <td>netral</td>\n",
       "      <td>['tetapkan', 'dulu', 'aoa', 'yg', 'dimaksud', ...</td>\n",
       "      <td>['tetapkan', 'aoa', 'kekerasan', 'seksualitas']</td>\n",
       "      <td>['tetap', 'aoa', 'keras', 'seksualitas']</td>\n",
       "      <td>tetap aoa keras seksualitas</td>\n",
       "    </tr>\n",
       "    <tr>\n",
       "      <th>4</th>\n",
       "      <td>4</td>\n",
       "      <td>lbih cock diterapkan dikemendikbud dan dpr</td>\n",
       "      <td>netral</td>\n",
       "      <td>['lbih', 'cock', 'diterapkan', 'dikemendikbud'...</td>\n",
       "      <td>['lbih', 'cock', 'diterapkan', 'dikemendikbud'...</td>\n",
       "      <td>['lbih', 'cock', 'terap', 'dikemendikbud', 'dn...</td>\n",
       "      <td>lbih cock terap dikemendikbud dn dpr</td>\n",
       "    </tr>\n",
       "  </tbody>\n",
       "</table>\n",
       "</div>"
      ],
      "text/plain": [
       "   Unnamed: 0                                           Komentar    Label  \\\n",
       "0           0  lha kekerasan seksual itu kan mmg definisinya ...  positif   \n",
       "1           1  jangan mendekati zina itu adalah aturan yang p...  negatif   \n",
       "2           2  the law is an art semakin rinci semakin mudah ...   netral   \n",
       "3           3  tetapkan dulu apa yang dimaksud dengan kekeras...   netral   \n",
       "4           4        lbih cock diterapkan dikemendikbud dan dpr    netral   \n",
       "\n",
       "                                        TOKENIZATION  \\\n",
       "0  ['lha', 'kekerasan', 'seksual', 'itu', 'kan', ...   \n",
       "1  ['jngan', 'mendekati', 'zinah', 'itu', 'adalah...   \n",
       "2  ['the', 'law', 'is', 'an', 'art', 'semakin', '...   \n",
       "3  ['tetapkan', 'dulu', 'aoa', 'yg', 'dimaksud', ...   \n",
       "4  ['lbih', 'cock', 'diterapkan', 'dikemendikbud'...   \n",
       "\n",
       "                                        STOP_REMOVAL  \\\n",
       "0  ['lha', 'kekerasan', 'seksual', 'mmg', 'defini...   \n",
       "1  ['jngan', 'mendekati', 'zinah', 'aturan', 'dn'...   \n",
       "2  ['the', 'law', 'is', 'art', 'rinci', 'gampang'...   \n",
       "3    ['tetapkan', 'aoa', 'kekerasan', 'seksualitas']   \n",
       "4  ['lbih', 'cock', 'diterapkan', 'dikemendikbud'...   \n",
       "\n",
       "                                             STEMMER  \\\n",
       "0  ['lha', 'keras', 'seksual', 'mmg', 'definisi',...   \n",
       "1  ['jngan', 'dekat', 'zinah', 'atur', 'dn', 'nda...   \n",
       "2  ['the', 'law', 'is', 'art', 'rinci', 'gampang'...   \n",
       "3           ['tetap', 'aoa', 'keras', 'seksualitas']   \n",
       "4  ['lbih', 'cock', 'terap', 'dikemendikbud', 'dn...   \n",
       "\n",
       "                                      Komentar_Final  \n",
       "0  lha keras seksual mmg definisi hrs tuju korban...  \n",
       "1  jngan dekat zinah atur dn ndak pasal uu dll de...  \n",
       "2                 the law is art rinci gampang belok  \n",
       "3                        tetap aoa keras seksualitas  \n",
       "4               lbih cock terap dikemendikbud dn dpr  "
      ]
     },
     "execution_count": 3,
     "metadata": {},
     "output_type": "execute_result"
    }
   ],
   "source": [
    "df = pd.read_csv(r'PreProcessing.csv')\n",
    "df.head()"
   ]
  },
  {
   "cell_type": "code",
   "execution_count": 4,
   "id": "fdc764b6",
   "metadata": {},
   "outputs": [
    {
     "data": {
      "text/html": [
       "<div>\n",
       "<style scoped>\n",
       "    .dataframe tbody tr th:only-of-type {\n",
       "        vertical-align: middle;\n",
       "    }\n",
       "\n",
       "    .dataframe tbody tr th {\n",
       "        vertical-align: top;\n",
       "    }\n",
       "\n",
       "    .dataframe thead th {\n",
       "        text-align: right;\n",
       "    }\n",
       "</style>\n",
       "<table border=\"1\" class=\"dataframe\">\n",
       "  <thead>\n",
       "    <tr style=\"text-align: right;\">\n",
       "      <th></th>\n",
       "      <th>Komentar</th>\n",
       "      <th>Label</th>\n",
       "      <th>TOKENIZATION</th>\n",
       "      <th>STEMMER</th>\n",
       "      <th>Komentar_Final</th>\n",
       "    </tr>\n",
       "  </thead>\n",
       "  <tbody>\n",
       "    <tr>\n",
       "      <th>0</th>\n",
       "      <td>lha kekerasan seksual itu kan mmg definisinya ...</td>\n",
       "      <td>positif</td>\n",
       "      <td>['lha', 'kekerasan', 'seksual', 'itu', 'kan', ...</td>\n",
       "      <td>['lha', 'keras', 'seksual', 'mmg', 'definisi',...</td>\n",
       "      <td>lha keras seksual mmg definisi hrs tuju korban...</td>\n",
       "    </tr>\n",
       "    <tr>\n",
       "      <th>1</th>\n",
       "      <td>jangan mendekati zina itu adalah aturan yang p...</td>\n",
       "      <td>negatif</td>\n",
       "      <td>['jngan', 'mendekati', 'zinah', 'itu', 'adalah...</td>\n",
       "      <td>['jngan', 'dekat', 'zinah', 'atur', 'dn', 'nda...</td>\n",
       "      <td>jngan dekat zinah atur dn ndak pasal uu dll de...</td>\n",
       "    </tr>\n",
       "    <tr>\n",
       "      <th>2</th>\n",
       "      <td>the law is an art semakin rinci semakin mudah ...</td>\n",
       "      <td>netral</td>\n",
       "      <td>['the', 'law', 'is', 'an', 'art', 'semakin', '...</td>\n",
       "      <td>['the', 'law', 'is', 'art', 'rinci', 'gampang'...</td>\n",
       "      <td>the law is art rinci gampang belok</td>\n",
       "    </tr>\n",
       "    <tr>\n",
       "      <th>3</th>\n",
       "      <td>tetapkan dulu apa yang dimaksud dengan kekeras...</td>\n",
       "      <td>netral</td>\n",
       "      <td>['tetapkan', 'dulu', 'aoa', 'yg', 'dimaksud', ...</td>\n",
       "      <td>['tetap', 'aoa', 'keras', 'seksualitas']</td>\n",
       "      <td>tetap aoa keras seksualitas</td>\n",
       "    </tr>\n",
       "    <tr>\n",
       "      <th>4</th>\n",
       "      <td>lbih cock diterapkan dikemendikbud dan dpr</td>\n",
       "      <td>netral</td>\n",
       "      <td>['lbih', 'cock', 'diterapkan', 'dikemendikbud'...</td>\n",
       "      <td>['lbih', 'cock', 'terap', 'dikemendikbud', 'dn...</td>\n",
       "      <td>lbih cock terap dikemendikbud dn dpr</td>\n",
       "    </tr>\n",
       "  </tbody>\n",
       "</table>\n",
       "</div>"
      ],
      "text/plain": [
       "                                            Komentar    Label  \\\n",
       "0  lha kekerasan seksual itu kan mmg definisinya ...  positif   \n",
       "1  jangan mendekati zina itu adalah aturan yang p...  negatif   \n",
       "2  the law is an art semakin rinci semakin mudah ...   netral   \n",
       "3  tetapkan dulu apa yang dimaksud dengan kekeras...   netral   \n",
       "4        lbih cock diterapkan dikemendikbud dan dpr    netral   \n",
       "\n",
       "                                        TOKENIZATION  \\\n",
       "0  ['lha', 'kekerasan', 'seksual', 'itu', 'kan', ...   \n",
       "1  ['jngan', 'mendekati', 'zinah', 'itu', 'adalah...   \n",
       "2  ['the', 'law', 'is', 'an', 'art', 'semakin', '...   \n",
       "3  ['tetapkan', 'dulu', 'aoa', 'yg', 'dimaksud', ...   \n",
       "4  ['lbih', 'cock', 'diterapkan', 'dikemendikbud'...   \n",
       "\n",
       "                                             STEMMER  \\\n",
       "0  ['lha', 'keras', 'seksual', 'mmg', 'definisi',...   \n",
       "1  ['jngan', 'dekat', 'zinah', 'atur', 'dn', 'nda...   \n",
       "2  ['the', 'law', 'is', 'art', 'rinci', 'gampang'...   \n",
       "3           ['tetap', 'aoa', 'keras', 'seksualitas']   \n",
       "4  ['lbih', 'cock', 'terap', 'dikemendikbud', 'dn...   \n",
       "\n",
       "                                      Komentar_Final  \n",
       "0  lha keras seksual mmg definisi hrs tuju korban...  \n",
       "1  jngan dekat zinah atur dn ndak pasal uu dll de...  \n",
       "2                 the law is art rinci gampang belok  \n",
       "3                        tetap aoa keras seksualitas  \n",
       "4               lbih cock terap dikemendikbud dn dpr  "
      ]
     },
     "execution_count": 4,
     "metadata": {},
     "output_type": "execute_result"
    }
   ],
   "source": [
    "df = df.drop(df.columns[[0, 4]], axis=1)\n",
    "df.head()"
   ]
  },
  {
   "cell_type": "code",
   "execution_count": 5,
   "id": "255f5c7b",
   "metadata": {},
   "outputs": [],
   "source": [
    "# Split into train and test data\n",
    "\n",
    "train_X, test_X, train_Y, test_Y = model_selection.train_test_split(df['Komentar_Final'], df['Label'], test_size = 0.2,random_state = 20)\n",
    "# random_state = 20 menyatakan kita akan mendapatkan output yang sama dengan saat pertama kali membuat pemisahan."
   ]
  },
  {
   "cell_type": "code",
   "execution_count": 6,
   "id": "b5062ee0",
   "metadata": {},
   "outputs": [],
   "source": [
    "df_train = pd.DataFrame()\n",
    "df_train['Sentiment'] = train_X\n",
    "df_train['Label'] = train_Y\n",
    "\n",
    "df_test = pd.DataFrame()\n",
    "df_test['Sentiment'] = test_X\n",
    "df_test['Label'] = test_Y"
   ]
  },
  {
   "cell_type": "code",
   "execution_count": 7,
   "id": "91af29ed",
   "metadata": {},
   "outputs": [],
   "source": [
    "def convert(label):\n",
    "  if label == 'positif':\n",
    "    return 1\n",
    "  elif label == 'netral':\n",
    "    return 0\n",
    "  else:\n",
    "    return -1\n",
    "\n",
    "df_train['Label'] = train_Y.apply(convert)\n",
    "df_test['Label'] = test_Y.apply(convert)"
   ]
  },
  {
   "cell_type": "code",
   "execution_count": 8,
   "id": "0f72922b",
   "metadata": {},
   "outputs": [
    {
     "data": {
      "text/html": [
       "<style>#sk-container-id-1 {color: black;background-color: white;}#sk-container-id-1 pre{padding: 0;}#sk-container-id-1 div.sk-toggleable {background-color: white;}#sk-container-id-1 label.sk-toggleable__label {cursor: pointer;display: block;width: 100%;margin-bottom: 0;padding: 0.3em;box-sizing: border-box;text-align: center;}#sk-container-id-1 label.sk-toggleable__label-arrow:before {content: \"▸\";float: left;margin-right: 0.25em;color: #696969;}#sk-container-id-1 label.sk-toggleable__label-arrow:hover:before {color: black;}#sk-container-id-1 div.sk-estimator:hover label.sk-toggleable__label-arrow:before {color: black;}#sk-container-id-1 div.sk-toggleable__content {max-height: 0;max-width: 0;overflow: hidden;text-align: left;background-color: #f0f8ff;}#sk-container-id-1 div.sk-toggleable__content pre {margin: 0.2em;color: black;border-radius: 0.25em;background-color: #f0f8ff;}#sk-container-id-1 input.sk-toggleable__control:checked~div.sk-toggleable__content {max-height: 200px;max-width: 100%;overflow: auto;}#sk-container-id-1 input.sk-toggleable__control:checked~label.sk-toggleable__label-arrow:before {content: \"▾\";}#sk-container-id-1 div.sk-estimator input.sk-toggleable__control:checked~label.sk-toggleable__label {background-color: #d4ebff;}#sk-container-id-1 div.sk-label input.sk-toggleable__control:checked~label.sk-toggleable__label {background-color: #d4ebff;}#sk-container-id-1 input.sk-hidden--visually {border: 0;clip: rect(1px 1px 1px 1px);clip: rect(1px, 1px, 1px, 1px);height: 1px;margin: -1px;overflow: hidden;padding: 0;position: absolute;width: 1px;}#sk-container-id-1 div.sk-estimator {font-family: monospace;background-color: #f0f8ff;border: 1px dotted black;border-radius: 0.25em;box-sizing: border-box;margin-bottom: 0.5em;}#sk-container-id-1 div.sk-estimator:hover {background-color: #d4ebff;}#sk-container-id-1 div.sk-parallel-item::after {content: \"\";width: 100%;border-bottom: 1px solid gray;flex-grow: 1;}#sk-container-id-1 div.sk-label:hover label.sk-toggleable__label {background-color: #d4ebff;}#sk-container-id-1 div.sk-serial::before {content: \"\";position: absolute;border-left: 1px solid gray;box-sizing: border-box;top: 0;bottom: 0;left: 50%;z-index: 0;}#sk-container-id-1 div.sk-serial {display: flex;flex-direction: column;align-items: center;background-color: white;padding-right: 0.2em;padding-left: 0.2em;position: relative;}#sk-container-id-1 div.sk-item {position: relative;z-index: 1;}#sk-container-id-1 div.sk-parallel {display: flex;align-items: stretch;justify-content: center;background-color: white;position: relative;}#sk-container-id-1 div.sk-item::before, #sk-container-id-1 div.sk-parallel-item::before {content: \"\";position: absolute;border-left: 1px solid gray;box-sizing: border-box;top: 0;bottom: 0;left: 50%;z-index: -1;}#sk-container-id-1 div.sk-parallel-item {display: flex;flex-direction: column;z-index: 1;position: relative;background-color: white;}#sk-container-id-1 div.sk-parallel-item:first-child::after {align-self: flex-end;width: 50%;}#sk-container-id-1 div.sk-parallel-item:last-child::after {align-self: flex-start;width: 50%;}#sk-container-id-1 div.sk-parallel-item:only-child::after {width: 0;}#sk-container-id-1 div.sk-dashed-wrapped {border: 1px dashed gray;margin: 0 0.4em 0.5em 0.4em;box-sizing: border-box;padding-bottom: 0.4em;background-color: white;}#sk-container-id-1 div.sk-label label {font-family: monospace;font-weight: bold;display: inline-block;line-height: 1.2em;}#sk-container-id-1 div.sk-label-container {text-align: center;}#sk-container-id-1 div.sk-container {/* jupyter's `normalize.less` sets `[hidden] { display: none; }` but bootstrap.min.css set `[hidden] { display: none !important; }` so we also need the `!important` here to be able to override the default hidden behavior on the sphinx rendered scikit-learn.org. See: https://github.com/scikit-learn/scikit-learn/issues/21755 */display: inline-block !important;position: relative;}#sk-container-id-1 div.sk-text-repr-fallback {display: none;}</style><div id=\"sk-container-id-1\" class=\"sk-top-container\"><div class=\"sk-text-repr-fallback\"><pre>TfidfVectorizer(max_features=5000)</pre><b>In a Jupyter environment, please rerun this cell to show the HTML representation or trust the notebook. <br />On GitHub, the HTML representation is unable to render, please try loading this page with nbviewer.org.</b></div><div class=\"sk-container\" hidden><div class=\"sk-item\"><div class=\"sk-estimator sk-toggleable\"><input class=\"sk-toggleable__control sk-hidden--visually\" id=\"sk-estimator-id-1\" type=\"checkbox\" checked><label for=\"sk-estimator-id-1\" class=\"sk-toggleable__label sk-toggleable__label-arrow\">TfidfVectorizer</label><div class=\"sk-toggleable__content\"><pre>TfidfVectorizer(max_features=5000)</pre></div></div></div></div></div>"
      ],
      "text/plain": [
       "TfidfVectorizer(max_features=5000)"
      ]
     },
     "execution_count": 8,
     "metadata": {},
     "output_type": "execute_result"
    }
   ],
   "source": [
    "# TF-IDF\n",
    "tfidf_vect = TfidfVectorizer(max_features = 5000)\n",
    "# tfidf_vect.fit(df_train['Sentiment'])\n",
    "tfidf_vect.fit(df['Komentar_Final'])\n"
   ]
  },
  {
   "cell_type": "code",
   "execution_count": 9,
   "id": "71d60b7b",
   "metadata": {},
   "outputs": [
    {
     "data": {
      "text/html": [
       "<style>#sk-container-id-2 {color: black;background-color: white;}#sk-container-id-2 pre{padding: 0;}#sk-container-id-2 div.sk-toggleable {background-color: white;}#sk-container-id-2 label.sk-toggleable__label {cursor: pointer;display: block;width: 100%;margin-bottom: 0;padding: 0.3em;box-sizing: border-box;text-align: center;}#sk-container-id-2 label.sk-toggleable__label-arrow:before {content: \"▸\";float: left;margin-right: 0.25em;color: #696969;}#sk-container-id-2 label.sk-toggleable__label-arrow:hover:before {color: black;}#sk-container-id-2 div.sk-estimator:hover label.sk-toggleable__label-arrow:before {color: black;}#sk-container-id-2 div.sk-toggleable__content {max-height: 0;max-width: 0;overflow: hidden;text-align: left;background-color: #f0f8ff;}#sk-container-id-2 div.sk-toggleable__content pre {margin: 0.2em;color: black;border-radius: 0.25em;background-color: #f0f8ff;}#sk-container-id-2 input.sk-toggleable__control:checked~div.sk-toggleable__content {max-height: 200px;max-width: 100%;overflow: auto;}#sk-container-id-2 input.sk-toggleable__control:checked~label.sk-toggleable__label-arrow:before {content: \"▾\";}#sk-container-id-2 div.sk-estimator input.sk-toggleable__control:checked~label.sk-toggleable__label {background-color: #d4ebff;}#sk-container-id-2 div.sk-label input.sk-toggleable__control:checked~label.sk-toggleable__label {background-color: #d4ebff;}#sk-container-id-2 input.sk-hidden--visually {border: 0;clip: rect(1px 1px 1px 1px);clip: rect(1px, 1px, 1px, 1px);height: 1px;margin: -1px;overflow: hidden;padding: 0;position: absolute;width: 1px;}#sk-container-id-2 div.sk-estimator {font-family: monospace;background-color: #f0f8ff;border: 1px dotted black;border-radius: 0.25em;box-sizing: border-box;margin-bottom: 0.5em;}#sk-container-id-2 div.sk-estimator:hover {background-color: #d4ebff;}#sk-container-id-2 div.sk-parallel-item::after {content: \"\";width: 100%;border-bottom: 1px solid gray;flex-grow: 1;}#sk-container-id-2 div.sk-label:hover label.sk-toggleable__label {background-color: #d4ebff;}#sk-container-id-2 div.sk-serial::before {content: \"\";position: absolute;border-left: 1px solid gray;box-sizing: border-box;top: 0;bottom: 0;left: 50%;z-index: 0;}#sk-container-id-2 div.sk-serial {display: flex;flex-direction: column;align-items: center;background-color: white;padding-right: 0.2em;padding-left: 0.2em;position: relative;}#sk-container-id-2 div.sk-item {position: relative;z-index: 1;}#sk-container-id-2 div.sk-parallel {display: flex;align-items: stretch;justify-content: center;background-color: white;position: relative;}#sk-container-id-2 div.sk-item::before, #sk-container-id-2 div.sk-parallel-item::before {content: \"\";position: absolute;border-left: 1px solid gray;box-sizing: border-box;top: 0;bottom: 0;left: 50%;z-index: -1;}#sk-container-id-2 div.sk-parallel-item {display: flex;flex-direction: column;z-index: 1;position: relative;background-color: white;}#sk-container-id-2 div.sk-parallel-item:first-child::after {align-self: flex-end;width: 50%;}#sk-container-id-2 div.sk-parallel-item:last-child::after {align-self: flex-start;width: 50%;}#sk-container-id-2 div.sk-parallel-item:only-child::after {width: 0;}#sk-container-id-2 div.sk-dashed-wrapped {border: 1px dashed gray;margin: 0 0.4em 0.5em 0.4em;box-sizing: border-box;padding-bottom: 0.4em;background-color: white;}#sk-container-id-2 div.sk-label label {font-family: monospace;font-weight: bold;display: inline-block;line-height: 1.2em;}#sk-container-id-2 div.sk-label-container {text-align: center;}#sk-container-id-2 div.sk-container {/* jupyter's `normalize.less` sets `[hidden] { display: none; }` but bootstrap.min.css set `[hidden] { display: none !important; }` so we also need the `!important` here to be able to override the default hidden behavior on the sphinx rendered scikit-learn.org. See: https://github.com/scikit-learn/scikit-learn/issues/21755 */display: inline-block !important;position: relative;}#sk-container-id-2 div.sk-text-repr-fallback {display: none;}</style><div id=\"sk-container-id-2\" class=\"sk-top-container\"><div class=\"sk-text-repr-fallback\"><pre>TfidfVectorizer(max_features=5000)</pre><b>In a Jupyter environment, please rerun this cell to show the HTML representation or trust the notebook. <br />On GitHub, the HTML representation is unable to render, please try loading this page with nbviewer.org.</b></div><div class=\"sk-container\" hidden><div class=\"sk-item\"><div class=\"sk-estimator sk-toggleable\"><input class=\"sk-toggleable__control sk-hidden--visually\" id=\"sk-estimator-id-2\" type=\"checkbox\" checked><label for=\"sk-estimator-id-2\" class=\"sk-toggleable__label sk-toggleable__label-arrow\">TfidfVectorizer</label><div class=\"sk-toggleable__content\"><pre>TfidfVectorizer(max_features=5000)</pre></div></div></div></div></div>"
      ],
      "text/plain": [
       "TfidfVectorizer(max_features=5000)"
      ]
     },
     "execution_count": 9,
     "metadata": {},
     "output_type": "execute_result"
    }
   ],
   "source": [
    "tfidf_vect"
   ]
  },
  {
   "cell_type": "code",
   "execution_count": 10,
   "id": "afcbc5a3",
   "metadata": {},
   "outputs": [
    {
     "name": "stdout",
     "output_type": "stream",
     "text": [
      "\n",
      "selected words as feature : \n",
      "----------------------------\n",
      "['aamiin', 'aborsi', 'abu', 'acak', 'acc', 'ada', 'adab', 'adana', 'adap', 'adem', 'adh', 'adik', 'adil', 'adl', 'adu', 'aduh', 'advokasi', 'adzab', 'agama', 'agamais', 'ahahaaha', 'ahirnya', 'ahklak', 'ahli', 'aj', 'ajar', 'aju', 'akal', 'akar', 'akhirat', 'akhsan', 'akibat', 'aksi', 'aku', 'alaikum', 'alam', 'alami', 'alat', 'aldo', 'alesanya', 'alhamdulilah', 'alias', 'alih', 'allah', 'alluxes', 'ama', 'amal', 'aman', 'amat', 'ambigu', 'ambil', 'amburadul', 'amma', 'anak', 'ancam', 'ancem', 'ancur', 'anda', 'andarwati', 'andi', 'ane', 'anehny', 'anggap', 'anggar', 'anggauta', 'anggota', 'anjir', 'anjur', 'ank', 'anu', 'aoa', 'apa', 'apadaya', 'api', 'apologize', 'apps', 'aq', 'arab', 'arah', 'argumen', 'argumentum', 'art', 'asih', 'asnawi', 'assalamualaikum', 'at', 'atas', 'atau', 'ato', 'atur', 'aturanny', 'audio', 'aufa', 'awi', 'ayam', 'ayat', 'ayem', 'ayo', 'ayom', 'azab', 'azas', 'bab', 'babad', 'baca', 'bacod', 'bacot', 'badan', 'bae', 'bagai', 'bagus', 'bahagia', 'bahas', 'bahasa', 'baik', 'baju', 'bales', 'balik', 'ban', 'banding', 'bang', 'bangsa', 'bani', 'bank', 'bantu', 'banyak', 'banyakin', 'barat', 'barbie', 'basuki', 'batas', 'bawa', 'bawah', 'bayangin', 'bayar', 'bayu', 'bbas', 'bdoa', 'beban', 'bebas', 'becus', 'beda', 'begitu', 'bejad', 'bela', 'belah', 'belakang', 'belanga', 'beliau', 'belok', 'benaar', 'benar', 'benci', 'bendigan', 'bener', 'benteng', 'bentrok', 'bentuk', 'bentur', 'berahlaq', 'berani', 'berantas', 'berat', 'berfikir', 'berfikirnya', 'berita', 'bersih', 'bertagung', 'berzinah', 'beuh', 'bgmn', 'bgt', 'biasa', 'bibir', 'bicara', 'bidan', 'bijak', 'bik', 'bikin', 'bila', 'bilang', 'billah', 'bimbing', 'binar', 'binatang', 'bincang', 'bingung', 'bintang', 'bisa', 'bisnis', 'bkn', 'bkuasa', 'bla', 'blh', 'blhkan', 'blhlkan', 'blm', 'bloon', 'blue', 'bnar', 'bngt', 'bnr', 'bnyak', 'bo', 'bobrok', 'bocah', 'bodoamat', 'bodoh', 'boga', 'bokep', 'boleh', 'bolih', 'boneka', 'borr', 'brarti', 'breakpoint', 'brenti', 'brng', 'broow', 'brsama', 'brulang', 'bs', 'bsa', 'btw', 'bu', 'buat', 'bubar', 'budaya', 'bujuk', 'buka', 'bukti', 'bulsit', 'bumbu', 'bunga', 'bungkus', 'buru', 'burukk', 'buset', 'buta', 'butuh', 'buuk', 'bwahaha', 'bwahahaahah', 'bwahahaha', 'byk', 'byr', 'cabul', 'cabut', 'cakap', 'calling', 'cantum', 'capek', 'cari', 'catt', 'cebong', 'cecep', 'cegah', 'celah', 'celeng', 'cerdas', 'cerita', 'cetek', 'cewe', 'chanel', 'chanell', 'channel', 'charista', 'cholil', 'cholis', 'cicip', 'cium', 'ckckck', 'clear', 'cm', 'cma', 'cman', 'coba', 'cock', 'cocok', 'colek', 'colet', 'comot', 'complicated', 'consent', 'contoh', 'contrario', 'coy', 'cpt', 'crott', 'cuan', 'cucu', 'culun', 'curi', 'daerah', 'dah', 'dahulu', 'dalam', 'dalem', 'dalih', 'dampak', 'dangkal', 'dapat', 'dar', 'daruat', 'darurat', 'dasar', 'data', 'day', 'ddpan', 'deal', 'debat', 'debatin', 'definisi', 'deh', 'dekat', 'delik', 'demokrasi', 'denda', 'dengar', 'depak', 'depan', 'derita', 'dewan', 'dewangga', 'dewi', 'dgr', 'dhadapi', 'diamenyetujui', 'dian', 'dianggep', 'dias', 'diberitahukan', 'dibrantas', 'didik', 'diem', 'difahami', 'dihapuus', 'dijadiin', 'dijelasin', 'dikemendikbud', 'dikit', 'diksi', 'dimcok', 'direfisi', 'disamain', 'disetubuhin', 'diskusi', 'ditandatangani', 'ditawarin', 'ditindaklanjuti', 'diusulkn', 'dksih', 'dll', 'dlm', 'dlsb', 'dlu', 'dluaar', 'dluar', 'dmester', 'dmitrii', 'dn', 'do', 'dokter', 'dompleng', 'dosa', 'dosen', 'dosenn', 'doyan', 'dpr', 'dpt', 'dr', 'dri', 'drone', 'drpd', 'drun', 'dua', 'duduk', 'duh', 'dukung', 'duli', 'duluan', 'dungu', 'dunia', 'dur', 'dzulfiqar', 'eak', 'ecer', 'editingnya', 'edukasi', 'efek', 'ekonomi', 'elu', 'emak', 'emang', 'enak', 'enggak', 'engkau', 'entar', 'ente', 'esa', 'esek', 'etik', 'etika', 'euy', 'faham', 'fahaman', 'fakta', 'farhan', 'fattah', 'fatwa', 'fauzi', 'fihak', 'fikir', 'fisi', 'fix', 'fokus', 'formula', 'foto', 'frase', 'fundamental', 'fungsi', 'ga', 'gaada', 'gaass', 'gabisa', 'gabriella', 'gadis', 'gaduh', 'gagal', 'gaji', 'gak', 'gamblang', 'gampang', 'ganti', 'gantung', 'gara', 'garis', 'garuk', 'gas', 'gatau', 'gaul', 'gaung', 'gawat', 'gede', 'gemeteran', 'gender', 'genit', 'gerbong', 'gerebek', 'gesek', 'gg', 'ghost', 'giat', 'gilir', 'gimana', 'gin', 'ginian', 'giring', 'gitu', 'giur', 'gk', 'gmn', 'gni', 'goa', 'goblog', 'goblokny', 'goodbener', 'google', 'goreng', 'gosok', 'gosong', 'goyang', 'grnerasi', 'gtu', 'gue', 'guna', 'gurau', 'guru', 'gus', 'guwe', 'gw', 'habib', 'habit', 'hadeh', 'hadehh', 'hahaha', 'hahha', 'hak', 'hal', 'halah', 'halal', 'hambat', 'hamil', 'hamll', 'hancur', 'hantar', 'hapus', 'haram', 'harap', 'harga', 'harus', 'hasanudin', 'hashirama', 'hasil', 'hati', 'hdp', 'hebat', 'hehehe', 'hemat', 'hh', 'hidung', 'hidup', 'hihihi', 'hilang', 'hina', 'hindar', 'hitam', 'hoi', 'holaqoh', 'homo', 'hormat', 'host', 'hotel', 'hp', 'hpus', 'hr', 'hrs', 'hrus', 'hubung', 'hukum', 'hukumanya', 'huruf', 'hutang', 'ibu', 'ibuk', 'identitas', 'idham', 'idiologi', 'ii', 'iin', 'ijab', 'ijin', 'ikadi', 'ikat', 'ikut', 'ilegal', 'illegalisasi', 'imam', 'iman', 'imbal', 'imej', 'implementasi', 'in', 'inalilahi', 'indah', 'individu', 'indonesia', 'indra', 'informasi', 'ingat', 'inget', 'ini', 'injil', 'innalilahi', 'install', 'interface', 'inti', 'intrik', 'iri', 'is', 'isi', 'islam', 'islamabad', 'islami', 'islamis', 'isteri', 'istilah', 'istri', 'isu', 'isue', 'it', 'itu', 'ituh', 'ituu', 'iya', 'iye', 'izin', 'jabar', 'jabat', 'jadi', 'jaga', 'jah', 'jahat', 'jakar', 'jalan', 'jamah', 'jaman', 'jancukk', 'jaring', 'jatuh', 'jauh', 'jawap', 'jaya', 'jd', 'jdi', 'jekartah', 'jenis', 'jepang', 'jerat', 'jerit', 'jessi', 'jg', 'jga', 'jgn', 'jhon', 'jikaa', 'jilbab', 'jjik', 'jk', 'jlan', 'jlanya', 'jlas', 'jls', 'jngan', 'jokowi', 'judul', 'juli', 'julidz', 'jum', 'jumat', 'justeru', 'juta', 'juz', 'kacau', 'kader', 'kadron', 'kadrun', 'kaedah', 'kait', 'kake', 'kakehan', 'kalah', 'kalang', 'kalau', 'kali', 'kalimat', 'kalimatx', 'kalu', 'kamar', 'kampanye', 'kampus', 'kandung', 'kangkang', 'karenahukum', 'karna', 'kasi', 'kasih', 'katagori', 'kategori', 'kaum', 'kawan', 'kawin', 'kaya', 'kayak', 'kayakx', 'kbbi', 'kbetulan', 'kbrnya', 'kcuali', 'kdrt', 'ke', 'kebiri', 'kecebong', 'kecuali', 'kedok', 'kehancuranya', 'keji', 'kelamin', 'kelas', 'keliling', 'keliru', 'kelompok', 'keluar', 'keluarga', 'kemayu', 'kembang', 'kena', 'kencing', 'kendali', 'kentu', 'kepo', 'keras', 'kereta', 'kerja', 'kers', 'kerudung', 'kesan', 'ketat', 'ketentuanya', 'ketua', 'khan', 'khawatir', 'khayal', 'khotbah', 'khusus', 'kiamat', 'kitaa', 'kjadian', 'kl', 'klaim', 'klausal', 'klu', 'klw', 'kn', 'knp', 'ko', 'kode', 'kodill', 'komen', 'komentar', 'kompor', 'kond', 'konfirmasi', 'konotasi', 'kons', 'konsekuensi', 'konsekwensi', 'konsensual', 'konsep', 'konsevatif', 'kontak', 'konteks', 'konthol', 'kontra', 'kontradiksi', 'kontro', 'kontroversi', 'kontroversial', 'konvensional', 'konyol', 'kopit', 'korban', 'korbanya', 'koropsi', 'korupsi', 'kota', 'kotak', 'koteka', 'kpk', 'kriteria', 'kritik', 'kritisi', 'krna', 'ks', 'ksalahan', 'kuad', 'kuat', 'kuatir', 'kucing', 'kucingmasjid', 'kuhp', 'kuhpnya', 'kuliah', 'kun', 'kurikulum', 'kurng', 'kutik', 'kutip', 'kyak', 'kyk', 'kyknya', 'lacur', 'lagak', 'lahir', 'laki', 'laksana', 'laku', 'lampau', 'lancar', 'landas', 'langgar', 'langsung', 'lanjut', 'lap', 'lapor', 'laporin', 'larang', 'lari', 'las', 'latar', 'law', 'lawan', 'layak', 'lbh', 'lbih', 'lebar', 'lebih', 'leceh', 'ledak', 'legal', 'legalin', 'legalisasi', 'legalitas', 'legalx', 'legowo', 'lembut', 'letak', 'lg', 'lgbt', 'lgi', 'lgsg', 'lha', 'lho', 'liar', 'liat', 'libat', 'liberal', 'lihat', 'lindung', 'lingkung', 'lingkup', 'liput', 'literasi', 'literatur', 'llos', 'lo', 'lobang', 'logika', 'lollipop', 'lot', 'love', 'lu', 'luar', 'luas', 'lulus', 'lumayan', 'lurus', 'lutut', 'lw', 'ma', 'mabok', 'macem', 'maen', 'mah', 'maha', 'mahaciwi', 'mahasiswa', 'mahasiswi', 'main', 'maju', 'makan', 'makarim', 'make', 'maklum', 'makna', 'maksud', 'makul', 'malam', 'males', 'malu', 'mampu', 'mana', 'manfaat', 'manggil', 'mangkrak', 'manipulatif', 'mantan', 'manusia', 'marah', 'marak', 'mas', 'masak', 'masalah', 'masalh', 'mask', 'maslahat', 'masyarakat', 'mata', 'matang', 'materi', 'mati', 'matkul', 'mayoritas', 'mcm', 'media', 'megang', 'meggunakan', 'mekanisme', 'melakukkan', 'melek', 'melundungi', 'memang', 'memeng', 'menaggulangi', 'mendi', 'mendikbud', 'mendikbudristek', 'meng', 'mengecrott', 'mengmangtap', 'meni', 'menrisek', 'menrisex', 'mentah', 'mental', 'menteri', 'menyalahgunakan', 'menyimaak', 'merehabilitas', 'merem', 'merinding', 'mesti', 'mesum', 'mesyumm', 'mhn', 'mikir', 'mikirin', 'mikirnya', 'milik', 'minggu', 'miss', 'missal', 'mitos', 'mjd', 'mk', 'mkn', 'mknya', 'mksd', 'mksh', 'mksih', 'mlakukan', 'mlh', 'mmbahas', 'mmbuat', 'mmg', 'mmpertahankan', 'mna', 'mndidik', 'mnertibkan', 'mngabdi', 'mnganut', 'mngejar', 'mngenali', 'mnghamili', 'mnjdi', 'mnyikapi', 'moga', 'mora', 'moral', 'moril', 'mosok', 'motong', 'mprett', 'mrasa', 'mreka', 'mrk', 'msh', 'msing', 'msk', 'mslh', 'mslhx', 'mu', 'muaantaabb', 'muas', 'muat', 'mucho', 'muda', 'mudah', 'muhamdiah', 'muhammad', 'muhammadiyah', 'mui', 'multi', 'multitafsir', 'mulu', 'mulut', 'muncul', 'mundur', 'munkin', 'murid', 'muslim', 'musnah', 'musyawarah', 'mutarbalik', 'mutu', 'myth', 'nabi', 'nadiem', 'nadim', 'naf', 'nahh', 'nakarim', 'nalar', 'nama', 'namax', 'nanangin', 'nangin', 'nangiss', 'nangkep', 'nangkepnya', 'nanya', 'napa', 'napsu', 'nara', 'narapidana', 'narasi', 'nasional', 'nasip', 'natural', 'naudzubillah', 'nawarin', 'nayla', 'ndak', 'negara', 'negativ', 'negeri', 'negri', 'nek', 'nempelkan', 'neng', 'neraka', 'nerbitin', 'next', 'nga', 'ngaca', 'ngadu', 'ngajar', 'ngapah', 'ngapain', 'ngas', 'ngasi', 'ngasih', 'ngatur', 'ngawur', 'ngedidik', 'ngedongeng', 'ngedukung', 'ngeh', 'ngelakuin', 'ngelarang', 'ngenyel', 'ngeres', 'ngerti', 'ngeyel', 'ngga', 'nggak', 'ngoceh', 'ngojek', 'ngomong', 'ngomongin', 'ngotot', 'ngritik', 'ngubah', 'ngucap', 'ngurus', 'ngurusin', 'ngusulin', 'niat', 'nie', 'nikaah', 'nikah', 'nikahin', 'nikmatin', 'nila', 'nilai', 'nnti', 'nntinya', 'no', 'nolak', 'non', 'nonton', 'norma', 'novel', 'ntar', 'nu', 'nunggu', 'nuntut', 'nyalahin', 'nyampe', 'nyari', 'nyata', 'nyeleneh', 'nyerang', 'nyesel', 'nyirnyir', 'nyumpahin', 'nyuri', 'oasti', 'obyektif', 'oenggagas', 'oh', 'ohh', 'ojk', 'ok', 'oke', 'oknum', 'olah', 'om', 'omongane', 'onar', 'online', 'open', 'opini', 'oposisi', 'orang', 'org', 'ormas', 'orng', 'orrunya', 'ortu', 'ortunya', 'otak', 'other', 'otoritas', 'oyo', 'pacar', 'pada', 'pade', 'pagi', 'paham', 'pajang', 'pakai', 'pake', 'pakek', 'paksa', 'panca', 'pandai', 'pandang', 'panjenengan', 'pantat', 'par', 'parah', 'pariwisata', 'partai', 'parte', 'pasal', 'pasang', 'paten', 'patok', 'patuh', 'paud', 'paut', 'payah', 'payung', 'pd', 'pdhal', 'pdhl', 'pecat', 'peemendikbud', 'pegang', 'peluk', 'pemahamanya', 'pemendikbud', 'pemuda', 'pengaruh', 'penjara', 'penring', 'penting', 'penuh', 'penyelesaina', 'penzinahan', 'perbutan', 'percaya', 'perempuan', 'perendikbud', 'perintah', 'perjanjianya', 'perkara', 'perkosa', 'permebdikbud', 'permedikbudristek', 'permen', 'permendikbud', 'permendikbudnya', 'permendikbudristek', 'permendikbudristekdikti', 'permnedikbudristek', 'personal', 'perspektif', 'perzinahan', 'pesantren', 'petinggi', 'photo', 'pidana', 'pikir', 'pikirin', 'pilih', 'pimpin', 'pinjol', 'pintu', 'piro', 'pisah', 'pisik', 'pk', 'pkoknya', 'pks', 'placur', 'plaku', 'plis', 'pnegak', 'poin', 'pojok', 'pola', 'polemik', 'poligami', 'polisi', 'politik', 'politis', 'pondasi', 'pondok', 'populasi', 'pornografi', 'posisi', 'positiv', 'ppks', 'pr', 'praktek', 'praktis', 'prbuatan', 'presenter', 'presiden', 'prgaulan', 'pribadi', 'private', 'pro', 'produk', 'prof', 'propinsi', 'proses', 'prostitusi', 'protes', 'puas', 'publik', 'puih', 'pulih', 'pun', 'pundak', 'purnomo', 'putera', 'putih', 'putus', 'putusin', 'pzinaan', 'qt', 'qur', 'raba', 'ragu', 'rahayu', 'raja', 'rajalela', 'rajam', 'rakyat', 'rakyt', 'ralat', 'ramah', 'rame', 'ranah', 'rancang', 'randir', 'rasa', 'rasuk', 'rata', 'rayu', 'realita', 'rek', 'rekomendasi', 'rektor', 'rem', 'rendah', 'renung', 'repot', 'resiko', 'revisi', 'revolusi', 'riba', 'ribet', 'ribut', 'ridwan', 'rifki', 'riil', 'rinci', 'risikoberikhtilath', 'riza', 'rizqi', 'rkuhp', 'robah', 'rohani', 'rok', 'rooji', 'ruang', 'rubah', 'rugi', 'rugika', 'rujuk', 'rusak', 'rush', 'ruu', 'sadar', 'sahkan', 'sakit', 'salah', 'salahsatu', 'samasekali', 'sampaiin', 'sampe', 'sampek', 'samping', 'sanak', 'sangkut', 'sangsi', 'sanksi', 'sapi', 'saudara', 'sayang', 'sbg', 'scr', 'sdah', 'sebab', 'sebelumya', 'sebut', 'sedekah', 'sedih', 'sedikit', 'segalasesuatu', 'seharusx', 'sehat', 'sek', 'sekolah', 'seks', 'seksual', 'seksualitas', 'sekulib', 'selamat', 'selangkang', 'selesai', 'selese', 'selingkuh', 'seluru', 'semangat', 'sembunyi', 'sempat', 'sempit', 'sen', 'senang', 'senggol', 'senior', 'senjata', 'sensasi', 'sentuh', 'sepenuh', 'seprrti', 'serah', 'serap', 'seringkali', 'sesat', 'sesk', 'sesuai', 'setan', 'seteru', 'sex', 'sexual', 'shg', 'sholat', 'sibuk', 'sidang', 'side', 'sila', 'silaahkan', 'silah', 'simak', 'simpul', 'single', 'siri', 'sis', 'siswa', 'situ', 'situasi', 'siul', 'skalipun', 'skrang', 'skrg', 'skrng', 'slalu', 'slama', 'slesai', 'sllu', 'sm', 'smartphone', 'smester', 'smogaa', 'smseter', 'sndri', 'sngt', 'so', 'sok', 'solusi', 'solusiable', 'sono', 'sopan', 'sosoh', 'sperti', 'spk', 'spt', 'sriyati', 'standing', 'stengah', 'stock', 'studi', 'suami', 'suara', 'substansi', 'subtantif', 'sugiono', 'suka', 'sukak', 'sungguh', 'surat', 'suruh', 'survey', 'sus', 'susah', 'susila', 'susu', 'suupaya', 'swasta', 'swt', 'sy', 'sya', 'syah', 'syar', 'syarat', 'syariat', 'syg', 'sypa', 'syurga', 'ta', 'tabayun', 'tafsir', 'tahu', 'tainya', 'tajam', 'tamat', 'tambah', 'tameng', 'tanam', 'tanda', 'tangan', 'tangap', 'tanggung', 'tangkap', 'tangsel', 'tapsir', 'tara', 'tau', 'tawar', 'tdak', 'tdk', 'tekan', 'telanjang', 'teliti', 'teman', 'tembak', 'temen', 'tempat', 'tempel', 'temu', 'tentang', 'tentu', 'teori', 'tera', 'terap', 'terbit', 'teriak', 'teriakin', 'terima', 'ternak', 'tertawa', 'terus', 'terusin', 'tetap', 'tetep', 'texto', 'th', 'the', 'thn', 'thohir', 'timbul', 'tindak', 'tinggal', 'tinghi', 'tingkat', 'tipe', 'titik', 'tlg', 'toge', 'tokoh', 'tolak', 'tolol', 'tonton', 'tp', 'tpi', 'tr', 'tragis', 'transaksi', 'trauma', 'trgantung', 'tri', 'trjerumus', 'trlepas', 'trmksh', 'trnyta', 'trs', 'true', 'trus', 'truskan', 'tsb', 'tsbt', 'ttap', 'ttg', 'ttp', 'tua', 'tuai', 'tubuh', 'tugas', 'tuhan', 'tuju', 'tujuaannya', 'tuk', 'tukang', 'tulis', 'tumpul', 'tunggang', 'tunggu', 'tunjuk', 'tuntut', 'turun', 'turuut', 'tutup', 'tv', 'twitter', 'uang', 'udah', 'udahlah', 'udeh', 'udh', 'uin', 'uji', 'ulama', 'ulang', 'umat', 'ummu', 'umur', 'undang', 'uninstal', 'unjuk', 'unsur', 'untk', 'untung', 'urgent', 'ursury', 'urus', 'urusin', 'usaha', 'usap', 'usia', 'ustad', 'ustadz', 'usul', 'usut', 'utama', 'uu', 'uun', 'uunya', 'verbal', 'versi', 'very', 'vidio', 'vissi', 'wa', 'wafat', 'wajar', 'wakil', 'wakl', 'walau', 'wani', 'wanita', 'warga', 'warung', 'wassalamu', 'waswas', 'whyyposisi', 'wibawa', 'widi', 'wiji', 'wilayah', 'wisnutama', 'wkwkkw', 'wkwkkwkw', 'wkwkwkwk', 'wkwkwwkwk', 'wnf', 'woahh', 'woi', 'wonggemblung', 'worth', 'xmbelgedesh', 'yaelah', 'yee', 'yeess', 'yng', 'you', 'zer', 'zina', 'zinah', 'zinahnya']\n",
      "\n"
     ]
    },
    {
     "name": "stderr",
     "output_type": "stream",
     "text": [
      "C:\\Users\\ASUS\\.conda\\envs\\aslan\\lib\\site-packages\\sklearn\\utils\\deprecation.py:87: FutureWarning: Function get_feature_names is deprecated; get_feature_names is deprecated in 1.0 and will be removed in 1.2. Please use get_feature_names_out instead.\n",
      "  warnings.warn(msg, category=FutureWarning)\n"
     ]
    }
   ],
   "source": [
    "print()\n",
    "print(\"selected words as feature : \")\n",
    "print(\"----------------------------\")\n",
    "print(tfidf_vect.get_feature_names())\n",
    "print()"
   ]
  },
  {
   "cell_type": "code",
   "execution_count": 11,
   "id": "7af60293",
   "metadata": {},
   "outputs": [
    {
     "name": "stdout",
     "output_type": "stream",
     "text": [
      "{'lha': 810, 'keras': 690, 'seksual': 1328, 'mmg': 933, 'definisi': 311, 'hrs': 525, 'tuju': 1524, 'korban': 740, 'mana': 860, 'logika': 826, 'nolak': 1067, 'gimana': 453, 'lawan': 790, 'klw': 711, 'ndak': 1011, 'aoa': 70, 'jngan': 622, 'dekat': 313, 'zinah': 1612, 'atur': 89, 'dn': 359, 'pasal': 1134, 'uu': 1569, 'dll': 351, 'demokrasi': 315, 'tdak': 1454, 'layak': 791, 'untk': 1555, 'isi': 569, 'penting': 1156, 'petinggi': 1180, 'maslahat': 874, 'masyarakat': 875, 'aq': 76, 'bsa': 221, 'jadi': 588, 'tameng': 1442, 'oknum': 1094, 'media': 883, 'skrang': 1378, 'byk': 243, 'ngomong': 1047, 'ngawur': 1032, 'the': 1482, 'law': 789, 'is': 568, 'art': 81, 'rinci': 1279, 'gampang': 431, 'belok': 148, 'tetap': 1478, 'seksualitas': 1329, 'lbih': 793, 'cock': 276, 'terap': 1469, 'dikemendikbud': 338, 'dpr': 367, 'pakai': 1120, 'anak': 53, 'sekolah': 1326, 'mahasiswa': 845, 'rok': 1286, 'lutut': 836, 'ganti': 432, 'tri': 1505, 'bubar': 225, 'jga': 611, 'ragu': 1245, 'lapor': 783, 'usul': 1566, 'lindung': 817, 'hukum': 528, 'jd': 602, 'polemik': 1202, 'pdhal': 1144, 'tinggal': 1487, 'revisi': 1271, 'apologize': 74, 'diusulkn': 349, 'partai': 1132, 'gmn': 460, 'kbrnya': 666, 'presenter': 1218, 'suka': 1412, 'motong': 950, 'cakap': 247, 'nara': 1002, 'ngeh': 1036, 'gitu': 457, 'ormas': 1105, 'islam': 570, 'dukung': 377, 'permedikbudristek': 1169, 'no': 1066, 'tolak': 1495, 'ayat': 95, 'permendikbud': 1171, 'nadiem': 986, 'hilang': 512, 'negara': 1012, 'kacau': 632, 'jabat': 587, 'nyeleneh': 1080, 'coba': 275, 'urus': 1559, 'subtantif': 1410, 'pecat': 1146, 'ranah': 1255, 'mendikbud': 894, 'menteri': 904, 'perempuan': 1162, 'bnr': 200, 'laksana': 774, 'bicara': 173, 'idiologi': 536, 'sbg': 1313, 'muslim': 979, 'tp': 1498, 'fakta': 405, 'ttp': 1518, 'hrus': 526, 'terima': 1473, 'pojok': 1200, 'kotak': 745, 'amal': 46, 'anjur': 67, 'sedekah': 1319, 'kbetulan': 665, 'mreka': 953, 'sesat': 1353, 'adl': 13, 'saudara': 1311, 'qt': 1242, 'mjd': 922, 'isue': 578, 'ksalahan': 753, 'bkn': 189, 'pnegak': 1198, 'masalh': 872, 'brsama': 218, 'dhadapi': 325, 'bgmn': 169, 'mnertibkan': 937, 'pemahamanya': 1150, 'tdk': 1455, 'dr': 369, 'sedikit': 1321, 'mmbahas': 931, 'syurga': 1433, 'imbal': 548, 'neraka': 1019, 'lbh': 792, 'bahas': 111, 'mngenali': 941, 'tuhan': 1523, 'konsekuensi': 724, 'mnganut': 939, 'agama': 18, 'brarti': 213, 'mngabdi': 938, 'pd': 1143, 'mmpertahankan': 934, 'imej': 549, 'mngejar': 940, 'duh': 376, 'sexual': 1359, 'penzinahan': 1159, 'ini': 560, 'beda': 140, 'kl': 707, 'kalimatx': 645, 'difahami': 334, 'undang': 1551, 'blm': 195, 'bahasa': 112, 'indonesia': 555, 'bae': 107, 'kayakx': 663, 'namax': 993, 'jls': 621, 'unsur': 1554, 'jdi': 603, 'kalimat': 644, 'seharusx': 1323, 'debat': 309, 'dpt': 368, 'atau': 87, 'pun': 1234, 'haram': 496, 'kcuali': 667, 'anehny': 61, 'negeri': 1014, 'deh': 312, 'permen': 1170, 'ancam': 54, 'tindak': 1486, 'tsbt': 1515, 'dasar': 304, 'trus': 1512, 'laku': 775, 'nggak': 1044, 'kena': 685, 'kampus': 649, 'susila': 1420, 'sypa': 1432, 'buat': 224, 'dlm': 352, 'wajar': 1579, 'cantum': 249, 'dmitrii': 358, 'senang': 1342, 'mesum': 911, 'marah': 867, 'colek': 278, 'raba': 1244, 'sangsi': 1308, 'buka': 228, 'baju': 114, 'langgar': 779, 'moril': 948, 'kuhp': 759, 'muhammad': 968, 'thohir': 1484, 'oke': 1093, 'sampek': 1304, 'tsb': 1514, 'bentrok': 155, 'pornografi': 1210, 'seks': 1327, 'bebas': 138, 'patuh': 1138, 'boleh': 209, 'sebut': 1318, 'memeng': 891, 'ngerti': 1041, 'ikut': 543, 'ulama': 1546, 'kadron': 634, 'otak': 1110, 'dalem': 296, 'contoh': 283, 'kuhpnya': 760, 'org': 1104, 'tubuh': 1521, 'suami': 1407, 'istri': 576, 'pidana': 1182, 'zina': 1611, 'penjara': 1154, 'denda': 316, 'katagori': 656, 'ii': 537, 'sentuh': 1347, 'usap': 1562, 'pegang': 1148, 'peluk': 1149, 'cium': 269, 'gosok': 468, 'nyata': 1079, 'gamblang': 430, 'ambigu': 49, 'multitafsir': 972, 'sex': 1358, 'larang': 785, 'dapat': 300, 'giat': 451, 'kayak': 662, 'gesek': 448, 'malu': 858, 'syah': 1427, 'implementasi': 550, 'walau': 1582, 'salah': 1299, 'permendikbudnya': 1172, 'tertawa': 1475, 'argumen': 79, 'kutip': 766, 'salahsatu': 1300, 'kontroversial': 736, 'bagai': 108, 'liput': 820, 'simpul': 1369, 'kelompok': 680, 'mnjdi': 943, 'jenis': 605, 'apa': 71, 'bila': 178, 'ada': 5, 'samasekali': 1301, 'legal': 798, 'meng': 896, 'ilegal': 544, 'alias': 41, 'konsekwensi': 725, 'argumentum': 80, 'contrario': 284, 'lu': 830, 'pikir': 1183, 'peemendikbud': 1147, 'elu': 390, 'ga': 420, 'dewangga': 322, 'putera': 1237, 'frase': 417, 'faham': 403, 'timbul': 1485, 'kontradiksi': 733, 'nama': 992, 'leceh': 796, 'literatur': 822, 'dampak': 298, 'manfaat': 861, 'alesanya': 39, 'kbbi': 664, 'binatang': 183, 'derita': 320, 'mati': 879, 'akibat': 31, 'jahat': 591, 'dah': 293, 'mesti': 910, 'menrisex': 901, 'gaduh': 426, 'mknya': 925, 'makul': 855, 'kasih': 655, 'rohani': 1285, 'mlh': 930, 'dihapuus': 335, 'kuad': 754, 'iin': 538, 'plis': 1197, 'gabriella': 424, 'indah': 553, 'charista': 265, 'yeess': 1607, 'very': 1574, 'true': 1511, 'bang': 119, 'baca': 103, 'tpi': 1499, 'langsung': 780, 'bacod': 104, 'pada': 1115, 'hal': 487, 'udah': 1540, 'dijelasin': 337, 'huruf': 530, 'anggap': 62, 'alami': 36, 'situasi': 1375, 'paksa': 1123, 'menyalahgunakan': 905, 'duduk': 375, 'paham': 1118, 'konsep': 727, 'consent': 282, 'dar': 301, 'mulut': 974, 'bacot': 105, 'dewan': 321, 'jk': 617, 'moral': 947, 'bejad': 142, 'buuk': 239, 'keluarga': 682, 'tanam': 1443, 'rasa': 1258, 'kendali': 687, 'perkosa': 1167, 'mk': 923, 'polisi': 1204, 'ibuk': 533, 'vissi': 1576, 'miss': 919, 'presiden': 1219, 'jabar': 586, 'bijak': 175, 'shg': 1360, 'revolusi': 1272, 'mental': 903, 'jokowi': 623, 'hapus': 495, 'sempat': 1339, 'goreng': 467, 'gosong': 469, 'jatuh': 598, 'segalasesuatu': 1322, 'serah': 1350, 'ke': 669, 'ahli': 23, 'tunggu': 1531, 'kehancuranya': 674, 'host': 520, 'las': 787, 'allah': 43, 'swt': 1424, 'hdp': 504, 'rakyat': 1250, 'bawa': 130, 'senjata': 1345, 'tajam': 1439, 'api': 73, 'enak': 393, 'bgt': 170, 'maen': 841, 'pks': 1194, 'engkau': 395, 'harap': 497, 'wilayah': 1593, 'private': 1222, 'perkara': 1166, 'individu': 554, 'didik': 332, 'mora': 946, 'knp': 713, 'entar': 396, 'olah': 1095, 'izin': 585, 'inget': 559, 'panca': 1124, 'sila': 1365, 'maha': 843, 'esa': 398, 'lo': 824, 'pasang': 1135, 'ngedukung': 1035, 'mna': 935, 'ta': 1434, 'at': 85, 'syariat': 1430, 'harus': 499, 'simak': 1368, 'selesai': 1333, 'adil': 12, 'macem': 840, 'onar': 1098, 'cman': 274, 'alih': 42, 'isu': 577, 'goodbener': 465, 'jekartah': 604, 'anggauta': 64, 'par': 1129, 'tainya': 1438, 'masalah': 871, 'formula': 415, 'lg': 806, 'usut': 1567, 'kpk': 747, 'sanak': 1306, 'tuntut': 1533, 'hahaha': 484, 'waswas': 1588, 'anggota': 65, 'garuk': 436, 'dalih': 297, 'lanjut': 781, 'permendikbudristek': 1173, 'robah': 1284, 'trgantung': 1504, 'ortunya': 1109, 'penring': 1155, 'ortu': 1108, 'mndidik': 936, 'ahklak': 22, 'utama': 1568, 'tr': 1500, 'bukti': 229, 'kjadian': 706, 'ketat': 696, 'trjerumus': 1506, 'orrunya': 1107, 'selamat': 1331, 'hindar': 514, 'pr': 1214, 'gaul': 439, 'bbas': 135, 'cewe': 261, 'alhamdulilah': 40, 'tamat': 1440, 'kuliah': 761, 'bidan': 174, 'dua': 374, 'trlepas': 1507, 'prgaulan': 1220, 'inti': 565, 'nasip': 1006, 'rizqi': 1282, 'mnyikapi': 944, 'makan': 849, 'jlan': 618, 'halal': 489, 'koropsi': 742, 'so': 1392, 'oasti': 1086, 'renung': 1268, 'cari': 251, 'jlanya': 619, 'bener': 153, 'advokasi': 16, 'luas': 832, 'kait': 637, 'legalitas': 801, 'perzinahan': 1178, 'konsensual': 726, 'terbit': 1470, 'legalisasi': 800, 'illegalisasi': 545, 'hashirama': 501, 'google': 466, 'azas': 100, 'jah': 590, 'klu': 710, 'karna': 653, 'banyak': 124, 'darurat': 303, 'bikin': 177, 'perendikbud': 1163, 'badan': 106, 'slama': 1382, 'realita': 1262, 'justeru': 629, 'slalu': 1381, 'rugika': 1291, 'sy': 1425, 'ridwan': 1276, 'basuki': 128, 'sanksi': 1309, 'breakpoint': 214, 'tv': 1537, 'butuh': 238, 'narasi': 1004, 'lebar': 794, 'titik': 1491, 'ok': 1092, 'kecuali': 672, 'susah': 1419, 'ngapain': 1027, 'anggar': 63, 'bs': 220, 'keluar': 681, 'hasil': 502, 'teliti': 1458, 'indra': 556, 'payung': 1142, 'gak': 429, 'percaya': 1161, 'kebiri': 670, 'tuk': 1526, 'dri': 370, 'lacur': 770, 'rugi': 1290, 'untung': 1556, 'poligami': 1203, 'duluan': 379, 'tujuaannya': 1525, 'cegah': 255, 'bersih': 165, 'usia': 1563, 'tumpul': 1529, 'politis': 1206, 'dosen': 364, 'kelamin': 676, 'rajam': 1249, 'dunia': 381, 'rendah': 1267, 'suara': 1408, 'rektor': 1265, 'lagak': 771, 'dungu': 380, 'tempel': 1463, 'nempelkan': 1017, 'anu': 69, 'nadim': 987, 'ngurusin': 1054, 'begitu': 141, 'tingkat': 1489, 'mutu': 983, 'guru': 476, 'pintu': 1188, 'poin': 1199, 'kontro': 734, 'versi': 1573, 'multi': 971, 'tapsir': 1450, 'direfisi': 342, 'merinding': 909, 'dgr': 324, 'sek': 1325, 'ank': 68, 'gadis': 425, 'moga': 945, 'jauh': 599, 'gg': 449, 'keji': 675, 'boga': 207, 'hati': 503, 'putih': 1238, 'pacar': 1114, 'sampe': 1303, 'hamil': 491, 'bertagung': 166, 'jawap': 600, 'cicip': 268, 'eak': 384, 'bendigan': 152, 'putusin': 1240, 'msh': 955, 'sngt': 1391, 'khawatir': 700, 'maksud': 854, 'rancang': 1256, 'isteri': 574, 'rame': 1254, 'mui': 970, 'hpus': 523, 'do': 360, 'libat': 814, 'setan': 1356, 'selingkuh': 1335, 'perintah': 1164, 'hina': 513, 'aamiin': 0, 'sllu': 1384, 'main': 847, 'tafsir': 1436, 'hancur': 493, 'assalamualaikum': 84, 'ditandatangani': 346, 'mendikbudristek': 895, 'anda': 57, 'mahasiswi': 846, 'tutup': 1536, 'tau': 1452, 'muaantaabb': 961, 'skrng': 1380, 'aman': 47, 'sis': 1372, 'lw': 837, 'pade': 1116, 'nga': 1022, 'ngas': 1028, 'gaass': 422, 'bwahahaha': 242, 'mas': 869, 'kuatir': 756, 'tentang': 1465, 'tuai': 1520, 'adzab': 17, 'akhirat': 29, 'fihak': 410, 'esek': 399, 'brenti': 215, 'situ': 1374, 'pzinaan': 1241, 'fisi': 412, 'ttg': 1517, 'tempat': 1462, 'bagus': 109, 'baik': 113, 'mu': 960, 'ummu': 1549, 'nayla': 1010, 'permebdikbud': 1168, 'ustadz': 1565, 'senior': 1344, 'lingkung': 818, 'pake': 1121, 'benci': 151, 'buta': 237, 'mata': 876, 'umat': 1548, 'wkwkkw': 1595, 'marak': 868, 'kepo': 689, 'bngt': 199, 'tangkap': 1448, 'menrisek': 900, 'nasional': 1005, 'maju': 848, 'cerdas': 258, 'rata': 1260, 'tangan': 1445, 'belah': 144, 'julidz': 626, 'tahu': 1437, 'ikat': 542, 'kawin': 660, 'single': 1370, 'delik': 314, 'adu': 14, 'proses': 1227, 'tera': 1468, 'bentuk': 156, 'ruu': 1295, 'temen': 1461, 'sekulib': 1330, 'protes': 1229, 'cpt': 286, 'sahkan': 1297, 'ribut': 1275, 'ama': 45, 'kaum': 658, 'kons': 723, 'islamis': 573, 'capek': 250, 'mulu': 973, 'akhsan': 30, 'andi': 59, 'prostitusi': 1228, 'lap': 782, 'korbanya': 741, 'bawah': 131, 'umur': 1550, 'propinsi': 1226, 'kota': 744, 'hukumanya': 529, 'gw': 479, 'nanangin': 994, 'nangin': 995, 'mikir': 914, 'legalin': 799, 'konteks': 730, 'gabisa': 423, 'ngelarang': 1038, 'ketentuanya': 697, 'gatau': 438, 'iya': 583, 'ambil': 50, 'tangsel': 1449, 'juta': 630, 'kamar': 647, 'ulang': 1547, 'kali': 643, 'surat': 1415, 'perjanjianya': 1165, 'gantung': 433, 'daerah': 292, 'mayoritas': 881, 'ralat': 1252, 'benar': 150, 'celah': 256, 'ayam': 94, 'standing': 1403, 'udahlah': 1541, 'debatin': 310, 'ngubah': 1051, 'posisi': 1211, 'liat': 813, 'twitter': 1538, 'uji': 1545, 'materi': 878, 'ma': 838, 'depan': 319, 'pemendikbud': 1151, 'sus': 1418, 'andarwati': 58, 'mekanisme': 886, 'gk': 459, 'jerat': 607, 'itu': 580, 'bu': 223, 'suruh': 1416, 'teman': 1459, 'muncul': 975, 'oh': 1089, 'rkuhp': 1283, 'jalan': 593, 'tekan': 1456, 'aju': 26, 'warga': 1585, 'bantu': 123, 'klausal': 709, 'komentar': 718, 'rubah': 1289, 'usaha': 1561, 'melundungi': 889, 'hubung': 527, 'emang': 392, 'ngadu': 1024, 'mangkrak': 863, 'legowo': 803, 'halah': 488, 'solusiable': 1395, 'spk': 1400, 'agamais': 19, 'diem': 333, 'pesantren': 1179, 'nikahin': 1060, 'maklum': 852, 'bobrok': 203, 'raja': 1247, 'bla': 191, 'mucho': 964, 'texto': 1480, 'nikmatin': 1061, 'seteru': 1357, 'wkwkwkwk': 1597, 'ente': 397, 'nanya': 999, 'aduh': 15, 'males': 857, 'komen': 717, 'bales': 115, 'hehehe': 506, 'mslh': 958, 'prbuatan': 1217, 'kn': 712, 'aturanny': 90, 'sndri': 1390, 'msing': 956, 'kyak': 767, 'bocah': 204, 'paud': 1139, 'gede': 442, 'bloon': 196, 'wonggemblung': 1602, 'neng': 1018, 'yee': 1606, 'udeh': 1542, 'hemat': 507, 'hotel': 521, 'bwahahaahah': 241, 'rush': 1294, 'day': 306, 'gni': 461, 'toge': 1493, 'dksih': 350, 'trs': 1510, 'hp': 522, 'goblokny': 464, 'natural': 1007, 'juli': 625, 'yaelah': 1605, 'cuan': 288, 'tukang': 1527, 'ecer': 385, 'kond': 720, 'gas': 437, 'stock': 1405, 'banyakin': 125, 'ahahaaha': 20, 'trnyta': 1509, 'drone': 371, 'kelas': 677, 'ngoceh': 1045, 'kadrun': 635, 'meggunakan': 885, 'akal': 27, 'sehat': 1324, 'nyuri': 1085, 'berani': 159, 'manusia': 866, 'berahlaq': 158, 'ayo': 97, 'broow': 217, 'berantas': 160, 'nila': 1062, 'rusak': 1293, 'susu': 1421, 'belanga': 146, 'liberal': 815, 'kurikulum': 763, 'tambah': 1441, 'ajar': 25, 'rayu': 1261, 'hr': 524, 'rasuk': 1259, 'turuut': 1535, 'menyimaak': 906, 'gus': 477, 'dur': 382, 'repot': 1269, 'muhammadiyah': 969, 'ikadi': 541, 'prof': 1225, 'cholis': 267, 'naf': 988, 'cabut': 246, 'th': 1481, 'nu': 1073, 'wakil': 1580, 'cholil': 266, 'turun': 1534, 'truskan': 1513, 'dimcok': 341, 'kalang': 641, 'cecep': 254, 'selangkang': 1332, 'tangap': 1446, 'kritik': 749, 'nonton': 1069, 'bokep': 208, 'ruang': 1288, 'sidang': 1363, 'bwahaha': 240, 'bela': 143, 'rem': 1266, 'mprett': 951, 'urusin': 1560, 'kader': 633, 'kampanye': 648, 'diskusi': 345, 'sensasi': 1346, 'uunya': 1571, 'amat': 48, 'kakehan': 639, 'jepang': 606, 'spt': 1401, 'aborsi': 1, 'efek': 388, 'luar': 831, 'nikah': 1059, 'dibrantas': 331, 'tanda': 1444, 'jaman': 595, 'naudzubillah': 1008, 'innalilahi': 562, 'wa': 1577, 'inalilahi': 552, 'rooji': 1287, 'uun': 1570, 'oenggagas': 1088, 'plaku': 1196, 'mah': 842, 'tembak': 1460, 'ngomongin': 1048, 'pakek': 1122, 'kode': 715, 'etik': 400, 'missal': 920, 'sesuai': 1355, 'patok': 1137, 'nangkepnya': 998, 'bincang': 184, 'kurng': 764, 'kyk': 768, 'nunggu': 1074, 'selese': 1334, 'rifki': 1277, 'fauzi': 409, 'gilir': 452, 'ngusulin': 1055, 'kritisi': 750, 'benaar': 149, 'ginian': 455, 'nyampe': 1077, 'nalar': 991, 'hahha': 485, 'oposisi': 1102, 'payah': 1141, 'lot': 828, 'ahirnya': 21, 'kaya': 661, 'terus': 1476, 'islamabad': 571, 'belakang': 145, 'riza': 1281, 'kun': 762, 'azab': 99, 'xmbelgedesh': 1604, 'mitos': 921, 'gaung': 440, 'pondasi': 1207, 'khayal': 701, 'teori': 1467, 'banding': 118, 'jgn': 612, 'blue': 197, 'next': 1021, 'silah': 1367, 'pimpin': 1186, 'kawan': 659, 'dahulu': 294, 'drpd': 372, 'make': 851, 'praktis': 1216, 'arab': 77, 'bank': 122, 'konvensional': 737, 'qur': 1243, 'riba': 1273, 'injil': 561, 'ursury': 1558, 'tetep': 1479, 'dosa': 363, 'drun': 373, 'sebab': 1316, 'giring': 456, 'kiamat': 704, 'nnti': 1064, 'hamll': 492, 'dluaar': 355, 'nikaah': 1058, 'buru': 234, 'siri': 1371, 'celeng': 257, 'nyari': 1078, 'pkoknya': 1193, 'kitaa': 705, 'fatwa': 408, 'lurus': 835, 'wakl': 1581, 'ketua': 698, 'llos': 823, 'krna': 751, 'mrasa': 952, 'kuat': 755, 'bkuasa': 190, 'silaahkan': 1366, 'apadaya': 72, 'rakyt': 1251, 'hak': 486, 'bdoa': 136, 'jikaa': 614, 'bnar': 198, 'ituu': 582, 'smogaa': 1388, 'cucu': 289, 'brulang': 219, 'dluar': 356, 'jlas': 620, 'mnghamili': 942, 'mlakukan': 929, 'ddpan': 307, 'skalipun': 1377, 'dewi': 323, 'sriyati': 1402, 'ngedongeng': 1034, 'kyknya': 769, 'teriak': 1471, 'lgi': 808, 'teriakin': 1472, 'substansi': 1409, 'ckckck': 270, 'kasi': 654, 'kalah': 640, 'nyerang': 1081, 'personal': 1176, 'lgsg': 809, 'berita': 164, 'khusus': 703, 'rekomendasi': 1264, 'dokter': 361, 'liar': 812, 'nyalahin': 1076, 'sepenuh': 1348, 'syarat': 1429, 'kontra': 732, 'lembut': 804, 'dian': 327, 'chanel': 262, 'wafat': 1578, 'nabi': 985, 'kategori': 657, 'msk': 957, 'lho': 811, 'memang': 890, 'tunjuk': 1532, 'nyumpahin': 1084, 'gin': 454, 'ngucap': 1052, 'dzulfiqar': 383, 'farhan': 406, 'diamenyetujui': 326, 'bibir': 172, 'ditindaklanjuti': 348, 'nilai': 1063, 'norma': 1070, 'akar': 28, 'trmksh': 1508, 'wassalamu': 1587, 'alaikum': 34, 'permnedikbudristek': 1175, 'fokus': 414, 'latar': 788, 'penyelesaina': 1158, 'studi': 1406, 'cerita': 259, 'letak': 805, 'lahir': 772, 'atas': 86, 'pandang': 1126, 'kodill': 716, 'chanell': 263, 'sebelumya': 1317, 'bingung': 185, 'risikoberikhtilath': 1280, 'minggu': 918, 'gue': 473, 'sholat': 1361, 'jum': 627, 'imam': 546, 'khotbah': 702, 'tabayun': 1435, 'klaim': 708, 'hadeh': 482, 'nyesel': 1082, 'jumat': 628, 'mengmangtap': 898, 'kentu': 688, 'pola': 1201, 'sempit': 1340, 'budaya': 226, 'open': 1100, 'bo': 202, 'ane': 60, 'uin': 1544, 'pagi': 1117, 'kerudung': 694, 'malam': 856, 'warung': 1586, 'konyol': 738, 'hoi': 516, 'dengar': 317, 'goblog': 463, 'fix': 413, 'orng': 1106, 'kalau': 642, 'napsu': 1001, 'ingat': 558, 'kencing': 686, 'dianggep': 328, 'bab': 101, 'whyyposisi': 1589, 'buset': 236, 'fattah': 407, 'wnf': 1599, 'euy': 402, 'ngritik': 1050, 'homo': 518, 'cabul': 245, 'pondok': 1208, 'kdrt': 668, 'ayem': 96, 'nerbitin': 1020, 'yng': 1608, 'duli': 378, 'ban': 117, 'mentah': 902, 'acc': 4, 'ustad': 1564, 'habib': 480, 'ngeres': 1040, 'samping': 1305, 'melakukkan': 887, 'biasa': 171, 'nangiss': 996, 'seringkali': 1352, 'fahaman': 404, 'intrik': 566, 'politik': 1205, 'kesan': 695, 'burukk': 235, 'tokoh': 1494, 'publik': 1231, 'obyektif': 1087, 'bangsa': 120, 'unjuk': 1553, 'identitas': 534, 'adana': 7, 'garis': 435, 'arah': 78, 'menaggulangi': 892, 'pemuda': 1152, 'nahh': 989, 'nntinya': 1065, 'batas': 129, 'hidup': 510, 'sungguh': 1414, 'sesk': 1354, 'bujuk': 227, 'orang': 1103, 'culun': 290, 'gtu': 472, 'audio': 91, 'editingnya': 386, 'jancukk': 596, 'masak': 870, 'pribadi': 1221, 'ijin': 540, 'solusi': 1394, 'cocok': 277, 'mudah': 966, 'nuntut': 1075, 'cetek': 260, 'goyang': 470, 'lihat': 816, 'pariwisata': 1131, 'adem': 9, 'wisnutama': 1594, 'hebat': 505, 'kutik': 765, 'keliling': 678, 'tolol': 1496, 'milik': 917, 'konsevatif': 728, 'fundamental': 418, 'wkwkwwkwk': 1598, 'opini': 1101, 'verbal': 1572, 'non': 1068, 'panjenengan': 1127, 'ngasih': 1030, 'kembang': 684, 'fikir': 411, 'dangkal': 299, 'ppks': 1213, 'balik': 116, 'mendi': 893, 'borr': 212, 'resiko': 1270, 'udh': 1543, 'bodoamat': 205, 'uninstal': 1552, 'diksi': 340, 'meni': 899, 'bilang': 179, 'ko': 714, 'lulus': 833, 'matkul': 880, 'temu': 1464, 'oyo': 1113, 'alam': 35, 'mantan': 865, 'goa': 462, 'ancem': 55, 'niat': 1056, 'keliru': 679, 'dompleng': 362, 'riil': 1278, 'urgent': 1557, 'ks': 752, 'skrg': 1379, 'hambat': 490, 'kriteria': 748, 'dlsb': 353, 'korupsi': 743, 'sapi': 1310, 'kedok': 673, 'holaqoh': 517, 'juz': 631, 'amma': 52, 'om': 1096, 'produk': 1224, 'novel': 1071, 'brng': 216, 'curi': 291, 'woahh': 1600, 'parah': 1130, 'anjir': 66, 'diberitahukan': 330, 'aldo': 38, 'binar': 182, 'clear': 271, 'depak': 318, 'sm': 1385, 'kontak': 729, 'pisik': 1191, 'tawar': 1453, 'transaksi': 1502, 'ditawarin': 347, 'photo': 1181, 'telanjang': 1457, 'alat': 37, 'mampu': 859, 'alluxes': 44, 'ohh': 1090, 'nawarin': 1009, 'dijadiin': 336, 'awi': 93, 'asnawi': 83, 'dlu': 354, 'laporin': 784, 'catt': 252, 'calling': 248, 'literasi': 821, 'edukasi': 387, 'aufa': 92, 'billah': 180, 'tipe': 1490, 'mikirnya': 916, 'positiv': 1212, 'informasi': 557, 'pro': 1223, 'beban': 137, 'berfikirnya': 163, 'ato': 88, 'interface': 564, 'sadar': 1296, 'perbutan': 1160, 'judul': 624, 'tlg': 1492, 'ngeyel': 1042, 'munkin': 977, 'makarim': 850, 'sukak': 1413, 'wanita': 1584, 'disetubuhin': 344, 'laki': 773, 'berat': 161, 'ngasi': 1029, 'jaga': 589, 'jakar': 592, 'ngenyel': 1039, 'hadehh': 483, 'sayang': 1312, 'ribet': 1274, 'sono': 1396, 'sangkut': 1307, 'paut': 1140, 'lingkup': 819, 'pisah': 1190, 'gerbong': 446, 'kereta': 691, 'tunggang': 1530, 'lgbt': 807, 'beliau': 147, 'tanggung': 1447, 'semangat': 1337, 'harga': 498, 'mslhx': 959, 'adh': 10, 'tulis': 1528, 'legalx': 802, 'bungkus': 233, 'lollipop': 827, 'giur': 458, 'mahaciwi': 844, 'ojk': 1091, 'pinjol': 1187, 'pdhl': 1145, 'praktek': 1215, 'bunga': 232, 'tinghi': 1488, 'ngga': 1043, 'mikirin': 915, 'lampau': 776, 'guwe': 478, 'pikirin': 1184, 'konotasi': 722, 'tragis': 1501, 'negri': 1015, 'disamain': 343, 'apps': 75, 'install': 563, 'smartphone': 1386, 'hihihi': 511, 'kaedah': 636, 'sopan': 1397, 'tonton': 1497, 'narapidana': 1003, 'seprrti': 1349, 'comot': 280, 'pandai': 1125, 'musyawarah': 981, 'muhamdiah': 967, 'deal': 308, 'aj': 24, 'ancur': 56, 'iman': 547, 'becus': 139, 'ngajar': 1025, 'ngedidik': 1033, 'murid': 978, 'sen': 1341, 'babad': 102, 'musnah': 980, 'kucing': 757, 'serap': 1351, 'kontroversi': 735, 'negativ': 1013, 'lari': 786, 'wani': 1583, 'piro': 1189, 'jg': 610, 'doyan': 366, 'gara': 434, 'sedih': 1320, 'blh': 192, 'siswa': 1373, 'smester': 1387, 'uang': 1539, 'dmester': 357, 'blhkan': 193, 'ttap': 1516, 'mask': 873, 'bayar': 133, 'swasta': 1423, 'kopit': 739, 'pulih': 1233, 'ekonomi': 389, 'tua': 1519, 'mkn': 924, 'cm': 272, 'mksh': 927, 'thn': 1483, 'byr': 244, 'stengah': 1404, 'seluru': 1336, 'pilih': 1185, 'blhlkan': 194, 'smseter': 1389, 'mksih': 928, 'lancar': 777, 'bisnis': 188, 'hormat': 519, 'mundur': 976, 'mhn': 913, 'istilah': 575, 'matang': 877, 'nakarim': 990, 'survey': 1417, 'megang': 884, 'pundak': 1235, 'genit': 445, 'manggil': 862, 'syg': 1431, 'love': 829, 'you': 1609, 'gurau': 475, 'foto': 416, 'gemeteran': 443, 'aksi': 32, 'permendikbudristekdikti': 1174, 'syar': 1428, 'amburadul': 51, 'slesai': 1383, 'gawat': 441, 'daruat': 302, 'karenahukum': 652, 'ternak': 1474, 'lobang': 825, 'hidung': 509, 'pantat': 1128, 'lumayan': 834, 'hutang': 531, 'islami': 572, 'jaring': 597, 'kecebong': 671, 'bahagia': 110, 'gerebek': 447, 'ituh': 581, 'koteka': 746, 'myth': 984, 'randir': 1257, 'zinahnya': 1613, 'cebong': 253, 'ngotot': 1049, 'ledak': 797, 'populasi': 1209, 'nie': 1057, 'dias': 329, 'channel': 264, 'suupaya': 1422, 'muat': 963, 'kandung': 650, 'beuh': 168, 'purnomo': 1236, 'ntar': 1072, 'bentur': 157, 'hantar': 494, 'sembunyi': 1338, 'bayu': 134, 'hasanudin': 500, 'mksd': 926, 'fungsi': 419, 'benteng': 154, 'in': 551, 'other': 1111, 'side': 1364, 'scr': 1314, 'worth': 1603, 'it': 579, 'konfirmasi': 721, 'paten': 1136, 'dalam': 295, 'guna': 474, 'otoritas': 1112, 'vidio': 1575, 'siul': 1376, 'senggol': 1343, 'tugas': 1522, 'tentu': 1466, 'btw': 222, 'gaada': 421, 'kucingmasjid': 758, 'placur': 1195, 'berzinah': 167, 'bimbing': 181, 'terusin': 1477, 'dosenn': 365, 'kake': 638, 'sugiono': 1411, 'rajalela': 1248, 'mengecrott': 897, 'crott': 287, 'idham': 535, 'coy': 285, 'sok': 1393, 'jhon': 613, 'ghost': 450, 'ngapah': 1026, 'sosoh': 1398, 'dikit': 339, 'bik': 176, 'bnyak': 201, 'bolih': 210, 'cma': 273, 'bodoh': 206, 'puih': 1232, 'bulsit': 230, 'wiji': 1592, 'asih': 82, 'iri': 567, 'penuh': 1157, 'widi': 1591, 'sya': 1426, 'bani': 121, 'hh': 508, 'jjik': 616, 'mcm': 882, 'kangkang': 651, 'ijab': 539, 'sdah': 1315, 'lebih': 795, 'gaji': 428, 'bintang': 186, 'nangkep': 997, 'makna': 853, 'sampaiin': 1302, 'adap': 8, 'adab': 6, 'hitam': 515, 'abu': 2, 'sibuk': 1362, 'bisa': 187, 'habit': 481, 'gagal': 427, 'aku': 33, 'jaya': 601, 'rahayu': 1246, 'ayom': 98, 'pengaruh': 1153, 'barat': 126, 'enggak': 394, 'tara': 1451, 'gender': 444, 'ramah': 1253, 'online': 1099, 'jerit': 608, 'sakit': 1298, 'merem': 908, 'melek': 888, 'nyirnyir': 1083, 'mrk': 954, 'kerja': 692, 'mutarbalik': 982, 'mabok': 839, 'mesyumm': 912, 'parte': 1133, 'konthol': 731, 'pk': 1192, 'rujuk': 1292, 'etika': 401, 'ngurus': 1053, 'mmbuat': 932, 'bumbu': 231, 'sperti': 1399, 'grnerasi': 471, 'muda': 965, 'kemayu': 683, 'muas': 962, 'boneka': 211, 'barbie': 127, 'colet': 279, 'ngojek': 1046, 'acak': 3, 'khan': 699, 'puas': 1230, 'manipulatif': 864, 'trauma': 1503, 'wibawa': 1590, 'berfikir': 162, 'ngelakuin': 1037, 'jessi': 609, 'complicated': 281, 'putus': 1239, 'landas': 778, 'pajang': 1119, 'zer': 1610, 'mosok': 949, 'emak': 391, 'jilbab': 615, 'omongane': 1097, 'rek': 1263, 'bayangin': 132, 'nek': 1016, 'ibu': 532, 'adik': 11, 'jamah': 594, 'wkwkkwkw': 1596, 'iye': 584, 'ngaca': 1023, 'napa': 1000, 'woi': 1601, 'kalu': 646, 'ngatur': 1031, 'kers': 693, 'data': 305, 'perspektif': 1177, 'kompor': 719, 'merehabilitas': 907}\n"
     ]
    }
   ],
   "source": [
    "# You can use the below syntax to see the vocabulary that it has learned from the corpus\n",
    "print(tfidf_vect.vocabulary_)"
   ]
  },
  {
   "cell_type": "code",
   "execution_count": 12,
   "id": "71bb3c52",
   "metadata": {},
   "outputs": [
    {
     "name": "stdout",
     "output_type": "stream",
     "text": [
      "jumlah data training : \n",
      "262\n",
      "\n",
      "jumlah data test : \n",
      "66\n",
      "\n"
     ]
    }
   ],
   "source": [
    "print(\"jumlah data training : \")\n",
    "print(len(train_X))\n",
    "print()\n",
    "\n",
    "print(\"jumlah data test : \") \n",
    "print(len(test_X))\n",
    "print() "
   ]
  },
  {
   "cell_type": "code",
   "execution_count": 13,
   "id": "db705eb2",
   "metadata": {},
   "outputs": [],
   "source": [
    "train_X_tfidf = tfidf_vect.transform(df_train['Sentiment'])\n",
    "test_X_tfidf = tfidf_vect.transform(df_test['Sentiment'])"
   ]
  },
  {
   "cell_type": "code",
   "execution_count": 14,
   "id": "74b91766",
   "metadata": {},
   "outputs": [],
   "source": [
    "# tfidf_mat = tfidf_vect.transform(df['Komentar_Final']).toarray()\n",
    "tfidf_mat = tfidf_vect.transform(df_train['Sentiment']).toarray()\n",
    "# tfidf_mat = tfidf_vect.transform(df_test['Sentiment']).toarray()\n",
    "\n",
    "terms = tfidf_vect.get_feature_names()\n",
    "\n",
    "# menjumlahkan tfidf dari tiap kata/term di semua dataset\n",
    "sums = tfidf_mat.sum(axis=0)\n",
    "\n",
    "# menampilkan jumlah tfidf dari tiap kata yang ada di dataset\n",
    "data = []\n",
    "for col, term in enumerate(terms):\n",
    "    data.append((term, sums[col] ))\n",
    "\n",
    "ranking = pd.DataFrame(data, columns=['term','TF-IDF'])\n"
   ]
  },
  {
   "cell_type": "code",
   "execution_count": 15,
   "id": "ca63398d",
   "metadata": {},
   "outputs": [
    {
     "name": "stdout",
     "output_type": "stream",
     "text": [
      "          term     TF-IDF\n",
      "1524      tuju  10.356437\n",
      "89        atur   9.029143\n",
      "359         dn   8.812536\n",
      "690      keras   7.990903\n",
      "1328   seksual   7.100409\n",
      "...        ...        ...\n",
      "1242        qt   0.000000\n",
      "1231    publik   0.000000\n",
      "625       juli   0.000000\n",
      "145   belakang   0.000000\n",
      "628      jumat   0.000000\n",
      "\n",
      "[1614 rows x 2 columns]\n"
     ]
    }
   ],
   "source": [
    "ranking_br=ranking.sort_values('TF-IDF', ascending=False)\n",
    "print(ranking_br)"
   ]
  },
  {
   "cell_type": "code",
   "execution_count": 16,
   "id": "fe677181",
   "metadata": {},
   "outputs": [],
   "source": [
    "ranking_br.to_csv(r'tfidf_traintiga.csv')"
   ]
  },
  {
   "cell_type": "code",
   "execution_count": 17,
   "id": "0c57411c",
   "metadata": {},
   "outputs": [
    {
     "data": {
      "text/html": [
       "<style>#sk-container-id-3 {color: black;background-color: white;}#sk-container-id-3 pre{padding: 0;}#sk-container-id-3 div.sk-toggleable {background-color: white;}#sk-container-id-3 label.sk-toggleable__label {cursor: pointer;display: block;width: 100%;margin-bottom: 0;padding: 0.3em;box-sizing: border-box;text-align: center;}#sk-container-id-3 label.sk-toggleable__label-arrow:before {content: \"▸\";float: left;margin-right: 0.25em;color: #696969;}#sk-container-id-3 label.sk-toggleable__label-arrow:hover:before {color: black;}#sk-container-id-3 div.sk-estimator:hover label.sk-toggleable__label-arrow:before {color: black;}#sk-container-id-3 div.sk-toggleable__content {max-height: 0;max-width: 0;overflow: hidden;text-align: left;background-color: #f0f8ff;}#sk-container-id-3 div.sk-toggleable__content pre {margin: 0.2em;color: black;border-radius: 0.25em;background-color: #f0f8ff;}#sk-container-id-3 input.sk-toggleable__control:checked~div.sk-toggleable__content {max-height: 200px;max-width: 100%;overflow: auto;}#sk-container-id-3 input.sk-toggleable__control:checked~label.sk-toggleable__label-arrow:before {content: \"▾\";}#sk-container-id-3 div.sk-estimator input.sk-toggleable__control:checked~label.sk-toggleable__label {background-color: #d4ebff;}#sk-container-id-3 div.sk-label input.sk-toggleable__control:checked~label.sk-toggleable__label {background-color: #d4ebff;}#sk-container-id-3 input.sk-hidden--visually {border: 0;clip: rect(1px 1px 1px 1px);clip: rect(1px, 1px, 1px, 1px);height: 1px;margin: -1px;overflow: hidden;padding: 0;position: absolute;width: 1px;}#sk-container-id-3 div.sk-estimator {font-family: monospace;background-color: #f0f8ff;border: 1px dotted black;border-radius: 0.25em;box-sizing: border-box;margin-bottom: 0.5em;}#sk-container-id-3 div.sk-estimator:hover {background-color: #d4ebff;}#sk-container-id-3 div.sk-parallel-item::after {content: \"\";width: 100%;border-bottom: 1px solid gray;flex-grow: 1;}#sk-container-id-3 div.sk-label:hover label.sk-toggleable__label {background-color: #d4ebff;}#sk-container-id-3 div.sk-serial::before {content: \"\";position: absolute;border-left: 1px solid gray;box-sizing: border-box;top: 0;bottom: 0;left: 50%;z-index: 0;}#sk-container-id-3 div.sk-serial {display: flex;flex-direction: column;align-items: center;background-color: white;padding-right: 0.2em;padding-left: 0.2em;position: relative;}#sk-container-id-3 div.sk-item {position: relative;z-index: 1;}#sk-container-id-3 div.sk-parallel {display: flex;align-items: stretch;justify-content: center;background-color: white;position: relative;}#sk-container-id-3 div.sk-item::before, #sk-container-id-3 div.sk-parallel-item::before {content: \"\";position: absolute;border-left: 1px solid gray;box-sizing: border-box;top: 0;bottom: 0;left: 50%;z-index: -1;}#sk-container-id-3 div.sk-parallel-item {display: flex;flex-direction: column;z-index: 1;position: relative;background-color: white;}#sk-container-id-3 div.sk-parallel-item:first-child::after {align-self: flex-end;width: 50%;}#sk-container-id-3 div.sk-parallel-item:last-child::after {align-self: flex-start;width: 50%;}#sk-container-id-3 div.sk-parallel-item:only-child::after {width: 0;}#sk-container-id-3 div.sk-dashed-wrapped {border: 1px dashed gray;margin: 0 0.4em 0.5em 0.4em;box-sizing: border-box;padding-bottom: 0.4em;background-color: white;}#sk-container-id-3 div.sk-label label {font-family: monospace;font-weight: bold;display: inline-block;line-height: 1.2em;}#sk-container-id-3 div.sk-label-container {text-align: center;}#sk-container-id-3 div.sk-container {/* jupyter's `normalize.less` sets `[hidden] { display: none; }` but bootstrap.min.css set `[hidden] { display: none !important; }` so we also need the `!important` here to be able to override the default hidden behavior on the sphinx rendered scikit-learn.org. See: https://github.com/scikit-learn/scikit-learn/issues/21755 */display: inline-block !important;position: relative;}#sk-container-id-3 div.sk-text-repr-fallback {display: none;}</style><div id=\"sk-container-id-3\" class=\"sk-top-container\"><div class=\"sk-text-repr-fallback\"><pre>MultinomialNB()</pre><b>In a Jupyter environment, please rerun this cell to show the HTML representation or trust the notebook. <br />On GitHub, the HTML representation is unable to render, please try loading this page with nbviewer.org.</b></div><div class=\"sk-container\" hidden><div class=\"sk-item\"><div class=\"sk-estimator sk-toggleable\"><input class=\"sk-toggleable__control sk-hidden--visually\" id=\"sk-estimator-id-3\" type=\"checkbox\" checked><label for=\"sk-estimator-id-3\" class=\"sk-toggleable__label sk-toggleable__label-arrow\">MultinomialNB</label><div class=\"sk-toggleable__content\"><pre>MultinomialNB()</pre></div></div></div></div></div>"
      ],
      "text/plain": [
       "MultinomialNB()"
      ]
     },
     "execution_count": 17,
     "metadata": {},
     "output_type": "execute_result"
    }
   ],
   "source": [
    "from sklearn.naive_bayes import MultinomialNB\n",
    "model=MultinomialNB()\n",
    "model.fit(train_X_tfidf,df_train['Label'])"
   ]
  },
  {
   "cell_type": "code",
   "execution_count": 18,
   "id": "d5c28531",
   "metadata": {},
   "outputs": [
    {
     "name": "stdout",
     "output_type": "stream",
     "text": [
      "53.03 %\n"
     ]
    }
   ],
   "source": [
    "predict = model.predict(test_X_tfidf)\n",
    "acc = (accuracy_score(df_test['Label'],predict))*100\n",
    "\n",
    "print(round(acc,2),'%')"
   ]
  },
  {
   "cell_type": "code",
   "execution_count": 19,
   "id": "a6bd19c4",
   "metadata": {},
   "outputs": [
    {
     "name": "stdout",
     "output_type": "stream",
     "text": [
      "Confusion Matrix : \n",
      "[[ 1 17  0]\n",
      " [ 0 34  0]\n",
      " [ 0 14  0]]\n"
     ]
    }
   ],
   "source": [
    "conf_matrix = confusion_matrix(df_test['Label'], predict)\n",
    "print(\"Confusion Matrix : \") \n",
    "print(conf_matrix)"
   ]
  },
  {
   "cell_type": "code",
   "execution_count": 20,
   "id": "100f0558",
   "metadata": {},
   "outputs": [
    {
     "data": {
      "image/png": "[encoded data removed]",
      "text/plain": [
       "<Figure size 800x500 with 2 Axes>"
      ]
     },
     "metadata": {},
     "output_type": "display_data"
    }
   ],
   "source": [
    "import seaborn as sns\n",
    "f, ax = plt.subplots(figsize=(8,5))\n",
    "sns.heatmap(confusion_matrix(df_test['Label'], predict), annot=True, fmt=\".0f\",ax=ax)\n",
    "plt.xlabel(\"predict\")\n",
    "plt.ylabel(\"actual\")\n",
    "plt.savefig(r\"confusion matrix.png\")\n",
    "plt.show()"
   ]
  },
  {
   "cell_type": "code",
   "execution_count": 21,
   "id": "a30104e2",
   "metadata": {},
   "outputs": [
    {
     "name": "stdout",
     "output_type": "stream",
     "text": [
      "\n",
      "Here is the classification report:\n",
      "              precision    recall  f1-score   support\n",
      "\n",
      "          -1       1.00      0.06      0.11        18\n",
      "           0       0.52      1.00      0.69        34\n",
      "           1       0.00      0.00      0.00        14\n",
      "\n",
      "    accuracy                           0.53        66\n",
      "   macro avg       0.51      0.35      0.26        66\n",
      "weighted avg       0.54      0.53      0.38        66\n",
      "\n"
     ]
    },
    {
     "name": "stderr",
     "output_type": "stream",
     "text": [
      "C:\\Users\\ASUS\\.conda\\envs\\aslan\\lib\\site-packages\\sklearn\\metrics\\_classification.py:1334: UndefinedMetricWarning: Precision and F-score are ill-defined and being set to 0.0 in labels with no predicted samples. Use `zero_division` parameter to control this behavior.\n",
      "  _warn_prf(average, modifier, msg_start, len(result))\n",
      "C:\\Users\\ASUS\\.conda\\envs\\aslan\\lib\\site-packages\\sklearn\\metrics\\_classification.py:1334: UndefinedMetricWarning: Precision and F-score are ill-defined and being set to 0.0 in labels with no predicted samples. Use `zero_division` parameter to control this behavior.\n",
      "  _warn_prf(average, modifier, msg_start, len(result))\n",
      "C:\\Users\\ASUS\\.conda\\envs\\aslan\\lib\\site-packages\\sklearn\\metrics\\_classification.py:1334: UndefinedMetricWarning: Precision and F-score are ill-defined and being set to 0.0 in labels with no predicted samples. Use `zero_division` parameter to control this behavior.\n",
      "  _warn_prf(average, modifier, msg_start, len(result))\n"
     ]
    }
   ],
   "source": [
    "from sklearn.metrics import classification_report\n",
    "# Accuracy, Precision, Recall, f1-score\n",
    "print (\"\\nHere is the classification report:\") \n",
    "print (classification_report(df_test['Label'], predict))"
   ]
  },
  {
   "cell_type": "code",
   "execution_count": 22,
   "id": "9647f6af",
   "metadata": {},
   "outputs": [],
   "source": [
    "# menghitung jumlah label positif dan negatif pada data test setelah hasil prediksi model\n",
    "test_after_nb_count_label = collections.Counter(predict)\n",
    "juml_pos_nb= test_after_nb_count_label[label_positive]\n",
    "juml_net_nb= test_after_nb_count_label[label_netral]\n",
    "juml_neg_nb = test_after_nb_count_label[label_negative]"
   ]
  },
  {
   "cell_type": "code",
   "execution_count": 23,
   "id": "4456a51d",
   "metadata": {},
   "outputs": [
    {
     "data": {
      "image/png": "[encoded data removed]",
      "text/plain": [
       "<Figure size 640x480 with 1 Axes>"
      ]
     },
     "metadata": {},
     "output_type": "display_data"
    }
   ],
   "source": [
    "#pie chart analisis sentimen\n",
    "labels = ['Positive','Netral','Negative']\n",
    "Category = [juml_pos_nb,juml_net_nb, juml_neg_nb]\n",
    "fig, ax = plt.subplots()\n",
    "color = ['blue','green', 'red']\n",
    "plt.pie(Category, labels=labels, colors=color,startangle=90, shadow=True, autopct='%1.2f%%', explode=(0.1, 0, 0.1))\n",
    "plt.title('Diagram Lingkar Data Hasil Prediksi Klasifikasi Naive Bayes')\n",
    "plt.legend()\n",
    "plt.savefig(r\"pie_nbdtiga.png\")\n",
    "plt.show()"
   ]
  },
  {
   "cell_type": "code",
   "execution_count": 24,
   "id": "45f480d9",
   "metadata": {},
   "outputs": [
    {
     "data": {
      "text/html": [
       "<div>\n",
       "<style scoped>\n",
       "    .dataframe tbody tr th:only-of-type {\n",
       "        vertical-align: middle;\n",
       "    }\n",
       "\n",
       "    .dataframe tbody tr th {\n",
       "        vertical-align: top;\n",
       "    }\n",
       "\n",
       "    .dataframe thead th {\n",
       "        text-align: right;\n",
       "    }\n",
       "</style>\n",
       "<table border=\"1\" class=\"dataframe\">\n",
       "  <thead>\n",
       "    <tr style=\"text-align: right;\">\n",
       "      <th></th>\n",
       "      <th>Unnamed: 0</th>\n",
       "      <th>term</th>\n",
       "      <th>TF-IDF</th>\n",
       "    </tr>\n",
       "  </thead>\n",
       "  <tbody>\n",
       "    <tr>\n",
       "      <th>0</th>\n",
       "      <td>1524</td>\n",
       "      <td>tuju</td>\n",
       "      <td>10.356437</td>\n",
       "    </tr>\n",
       "    <tr>\n",
       "      <th>1</th>\n",
       "      <td>89</td>\n",
       "      <td>atur</td>\n",
       "      <td>9.029143</td>\n",
       "    </tr>\n",
       "    <tr>\n",
       "      <th>2</th>\n",
       "      <td>359</td>\n",
       "      <td>dn</td>\n",
       "      <td>8.812536</td>\n",
       "    </tr>\n",
       "    <tr>\n",
       "      <th>3</th>\n",
       "      <td>690</td>\n",
       "      <td>keras</td>\n",
       "      <td>7.990903</td>\n",
       "    </tr>\n",
       "    <tr>\n",
       "      <th>4</th>\n",
       "      <td>1328</td>\n",
       "      <td>seksual</td>\n",
       "      <td>7.100409</td>\n",
       "    </tr>\n",
       "    <tr>\n",
       "      <th>5</th>\n",
       "      <td>1612</td>\n",
       "      <td>zinah</td>\n",
       "      <td>6.808739</td>\n",
       "    </tr>\n",
       "    <tr>\n",
       "      <th>6</th>\n",
       "      <td>1412</td>\n",
       "      <td>suka</td>\n",
       "      <td>6.730848</td>\n",
       "    </tr>\n",
       "    <tr>\n",
       "      <th>7</th>\n",
       "      <td>740</td>\n",
       "      <td>korban</td>\n",
       "      <td>6.557147</td>\n",
       "    </tr>\n",
       "    <tr>\n",
       "      <th>8</th>\n",
       "      <td>221</td>\n",
       "      <td>bsa</td>\n",
       "      <td>6.443663</td>\n",
       "    </tr>\n",
       "    <tr>\n",
       "      <th>9</th>\n",
       "      <td>70</td>\n",
       "      <td>aoa</td>\n",
       "      <td>6.075945</td>\n",
       "    </tr>\n",
       "    <tr>\n",
       "      <th>10</th>\n",
       "      <td>1011</td>\n",
       "      <td>ndak</td>\n",
       "      <td>5.695357</td>\n",
       "    </tr>\n",
       "    <tr>\n",
       "      <th>11</th>\n",
       "      <td>711</td>\n",
       "      <td>klw</td>\n",
       "      <td>5.327396</td>\n",
       "    </tr>\n",
       "    <tr>\n",
       "      <th>12</th>\n",
       "      <td>1171</td>\n",
       "      <td>permendikbud</td>\n",
       "      <td>5.112840</td>\n",
       "    </tr>\n",
       "    <tr>\n",
       "      <th>13</th>\n",
       "      <td>429</td>\n",
       "      <td>gak</td>\n",
       "      <td>4.770833</td>\n",
       "    </tr>\n",
       "    <tr>\n",
       "      <th>14</th>\n",
       "      <td>1104</td>\n",
       "      <td>org</td>\n",
       "      <td>4.586925</td>\n",
       "    </tr>\n",
       "  </tbody>\n",
       "</table>\n",
       "</div>"
      ],
      "text/plain": [
       "    Unnamed: 0          term     TF-IDF\n",
       "0         1524          tuju  10.356437\n",
       "1           89          atur   9.029143\n",
       "2          359            dn   8.812536\n",
       "3          690         keras   7.990903\n",
       "4         1328       seksual   7.100409\n",
       "5         1612         zinah   6.808739\n",
       "6         1412          suka   6.730848\n",
       "7          740        korban   6.557147\n",
       "8          221           bsa   6.443663\n",
       "9           70           aoa   6.075945\n",
       "10        1011          ndak   5.695357\n",
       "11         711           klw   5.327396\n",
       "12        1171  permendikbud   5.112840\n",
       "13         429           gak   4.770833\n",
       "14        1104           org   4.586925"
      ]
     },
     "execution_count": 24,
     "metadata": {},
     "output_type": "execute_result"
    }
   ],
   "source": [
    "kamus_kata = pd.read_csv(r'tfidf_traintiga.csv')\n",
    "kamus_kata.head(15)"
   ]
  },
  {
   "cell_type": "code",
   "execution_count": 25,
   "id": "99bbf312",
   "metadata": {},
   "outputs": [
    {
     "data": {
      "text/html": [
       "<div>\n",
       "<style scoped>\n",
       "    .dataframe tbody tr th:only-of-type {\n",
       "        vertical-align: middle;\n",
       "    }\n",
       "\n",
       "    .dataframe tbody tr th {\n",
       "        vertical-align: top;\n",
       "    }\n",
       "\n",
       "    .dataframe thead th {\n",
       "        text-align: right;\n",
       "    }\n",
       "</style>\n",
       "<table border=\"1\" class=\"dataframe\">\n",
       "  <thead>\n",
       "    <tr style=\"text-align: right;\">\n",
       "      <th></th>\n",
       "      <th>term</th>\n",
       "      <th>TF-IDF</th>\n",
       "    </tr>\n",
       "  </thead>\n",
       "  <tbody>\n",
       "    <tr>\n",
       "      <th>0</th>\n",
       "      <td>tuju</td>\n",
       "      <td>10.356437</td>\n",
       "    </tr>\n",
       "    <tr>\n",
       "      <th>1</th>\n",
       "      <td>atur</td>\n",
       "      <td>9.029143</td>\n",
       "    </tr>\n",
       "    <tr>\n",
       "      <th>2</th>\n",
       "      <td>dn</td>\n",
       "      <td>8.812536</td>\n",
       "    </tr>\n",
       "    <tr>\n",
       "      <th>3</th>\n",
       "      <td>keras</td>\n",
       "      <td>7.990903</td>\n",
       "    </tr>\n",
       "    <tr>\n",
       "      <th>4</th>\n",
       "      <td>seksual</td>\n",
       "      <td>7.100409</td>\n",
       "    </tr>\n",
       "    <tr>\n",
       "      <th>5</th>\n",
       "      <td>zinah</td>\n",
       "      <td>6.808739</td>\n",
       "    </tr>\n",
       "    <tr>\n",
       "      <th>6</th>\n",
       "      <td>suka</td>\n",
       "      <td>6.730848</td>\n",
       "    </tr>\n",
       "    <tr>\n",
       "      <th>7</th>\n",
       "      <td>korban</td>\n",
       "      <td>6.557147</td>\n",
       "    </tr>\n",
       "    <tr>\n",
       "      <th>8</th>\n",
       "      <td>bsa</td>\n",
       "      <td>6.443663</td>\n",
       "    </tr>\n",
       "    <tr>\n",
       "      <th>9</th>\n",
       "      <td>aoa</td>\n",
       "      <td>6.075945</td>\n",
       "    </tr>\n",
       "    <tr>\n",
       "      <th>10</th>\n",
       "      <td>ndak</td>\n",
       "      <td>5.695357</td>\n",
       "    </tr>\n",
       "    <tr>\n",
       "      <th>11</th>\n",
       "      <td>klw</td>\n",
       "      <td>5.327396</td>\n",
       "    </tr>\n",
       "    <tr>\n",
       "      <th>12</th>\n",
       "      <td>permendikbud</td>\n",
       "      <td>5.112840</td>\n",
       "    </tr>\n",
       "    <tr>\n",
       "      <th>13</th>\n",
       "      <td>gak</td>\n",
       "      <td>4.770833</td>\n",
       "    </tr>\n",
       "    <tr>\n",
       "      <th>14</th>\n",
       "      <td>org</td>\n",
       "      <td>4.586925</td>\n",
       "    </tr>\n",
       "  </tbody>\n",
       "</table>\n",
       "</div>"
      ],
      "text/plain": [
       "            term     TF-IDF\n",
       "0           tuju  10.356437\n",
       "1           atur   9.029143\n",
       "2             dn   8.812536\n",
       "3          keras   7.990903\n",
       "4        seksual   7.100409\n",
       "5          zinah   6.808739\n",
       "6           suka   6.730848\n",
       "7         korban   6.557147\n",
       "8            bsa   6.443663\n",
       "9            aoa   6.075945\n",
       "10          ndak   5.695357\n",
       "11           klw   5.327396\n",
       "12  permendikbud   5.112840\n",
       "13           gak   4.770833\n",
       "14           org   4.586925"
      ]
     },
     "execution_count": 25,
     "metadata": {},
     "output_type": "execute_result"
    }
   ],
   "source": [
    "del kamus_kata['Unnamed: 0']\n",
    "kamus_kata.head(15)"
   ]
  },
  {
   "cell_type": "code",
   "execution_count": 26,
   "id": "598217b4",
   "metadata": {},
   "outputs": [],
   "source": [
    "import pickle\n",
    "pickle.dump(model,\n",
    "            open('model_nbtiga.pkl', 'wb'),\n",
    "            protocol=4)"
   ]
  },
  {
   "cell_type": "code",
   "execution_count": 27,
   "id": "d949506f",
   "metadata": {},
   "outputs": [],
   "source": [
    "pickle.dump(tfidf_vect,\n",
    "            open('tfidf.pkl', 'wb'),\n",
    "            protocol=4)"
   ]
  },
  {
   "cell_type": "code",
   "execution_count": null,
   "id": "33347876",
   "metadata": {},
   "outputs": [],
   "source": []
  }
 ],
 "metadata": {
  "kernelspec": {
   "display_name": "Python 3 (ipykernel)",
   "language": "python",
   "name": "python3"
  },
  "language_info": {
   "codemirror_mode": {
    "name": "ipython",
    "version": 3
   },
   "file_extension": ".py",
   "mimetype": "text/x-python",
   "name": "python",
   "nbconvert_exporter": "python",
   "pygments_lexer": "ipython3",
   "version": "3.9.12"
  }
 },
 "nbformat": 4,
 "nbformat_minor": 5
}
