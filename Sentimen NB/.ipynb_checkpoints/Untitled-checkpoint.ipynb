{
 "cells": [
  {
   "cell_type": "code",
   "execution_count": 8,
   "id": "1fe1b8c7",
   "metadata": {},
   "outputs": [
    {
     "name": "stdout",
     "output_type": "stream",
     "text": [
      "0      lha kekerasan seksual kan mg definisinya meman...\n",
      "1      mendekati zina aturan pasal dl sat demokrasi t...\n",
      "2                    law is an art rinci mudah dibelokan\n",
      "3                         tetapkan kekerasan seksualitas\n",
      "4                 lbih cock diterapkan dikemendikbud dpr\n",
      "                             ...                        \n",
      "641    udh ganti menterinya sekolah pendidikan ambura...\n",
      "642                                   hukum mati selesai\n",
      "643                                  laki laki perempuan\n",
      "644                                                germo\n",
      "645    gawat daruat dikampus karenahukum jalan nadim ...\n",
      "Name: Komentar, Length: 646, dtype: object\n"
     ]
    },
    {
     "ename": "NameError",
     "evalue": "name 'Komentar' is not defined",
     "output_type": "error",
     "traceback": [
      "\u001b[1;31m---------------------------------------------------------------------------\u001b[0m",
      "\u001b[1;31mNameError\u001b[0m                                 Traceback (most recent call last)",
      "Input \u001b[1;32mIn [8]\u001b[0m, in \u001b[0;36m<cell line: 82>\u001b[1;34m()\u001b[0m\n\u001b[0;32m     79\u001b[0m     teks \u001b[38;5;241m=\u001b[39m teks\u001b[38;5;241m.\u001b[39mapply(\u001b[38;5;124m\"\u001b[39m\u001b[38;5;124m \u001b[39m\u001b[38;5;124m\"\u001b[39m\u001b[38;5;241m.\u001b[39mjoin)\n\u001b[0;32m     80\u001b[0m     \u001b[38;5;28mprint\u001b[39m(teks)\n\u001b[1;32m---> 82\u001b[0m review_dict \u001b[38;5;241m=\u001b[39m {\u001b[38;5;124m'\u001b[39m\u001b[38;5;124mulasan\u001b[39m\u001b[38;5;124m'\u001b[39m: \u001b[43mKomentar\u001b[49m, \u001b[38;5;124m'\u001b[39m\u001b[38;5;124msentimen\u001b[39m\u001b[38;5;124m'\u001b[39m : Label}\n\u001b[0;32m     83\u001b[0m df \u001b[38;5;241m=\u001b[39m pd\u001b[38;5;241m.\u001b[39mDataFrame(review_dict, columns \u001b[38;5;241m=\u001b[39m [\u001b[38;5;124m'\u001b[39m\u001b[38;5;124mulasan\u001b[39m\u001b[38;5;124m'\u001b[39m, \u001b[38;5;124m'\u001b[39m\u001b[38;5;124msentimen\u001b[39m\u001b[38;5;124m'\u001b[39m])\n\u001b[0;32m     84\u001b[0m \u001b[38;5;28mprint\u001b[39m(df\u001b[38;5;241m.\u001b[39minfo())\n",
      "\u001b[1;31mNameError\u001b[0m: name 'Komentar' is not defined"
     ]
    }
   ],
   "source": [
    "import re\n",
    "import nltk\n",
    "import pandas as pd\n",
    "\n",
    "String = \"Buku ini selalu di rekomendasi,... *sebagai salah satu novel terbaik, #BukuBagus\" \\\n",
    "         \"@rifqifai Woaaahh.. udah habiissss.. n penasaran lanjutannya \" \\\n",
    "         \" huuu,,, huu,,, HuuuuSudah lama nggak menangis sambil tertawa karena membaca buku. ==a\" \\\n",
    "         \"Saya terkagum-kagum dengan pribadi Nyai Ontosoroh, yaitu Sunikem\" \\\n",
    "         \" persahabatan yang mereka jalin sungguh manis sekali... :)\" \\\n",
    "         \" 'Kenapa baru baca sekarang!?!?!?!?' Memang buku yang sungguh luar biasa. \\^_^/\" \\\n",
    "         \"Bintang 5 dech. Bukuu yang benar-benar membuat saya termotivasi, Membuat saya hangat *etcieh.\" \\\n",
    "         \"Wow.. Cuma itu yang bisa aku ucapkan setelah menamatkan novel ini.\" \\\n",
    "         \" Ngilu baca bukunya, hiks hiks hiks.\"\n",
    "\n",
    "def casefolding(review):\n",
    "    review = review.lower()\n",
    "    return review\n",
    "\n",
    "def tokenize(review):\n",
    "    token = nltk.word_tokenize(review)\n",
    "    return token\n",
    "\n",
    "def filtering(review):\n",
    "    # Remove angka termasuk angka yang berada dalam string\n",
    "    # Remove non ASCII chars\n",
    "    review = re.sub(r'[^\\x00-\\x7f]', r'', review)\n",
    "    review = re.sub(r'(\\\\u[0-9A-Fa-f]+)', r'', review)\n",
    "    review = re.sub(r\"[^A-Za-z0-9^,!.\\/'+-=]\", \" \", review)\n",
    "    review = re.sub(r'\\\\u\\w\\w\\w\\w', '', review)\n",
    "    # Remove link web\n",
    "    review = re.sub(r'http\\S+', '', review)\n",
    "    # Remove @username\n",
    "    review = re.sub('@[^\\s]+', '', review)\n",
    "    # Remove #tagger\n",
    "    review = re.sub(r'#([^\\s]+)', '', review)\n",
    "    # Remove simbol, angka dan karakter aneh\n",
    "    review = re.sub(r\"[.,:;+!\\-_<^/=?\\\"'\\(\\)\\d\\*]\", \" \", review)\n",
    "    return review\n",
    "\n",
    "def replaceThreeOrMore(review):\n",
    "    # Pattern to look for three or more repetitions of any character, including newlines (contoh goool -> gol).\n",
    "    pattern = re.compile(r\"(.)\\1{1,}\", re.DOTALL)\n",
    "    return pattern.sub(r\"\\1\", review)\n",
    "\n",
    "def convertToSlangword(review):\n",
    "    kamus_slangword = eval(open(\"combined_slang_words.txt\").read()) # Membuka dictionary slangword\n",
    "    pattern = re.compile(r'\\b( ' + '|'.join (kamus_slangword.keys())+r')\\b') # Search pola kata (contoh kpn -> kapan)\n",
    "    content = []\n",
    "    for kata in review:\n",
    "        filteredSlang = pattern.sub(lambda x: kamus_slangword[x.group()],kata) # Replace slangword berdasarkan pola review yg telah ditentukan\n",
    "        content.append(filteredSlang.lower())\n",
    "    review = content\n",
    "    return review\n",
    "\n",
    "def removeStopword(review):\n",
    "    stopwords = open('combined_stop_words.txt', 'r').read().split()\n",
    "    content = []\n",
    "    filteredtext = [word for word in review.split() if word not in stopwords]\n",
    "    content.append(\" \".join(filteredtext))\n",
    "    review = content\n",
    "    return review\n",
    "\n",
    "# stringData = casefolding(String)\n",
    "# print (stringData)\n",
    "\n",
    "data = pd.read_csv('polemik.csv', encoding='latin-1')\n",
    "# Keeping only the neccessary columns\n",
    "datasets = [data]\n",
    "   \n",
    "for teks in datasets:\n",
    "    label = teks['Label']\n",
    "    teks = teks['Komentar'].apply(casefolding)\n",
    "    teks = teks.apply(filtering)\n",
    "    teks = teks.apply(replaceThreeOrMore)\n",
    "    teks = teks.apply(tokenize)\n",
    "    teks = teks.apply(convertToSlangword)\n",
    "    teks = teks.apply(\" \".join)\n",
    "    teks = teks.apply(removeStopword)\n",
    "    teks = teks.apply(\" \".join)\n",
    "    print(teks)\n",
    "\n",
    "review_dict = {'ulasan': teks, 'sentimen' : label}\n",
    "df = pd.DataFrame(review_dict, columns = ['ulasan', 'sentimen'])\n",
    "print(df.info())\n",
    "df.to_csv('data-bersih.csv', sep= ',' , encoding='utf-8')"
   ]
  },
  {
   "cell_type": "code",
   "execution_count": null,
   "id": "506f8766",
   "metadata": {},
   "outputs": [],
   "source": [
    "import pandas as pd\n",
    "df = pd.read_csv(r'preprocessing.csv')\n",
    "df.head()"
   ]
  },
  {
   "cell_type": "code",
   "execution_count": null,
   "id": "313e9785",
   "metadata": {},
   "outputs": [],
   "source": [
    "df['STOP_REMOVAL']"
   ]
  },
  {
   "cell_type": "code",
   "execution_count": null,
   "id": "74510b6a",
   "metadata": {},
   "outputs": [],
   "source": [
    "kata = df['STOP_REMOVAL']\n",
    "print('kata typo : ', kata)\n",
    "print('koreksi : ', correction([kata]))"
   ]
  },
  {
   "cell_type": "code",
   "execution_count": null,
   "id": "2786a884",
   "metadata": {},
   "outputs": [],
   "source": []
  }
 ],
 "metadata": {
  "kernelspec": {
   "display_name": "Python 3 (ipykernel)",
   "language": "python",
   "name": "python3"
  },
  "language_info": {
   "codemirror_mode": {
    "name": "ipython",
    "version": 3
   },
   "file_extension": ".py",
   "mimetype": "text/x-python",
   "name": "python",
   "nbconvert_exporter": "python",
   "pygments_lexer": "ipython3",
   "version": "3.9.12"
  }
 },
 "nbformat": 4,
 "nbformat_minor": 5
}
