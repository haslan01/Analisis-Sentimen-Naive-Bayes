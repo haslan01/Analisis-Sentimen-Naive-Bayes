{
 "cells": [
  {
   "cell_type": "markdown",
   "id": "8aba8a36-963b-49af-9315-818524614fd1",
   "metadata": {},
   "source": [
    "## GANTI KATA TIDAK BAKU (*SLANG WORD*)"
   ]
  },
  {
   "cell_type": "code",
   "execution_count": 1,
   "id": "5ba8ab71-5020-453f-8226-267876193389",
   "metadata": {},
   "outputs": [],
   "source": [
    "import json\n",
    "\n",
    "# Menggunakan kamus kata gaul Salsabila \n",
    "with open(\"kamus/nasalsabila_kamus-alay/_json_colloquial-indonesian-lexicon.txt\") as f:\n",
    "    data = f.read()\n",
    "# Rekonstruksi data sebagai 'dict'\n",
    "lookp_dict = json.loads(data)"
   ]
  },
  {
   "cell_type": "code",
   "execution_count": 2,
   "id": "532250de-08c3-410b-80ed-4f8d63ce0b2a",
   "metadata": {},
   "outputs": [],
   "source": [
    "import os\n",
    "\n",
    "# Pastikan untuk mengganti path dengan absolute path direktorimu jika baris berikut dijalankan ulang, atau restart kernel.\n",
    "\n",
    "base = \"PreProcessing.txt\"\n",
    "\n",
    "# Buka file input file dan baca baris per baris\n",
    "input_stream = open(base, 'r')\n",
    "input_stream_lines = input_stream.readlines()\n",
    "input_stream.close() "
   ]
  },
  {
   "cell_type": "code",
   "execution_count": 3,
   "id": "197f5976-7df1-42b7-8942-e15e5223b13c",
   "metadata": {},
   "outputs": [],
   "source": [
    "# Memisahkan teks dan label dari input\n",
    "text = []\n",
    "for line in input_stream_lines:\n",
    "    text.append(line.split(\"\\t\")[0])\n",
    "    \n",
    "label = []\n",
    "for line in input_stream_lines:\n",
    "    label.append(line.split(\"\\t\")[1])"
   ]
  },
  {
   "cell_type": "code",
   "execution_count": 4,
   "id": "d80aeb4b-34bf-474b-b433-a43d481af398",
   "metadata": {},
   "outputs": [],
   "source": [
    "# Buat file output\n",
    "output = os.path.splitext(base)[0]+'-slang.txt'\n",
    "\n",
    "with open(output, 'w') as f:\n",
    "    # Mengganti setiap kata yang ditemukan di input file dan menggantinya dengan kata pengganti di kamus\n",
    "    for line in text:\n",
    "        res = \" \".join(lookp_dict.get(ele, ele) for ele in line.split())\n",
    "        # Tulis setiap baris yang sudah dikoreksi ke file output\n",
    "        f.write(str(res)+'\\n')"
   ]
  },
  {
   "cell_type": "code",
   "execution_count": null,
   "id": "fdcbe28b-0ed1-4047-a0f4-dc92afabc3d7",
   "metadata": {},
   "outputs": [],
   "source": []
  },
  {
   "cell_type": "markdown",
   "id": "78f79da6-ad1e-4115-8954-b2193a028946",
   "metadata": {},
   "source": [
    "## HAPUS *STOP WORDS*"
   ]
  },
  {
   "cell_type": "code",
   "execution_count": 5,
   "id": "cb68e339-070a-41e4-9707-e6534062462c",
   "metadata": {},
   "outputs": [],
   "source": [
    "base\n",
    "\n",
    "# Buka file input file dan membacanya 'kata per kata' di tiap baris\n",
    "input_stream = open(base, 'r')\n",
    "lines = input_stream.read().splitlines()\n",
    "input_stream.close()\n",
    "\n",
    "# Menggunakan Wahid ID-Stopwords\n",
    "# Pastikan untuk mengganti path dengan absolute path direktorimu jika baris berikut dijalankan ulang, atau restart kernel.\n",
    "with open('kamus/masdevid_id-stopwords/id.stopwords.02.01.2016.txt') as f:\n",
    "    custom_stop = f.read().splitlines()"
   ]
  },
  {
   "cell_type": "code",
   "execution_count": 6,
   "id": "3b4e2876-6a51-4fcf-ac27-9b37b2c309d6",
   "metadata": {},
   "outputs": [
    {
     "name": "stdout",
     "output_type": "stream",
     "text": [
      "['ada', 'adalah', 'adanya']\n"
     ]
    }
   ],
   "source": [
    "from nltk.corpus import stopwords\n",
    "\n",
    "# memanfaatkan modul stopwords NLTK untuk menggunakan stopwords kustom\n",
    "stopwords = stopwords.words('indonesian')\n",
    "stopwords.clear()\n",
    "stopwords.extend(custom_stop)\n",
    "print(stopwords[:3])"
   ]
  },
  {
   "cell_type": "code",
   "execution_count": 21,
   "id": "1d4c61cd-b79e-437d-8224-15759688c823",
   "metadata": {},
   "outputs": [],
   "source": [
    "# Buat file output\n",
    "output = os.path.splitext(base)[0]+'-stop.txt'\n",
    "\n",
    "count=0\n",
    "with open(output, 'w') as f:\n",
    "    # Menghapus stopword yang ditemukan di setiap baris\n",
    "    for line in lines:\n",
    "        s = \"\"\n",
    "        words = line.split()\n",
    "        for w in words:\n",
    "            if not w in stopwords:\n",
    "                s+=str(w)+\" \"\n",
    "        res = s\n",
    "\n",
    "        # Tulis setiap baris yang sudah dikoreksi ke file output\n",
    "        # dan mengembalikan label awal\n",
    "        f.write(str(res+\"\\t\"+label[count]))\n",
    "        count+=1"
   ]
  },
  {
   "cell_type": "code",
   "execution_count": null,
   "id": "5c883c8b",
   "metadata": {},
   "outputs": [],
   "source": [
    "# Buat file output\n",
    "output = os.path.splitext(base)[0]+'-stop.csv'\n",
    "\n",
    "count=0\n",
    "with open(output, 'w') as f:\n",
    "    # Menghapus stopword yang ditemukan di setiap baris\n",
    "    for line in lines:\n",
    "        s = \"\"\n",
    "        words = line.split()\n",
    "        for w in words:\n",
    "            if not w in stopwords:\n",
    "                s+=str(w)+\" \"\n",
    "        res = s\n",
    "\n",
    "        # Tulis setiap baris yang sudah dikoreksi ke file output\n",
    "        # dan mengembalikan label awal\n",
    "        f.write(str(res+\"\\t\"+label[count]))\n",
    "        count+=1"
   ]
  }
 ],
 "metadata": {
  "kernelspec": {
   "display_name": "Python 3 (ipykernel)",
   "language": "python",
   "name": "python3"
  },
  "language_info": {
   "codemirror_mode": {
    "name": "ipython",
    "version": 3
   },
   "file_extension": ".py",
   "mimetype": "text/x-python",
   "name": "python",
   "nbconvert_exporter": "python",
   "pygments_lexer": "ipython3",
   "version": "3.9.12"
  }
 },
 "nbformat": 4,
 "nbformat_minor": 5
}
