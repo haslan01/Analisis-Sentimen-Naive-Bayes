{
 "cells": [
  {
   "cell_type": "code",
   "execution_count": 1,
   "id": "813297a7",
   "metadata": {},
   "outputs": [],
   "source": [
    "import numpy as np\n",
    "import pandas as pd\n",
    "import matplotlib.pyplot as plt\n",
    "import seaborn as sns\n",
    "import collections\n",
    "from sklearn import model_selection\n",
    "from sklearn.model_selection import cross_val_score\n",
    "from sklearn.model_selection import train_test_split\n",
    "from sklearn.feature_extraction.text import TfidfVectorizer\n",
    "from sklearn.metrics import accuracy_score\n",
    "from sklearn.metrics import confusion_matrix\n",
    "import nltk\n"
   ]
  },
  {
   "cell_type": "code",
   "execution_count": 2,
   "id": "b1376fb6",
   "metadata": {},
   "outputs": [],
   "source": [
    "label_positive = 1 \n",
    "label_netral = 0\n",
    "label_negative = -1"
   ]
  },
  {
   "cell_type": "code",
   "execution_count": 3,
   "id": "5bc132fc",
   "metadata": {},
   "outputs": [
    {
     "data": {
      "text/html": [
       "<div>\n",
       "<style scoped>\n",
       "    .dataframe tbody tr th:only-of-type {\n",
       "        vertical-align: middle;\n",
       "    }\n",
       "\n",
       "    .dataframe tbody tr th {\n",
       "        vertical-align: top;\n",
       "    }\n",
       "\n",
       "    .dataframe thead th {\n",
       "        text-align: right;\n",
       "    }\n",
       "</style>\n",
       "<table border=\"1\" class=\"dataframe\">\n",
       "  <thead>\n",
       "    <tr style=\"text-align: right;\">\n",
       "      <th></th>\n",
       "      <th>Unnamed: 0</th>\n",
       "      <th>Komentar</th>\n",
       "      <th>Label</th>\n",
       "      <th>TOKENIZATION</th>\n",
       "      <th>STOP_REMOVAL</th>\n",
       "      <th>STEMMER</th>\n",
       "      <th>Komentar_Final</th>\n",
       "    </tr>\n",
       "  </thead>\n",
       "  <tbody>\n",
       "    <tr>\n",
       "      <th>0</th>\n",
       "      <td>0</td>\n",
       "      <td>keras seksual definisi tuju korban logika nola...</td>\n",
       "      <td>positif</td>\n",
       "      <td>['kekerasan', 'seksual', 'kan', 'memang', 'def...</td>\n",
       "      <td>['kekerasan', 'seksual', 'definisinya', 'perse...</td>\n",
       "      <td>['keras', 'seksual', 'definisi', 'tuju', 'korb...</td>\n",
       "      <td>keras seksual definisi tuju korban logika nola...</td>\n",
       "    </tr>\n",
       "    <tr>\n",
       "      <th>1</th>\n",
       "      <td>1</td>\n",
       "      <td>dekat zinah atur pasal dl sat demokrasi tdak l...</td>\n",
       "      <td>positif</td>\n",
       "      <td>['mendekati', 'zinah', 'aturan', 'pasal', 'dl'...</td>\n",
       "      <td>['mendekati', 'zinah', 'aturan', 'pasal', 'dl'...</td>\n",
       "      <td>['dekat', 'zinah', 'atur', 'pasal', 'dl', 'sat...</td>\n",
       "      <td>dekat zinah atur pasal dl sat demokrasi tdak l...</td>\n",
       "    </tr>\n",
       "    <tr>\n",
       "      <th>2</th>\n",
       "      <td>2</td>\n",
       "      <td>law is art rinci gampang belok</td>\n",
       "      <td>positif</td>\n",
       "      <td>['law', 'is', 'an', 'art', 'rinci', 'gampang',...</td>\n",
       "      <td>['law', 'is', 'art', 'rinci', 'gampang', 'dibe...</td>\n",
       "      <td>['law', 'is', 'art', 'rinci', 'gampang', 'belok']</td>\n",
       "      <td>law is art rinci gampang belok</td>\n",
       "    </tr>\n",
       "    <tr>\n",
       "      <th>3</th>\n",
       "      <td>3</td>\n",
       "      <td>tetap keras seksualitas</td>\n",
       "      <td>negatif</td>\n",
       "      <td>['tetapkan', 'kekerasan', 'seksualitas']</td>\n",
       "      <td>['tetapkan', 'kekerasan', 'seksualitas']</td>\n",
       "      <td>['tetap', 'keras', 'seksualitas']</td>\n",
       "      <td>tetap keras seksualitas</td>\n",
       "    </tr>\n",
       "    <tr>\n",
       "      <th>4</th>\n",
       "      <td>4</td>\n",
       "      <td>cocok terap dikemendikbud dpr</td>\n",
       "      <td>positif</td>\n",
       "      <td>['cocok', 'diterapkan', 'dikemendikbud', 'dpr']</td>\n",
       "      <td>['cocok', 'diterapkan', 'dikemendikbud', 'dpr']</td>\n",
       "      <td>['cocok', 'terap', 'dikemendikbud', 'dpr']</td>\n",
       "      <td>cocok terap dikemendikbud dpr</td>\n",
       "    </tr>\n",
       "  </tbody>\n",
       "</table>\n",
       "</div>"
      ],
      "text/plain": [
       "   Unnamed: 0                                           Komentar    Label  \\\n",
       "0           0  keras seksual definisi tuju korban logika nola...  positif   \n",
       "1           1  dekat zinah atur pasal dl sat demokrasi tdak l...  positif   \n",
       "2           2                     law is art rinci gampang belok  positif   \n",
       "3           3                            tetap keras seksualitas  negatif   \n",
       "4           4                      cocok terap dikemendikbud dpr  positif   \n",
       "\n",
       "                                        TOKENIZATION  \\\n",
       "0  ['kekerasan', 'seksual', 'kan', 'memang', 'def...   \n",
       "1  ['mendekati', 'zinah', 'aturan', 'pasal', 'dl'...   \n",
       "2  ['law', 'is', 'an', 'art', 'rinci', 'gampang',...   \n",
       "3           ['tetapkan', 'kekerasan', 'seksualitas']   \n",
       "4    ['cocok', 'diterapkan', 'dikemendikbud', 'dpr']   \n",
       "\n",
       "                                        STOP_REMOVAL  \\\n",
       "0  ['kekerasan', 'seksual', 'definisinya', 'perse...   \n",
       "1  ['mendekati', 'zinah', 'aturan', 'pasal', 'dl'...   \n",
       "2  ['law', 'is', 'art', 'rinci', 'gampang', 'dibe...   \n",
       "3           ['tetapkan', 'kekerasan', 'seksualitas']   \n",
       "4    ['cocok', 'diterapkan', 'dikemendikbud', 'dpr']   \n",
       "\n",
       "                                             STEMMER  \\\n",
       "0  ['keras', 'seksual', 'definisi', 'tuju', 'korb...   \n",
       "1  ['dekat', 'zinah', 'atur', 'pasal', 'dl', 'sat...   \n",
       "2  ['law', 'is', 'art', 'rinci', 'gampang', 'belok']   \n",
       "3                  ['tetap', 'keras', 'seksualitas']   \n",
       "4         ['cocok', 'terap', 'dikemendikbud', 'dpr']   \n",
       "\n",
       "                                      Komentar_Final  \n",
       "0  keras seksual definisi tuju korban logika nola...  \n",
       "1  dekat zinah atur pasal dl sat demokrasi tdak l...  \n",
       "2                     law is art rinci gampang belok  \n",
       "3                            tetap keras seksualitas  \n",
       "4                      cocok terap dikemendikbud dpr  "
      ]
     },
     "execution_count": 3,
     "metadata": {},
     "output_type": "execute_result"
    }
   ],
   "source": [
    "df = pd.read_csv(r'lexiconLabelling.csv')\n",
    "df.head()"
   ]
  },
  {
   "cell_type": "code",
   "execution_count": 4,
   "id": "fdc764b6",
   "metadata": {},
   "outputs": [
    {
     "data": {
      "text/html": [
       "<div>\n",
       "<style scoped>\n",
       "    .dataframe tbody tr th:only-of-type {\n",
       "        vertical-align: middle;\n",
       "    }\n",
       "\n",
       "    .dataframe tbody tr th {\n",
       "        vertical-align: top;\n",
       "    }\n",
       "\n",
       "    .dataframe thead th {\n",
       "        text-align: right;\n",
       "    }\n",
       "</style>\n",
       "<table border=\"1\" class=\"dataframe\">\n",
       "  <thead>\n",
       "    <tr style=\"text-align: right;\">\n",
       "      <th></th>\n",
       "      <th>Komentar</th>\n",
       "      <th>Label</th>\n",
       "      <th>TOKENIZATION</th>\n",
       "      <th>STEMMER</th>\n",
       "      <th>Komentar_Final</th>\n",
       "    </tr>\n",
       "  </thead>\n",
       "  <tbody>\n",
       "    <tr>\n",
       "      <th>0</th>\n",
       "      <td>keras seksual definisi tuju korban logika nola...</td>\n",
       "      <td>positif</td>\n",
       "      <td>['kekerasan', 'seksual', 'kan', 'memang', 'def...</td>\n",
       "      <td>['keras', 'seksual', 'definisi', 'tuju', 'korb...</td>\n",
       "      <td>keras seksual definisi tuju korban logika nola...</td>\n",
       "    </tr>\n",
       "    <tr>\n",
       "      <th>1</th>\n",
       "      <td>dekat zinah atur pasal dl sat demokrasi tdak l...</td>\n",
       "      <td>positif</td>\n",
       "      <td>['mendekati', 'zinah', 'aturan', 'pasal', 'dl'...</td>\n",
       "      <td>['dekat', 'zinah', 'atur', 'pasal', 'dl', 'sat...</td>\n",
       "      <td>dekat zinah atur pasal dl sat demokrasi tdak l...</td>\n",
       "    </tr>\n",
       "    <tr>\n",
       "      <th>2</th>\n",
       "      <td>law is art rinci gampang belok</td>\n",
       "      <td>positif</td>\n",
       "      <td>['law', 'is', 'an', 'art', 'rinci', 'gampang',...</td>\n",
       "      <td>['law', 'is', 'art', 'rinci', 'gampang', 'belok']</td>\n",
       "      <td>law is art rinci gampang belok</td>\n",
       "    </tr>\n",
       "    <tr>\n",
       "      <th>3</th>\n",
       "      <td>tetap keras seksualitas</td>\n",
       "      <td>negatif</td>\n",
       "      <td>['tetapkan', 'kekerasan', 'seksualitas']</td>\n",
       "      <td>['tetap', 'keras', 'seksualitas']</td>\n",
       "      <td>tetap keras seksualitas</td>\n",
       "    </tr>\n",
       "    <tr>\n",
       "      <th>4</th>\n",
       "      <td>cocok terap dikemendikbud dpr</td>\n",
       "      <td>positif</td>\n",
       "      <td>['cocok', 'diterapkan', 'dikemendikbud', 'dpr']</td>\n",
       "      <td>['cocok', 'terap', 'dikemendikbud', 'dpr']</td>\n",
       "      <td>cocok terap dikemendikbud dpr</td>\n",
       "    </tr>\n",
       "  </tbody>\n",
       "</table>\n",
       "</div>"
      ],
      "text/plain": [
       "                                            Komentar    Label  \\\n",
       "0  keras seksual definisi tuju korban logika nola...  positif   \n",
       "1  dekat zinah atur pasal dl sat demokrasi tdak l...  positif   \n",
       "2                     law is art rinci gampang belok  positif   \n",
       "3                            tetap keras seksualitas  negatif   \n",
       "4                      cocok terap dikemendikbud dpr  positif   \n",
       "\n",
       "                                        TOKENIZATION  \\\n",
       "0  ['kekerasan', 'seksual', 'kan', 'memang', 'def...   \n",
       "1  ['mendekati', 'zinah', 'aturan', 'pasal', 'dl'...   \n",
       "2  ['law', 'is', 'an', 'art', 'rinci', 'gampang',...   \n",
       "3           ['tetapkan', 'kekerasan', 'seksualitas']   \n",
       "4    ['cocok', 'diterapkan', 'dikemendikbud', 'dpr']   \n",
       "\n",
       "                                             STEMMER  \\\n",
       "0  ['keras', 'seksual', 'definisi', 'tuju', 'korb...   \n",
       "1  ['dekat', 'zinah', 'atur', 'pasal', 'dl', 'sat...   \n",
       "2  ['law', 'is', 'art', 'rinci', 'gampang', 'belok']   \n",
       "3                  ['tetap', 'keras', 'seksualitas']   \n",
       "4         ['cocok', 'terap', 'dikemendikbud', 'dpr']   \n",
       "\n",
       "                                      Komentar_Final  \n",
       "0  keras seksual definisi tuju korban logika nola...  \n",
       "1  dekat zinah atur pasal dl sat demokrasi tdak l...  \n",
       "2                     law is art rinci gampang belok  \n",
       "3                            tetap keras seksualitas  \n",
       "4                      cocok terap dikemendikbud dpr  "
      ]
     },
     "execution_count": 4,
     "metadata": {},
     "output_type": "execute_result"
    }
   ],
   "source": [
    "df = df.drop(df.columns[[0, 4]], axis=1)\n",
    "df.head()"
   ]
  },
  {
   "cell_type": "code",
   "execution_count": 5,
   "id": "255f5c7b",
   "metadata": {},
   "outputs": [],
   "source": [
    "# Split into train and test data\n",
    "\n",
    "train_X, test_X, train_Y, test_Y = model_selection.train_test_split(df['Komentar_Final'], df['Label'], test_size = 0.2,random_state = 20)\n",
    "# random_state = 20 menyatakan kita akan mendapatkan output yang sama dengan saat pertama kali membuat pemisahan."
   ]
  },
  {
   "cell_type": "code",
   "execution_count": 6,
   "id": "b5062ee0",
   "metadata": {},
   "outputs": [],
   "source": [
    "df_train = pd.DataFrame()\n",
    "df_train['Sentiment'] = train_X\n",
    "df_train['Label'] = train_Y\n",
    "\n",
    "df_test = pd.DataFrame()\n",
    "df_test['Sentiment'] = test_X\n",
    "df_test['Label'] = test_Y"
   ]
  },
  {
   "cell_type": "code",
   "execution_count": 7,
   "id": "91af29ed",
   "metadata": {},
   "outputs": [],
   "source": [
    "def convert(label):\n",
    "  if label == 'positif':\n",
    "    return 1\n",
    "  elif label == 'netral':\n",
    "    return 0\n",
    "  else:\n",
    "    return -1\n",
    "\n",
    "df_train['Label'] = train_Y.apply(convert)\n",
    "df_test['Label'] = test_Y.apply(convert)"
   ]
  },
  {
   "cell_type": "code",
   "execution_count": 8,
   "id": "0f72922b",
   "metadata": {},
   "outputs": [
    {
     "data": {
      "text/html": [
       "<style>#sk-container-id-1 {color: black;background-color: white;}#sk-container-id-1 pre{padding: 0;}#sk-container-id-1 div.sk-toggleable {background-color: white;}#sk-container-id-1 label.sk-toggleable__label {cursor: pointer;display: block;width: 100%;margin-bottom: 0;padding: 0.3em;box-sizing: border-box;text-align: center;}#sk-container-id-1 label.sk-toggleable__label-arrow:before {content: \"▸\";float: left;margin-right: 0.25em;color: #696969;}#sk-container-id-1 label.sk-toggleable__label-arrow:hover:before {color: black;}#sk-container-id-1 div.sk-estimator:hover label.sk-toggleable__label-arrow:before {color: black;}#sk-container-id-1 div.sk-toggleable__content {max-height: 0;max-width: 0;overflow: hidden;text-align: left;background-color: #f0f8ff;}#sk-container-id-1 div.sk-toggleable__content pre {margin: 0.2em;color: black;border-radius: 0.25em;background-color: #f0f8ff;}#sk-container-id-1 input.sk-toggleable__control:checked~div.sk-toggleable__content {max-height: 200px;max-width: 100%;overflow: auto;}#sk-container-id-1 input.sk-toggleable__control:checked~label.sk-toggleable__label-arrow:before {content: \"▾\";}#sk-container-id-1 div.sk-estimator input.sk-toggleable__control:checked~label.sk-toggleable__label {background-color: #d4ebff;}#sk-container-id-1 div.sk-label input.sk-toggleable__control:checked~label.sk-toggleable__label {background-color: #d4ebff;}#sk-container-id-1 input.sk-hidden--visually {border: 0;clip: rect(1px 1px 1px 1px);clip: rect(1px, 1px, 1px, 1px);height: 1px;margin: -1px;overflow: hidden;padding: 0;position: absolute;width: 1px;}#sk-container-id-1 div.sk-estimator {font-family: monospace;background-color: #f0f8ff;border: 1px dotted black;border-radius: 0.25em;box-sizing: border-box;margin-bottom: 0.5em;}#sk-container-id-1 div.sk-estimator:hover {background-color: #d4ebff;}#sk-container-id-1 div.sk-parallel-item::after {content: \"\";width: 100%;border-bottom: 1px solid gray;flex-grow: 1;}#sk-container-id-1 div.sk-label:hover label.sk-toggleable__label {background-color: #d4ebff;}#sk-container-id-1 div.sk-serial::before {content: \"\";position: absolute;border-left: 1px solid gray;box-sizing: border-box;top: 0;bottom: 0;left: 50%;z-index: 0;}#sk-container-id-1 div.sk-serial {display: flex;flex-direction: column;align-items: center;background-color: white;padding-right: 0.2em;padding-left: 0.2em;position: relative;}#sk-container-id-1 div.sk-item {position: relative;z-index: 1;}#sk-container-id-1 div.sk-parallel {display: flex;align-items: stretch;justify-content: center;background-color: white;position: relative;}#sk-container-id-1 div.sk-item::before, #sk-container-id-1 div.sk-parallel-item::before {content: \"\";position: absolute;border-left: 1px solid gray;box-sizing: border-box;top: 0;bottom: 0;left: 50%;z-index: -1;}#sk-container-id-1 div.sk-parallel-item {display: flex;flex-direction: column;z-index: 1;position: relative;background-color: white;}#sk-container-id-1 div.sk-parallel-item:first-child::after {align-self: flex-end;width: 50%;}#sk-container-id-1 div.sk-parallel-item:last-child::after {align-self: flex-start;width: 50%;}#sk-container-id-1 div.sk-parallel-item:only-child::after {width: 0;}#sk-container-id-1 div.sk-dashed-wrapped {border: 1px dashed gray;margin: 0 0.4em 0.5em 0.4em;box-sizing: border-box;padding-bottom: 0.4em;background-color: white;}#sk-container-id-1 div.sk-label label {font-family: monospace;font-weight: bold;display: inline-block;line-height: 1.2em;}#sk-container-id-1 div.sk-label-container {text-align: center;}#sk-container-id-1 div.sk-container {/* jupyter's `normalize.less` sets `[hidden] { display: none; }` but bootstrap.min.css set `[hidden] { display: none !important; }` so we also need the `!important` here to be able to override the default hidden behavior on the sphinx rendered scikit-learn.org. See: https://github.com/scikit-learn/scikit-learn/issues/21755 */display: inline-block !important;position: relative;}#sk-container-id-1 div.sk-text-repr-fallback {display: none;}</style><div id=\"sk-container-id-1\" class=\"sk-top-container\"><div class=\"sk-text-repr-fallback\"><pre>TfidfVectorizer(max_features=5000)</pre><b>In a Jupyter environment, please rerun this cell to show the HTML representation or trust the notebook. <br />On GitHub, the HTML representation is unable to render, please try loading this page with nbviewer.org.</b></div><div class=\"sk-container\" hidden><div class=\"sk-item\"><div class=\"sk-estimator sk-toggleable\"><input class=\"sk-toggleable__control sk-hidden--visually\" id=\"sk-estimator-id-1\" type=\"checkbox\" checked><label for=\"sk-estimator-id-1\" class=\"sk-toggleable__label sk-toggleable__label-arrow\">TfidfVectorizer</label><div class=\"sk-toggleable__content\"><pre>TfidfVectorizer(max_features=5000)</pre></div></div></div></div></div>"
      ],
      "text/plain": [
       "TfidfVectorizer(max_features=5000)"
      ]
     },
     "execution_count": 8,
     "metadata": {},
     "output_type": "execute_result"
    }
   ],
   "source": [
    "# TF-IDF\n",
    "tfidf_vect = TfidfVectorizer(max_features = 5000)\n",
    "# tfidf_vect.fit(df_train['Sentiment'])\n",
    "tfidf_vect.fit(df['Komentar_Final'])\n"
   ]
  },
  {
   "cell_type": "code",
   "execution_count": 9,
   "id": "71d60b7b",
   "metadata": {},
   "outputs": [
    {
     "data": {
      "text/html": [
       "<style>#sk-container-id-2 {color: black;background-color: white;}#sk-container-id-2 pre{padding: 0;}#sk-container-id-2 div.sk-toggleable {background-color: white;}#sk-container-id-2 label.sk-toggleable__label {cursor: pointer;display: block;width: 100%;margin-bottom: 0;padding: 0.3em;box-sizing: border-box;text-align: center;}#sk-container-id-2 label.sk-toggleable__label-arrow:before {content: \"▸\";float: left;margin-right: 0.25em;color: #696969;}#sk-container-id-2 label.sk-toggleable__label-arrow:hover:before {color: black;}#sk-container-id-2 div.sk-estimator:hover label.sk-toggleable__label-arrow:before {color: black;}#sk-container-id-2 div.sk-toggleable__content {max-height: 0;max-width: 0;overflow: hidden;text-align: left;background-color: #f0f8ff;}#sk-container-id-2 div.sk-toggleable__content pre {margin: 0.2em;color: black;border-radius: 0.25em;background-color: #f0f8ff;}#sk-container-id-2 input.sk-toggleable__control:checked~div.sk-toggleable__content {max-height: 200px;max-width: 100%;overflow: auto;}#sk-container-id-2 input.sk-toggleable__control:checked~label.sk-toggleable__label-arrow:before {content: \"▾\";}#sk-container-id-2 div.sk-estimator input.sk-toggleable__control:checked~label.sk-toggleable__label {background-color: #d4ebff;}#sk-container-id-2 div.sk-label input.sk-toggleable__control:checked~label.sk-toggleable__label {background-color: #d4ebff;}#sk-container-id-2 input.sk-hidden--visually {border: 0;clip: rect(1px 1px 1px 1px);clip: rect(1px, 1px, 1px, 1px);height: 1px;margin: -1px;overflow: hidden;padding: 0;position: absolute;width: 1px;}#sk-container-id-2 div.sk-estimator {font-family: monospace;background-color: #f0f8ff;border: 1px dotted black;border-radius: 0.25em;box-sizing: border-box;margin-bottom: 0.5em;}#sk-container-id-2 div.sk-estimator:hover {background-color: #d4ebff;}#sk-container-id-2 div.sk-parallel-item::after {content: \"\";width: 100%;border-bottom: 1px solid gray;flex-grow: 1;}#sk-container-id-2 div.sk-label:hover label.sk-toggleable__label {background-color: #d4ebff;}#sk-container-id-2 div.sk-serial::before {content: \"\";position: absolute;border-left: 1px solid gray;box-sizing: border-box;top: 0;bottom: 0;left: 50%;z-index: 0;}#sk-container-id-2 div.sk-serial {display: flex;flex-direction: column;align-items: center;background-color: white;padding-right: 0.2em;padding-left: 0.2em;position: relative;}#sk-container-id-2 div.sk-item {position: relative;z-index: 1;}#sk-container-id-2 div.sk-parallel {display: flex;align-items: stretch;justify-content: center;background-color: white;position: relative;}#sk-container-id-2 div.sk-item::before, #sk-container-id-2 div.sk-parallel-item::before {content: \"\";position: absolute;border-left: 1px solid gray;box-sizing: border-box;top: 0;bottom: 0;left: 50%;z-index: -1;}#sk-container-id-2 div.sk-parallel-item {display: flex;flex-direction: column;z-index: 1;position: relative;background-color: white;}#sk-container-id-2 div.sk-parallel-item:first-child::after {align-self: flex-end;width: 50%;}#sk-container-id-2 div.sk-parallel-item:last-child::after {align-self: flex-start;width: 50%;}#sk-container-id-2 div.sk-parallel-item:only-child::after {width: 0;}#sk-container-id-2 div.sk-dashed-wrapped {border: 1px dashed gray;margin: 0 0.4em 0.5em 0.4em;box-sizing: border-box;padding-bottom: 0.4em;background-color: white;}#sk-container-id-2 div.sk-label label {font-family: monospace;font-weight: bold;display: inline-block;line-height: 1.2em;}#sk-container-id-2 div.sk-label-container {text-align: center;}#sk-container-id-2 div.sk-container {/* jupyter's `normalize.less` sets `[hidden] { display: none; }` but bootstrap.min.css set `[hidden] { display: none !important; }` so we also need the `!important` here to be able to override the default hidden behavior on the sphinx rendered scikit-learn.org. See: https://github.com/scikit-learn/scikit-learn/issues/21755 */display: inline-block !important;position: relative;}#sk-container-id-2 div.sk-text-repr-fallback {display: none;}</style><div id=\"sk-container-id-2\" class=\"sk-top-container\"><div class=\"sk-text-repr-fallback\"><pre>TfidfVectorizer(max_features=5000)</pre><b>In a Jupyter environment, please rerun this cell to show the HTML representation or trust the notebook. <br />On GitHub, the HTML representation is unable to render, please try loading this page with nbviewer.org.</b></div><div class=\"sk-container\" hidden><div class=\"sk-item\"><div class=\"sk-estimator sk-toggleable\"><input class=\"sk-toggleable__control sk-hidden--visually\" id=\"sk-estimator-id-2\" type=\"checkbox\" checked><label for=\"sk-estimator-id-2\" class=\"sk-toggleable__label sk-toggleable__label-arrow\">TfidfVectorizer</label><div class=\"sk-toggleable__content\"><pre>TfidfVectorizer(max_features=5000)</pre></div></div></div></div></div>"
      ],
      "text/plain": [
       "TfidfVectorizer(max_features=5000)"
      ]
     },
     "execution_count": 9,
     "metadata": {},
     "output_type": "execute_result"
    }
   ],
   "source": [
    "tfidf_vect"
   ]
  },
  {
   "cell_type": "code",
   "execution_count": 10,
   "id": "afcbc5a3",
   "metadata": {},
   "outputs": [
    {
     "name": "stdout",
     "output_type": "stream",
     "text": [
      "\n",
      "selected words as feature : \n",
      "----------------------------\n",
      "['abai', 'aborsi', 'ada', 'adan', 'adh', 'adil', 'adl', 'adu', 'aduh', 'advokasi', 'adzab', 'agama', 'agamais', 'ahahaha', 'ahklak', 'ahli', 'ajar', 'aju', 'akai', 'akal', 'akar', 'akhirat', 'akhsan', 'akibat', 'aksi', 'alah', 'alaikum', 'alami', 'alat', 'aldo', 'alesanya', 'alhamdulilah', 'alias', 'alih', 'aluxes', 'amal', 'aman', 'amat', 'ambigu', 'ambil', 'amburadul', 'amin', 'anak', 'ancam', 'anda', 'andarwati', 'andi', 'ane', 'anehny', 'angaran', 'angota', 'angotanya', 'anjur', 'anu', 'apa', 'apadaya', 'api', 'arab', 'arah', 'argumen', 'argumentum', 'art', 'asalamualaikum', 'asatgfiruloh', 'asnawi', 'at', 'atas', 'atur', 'aturany', 'aturanya', 'aufa', 'awi', 'ayam', 'ayat', 'ayo', 'azab', 'azas', 'babad', 'baca', 'bacod', 'badan', 'bagus', 'bahas', 'bahasa', 'baik', 'baju', 'bales', 'banding', 'bang', 'bank', 'bantu', 'banyak', 'banyakin', 'baris', 'bas', 'basuki', 'bawa', 'bawah', 'bayar', 'bdoa', 'beban', 'bebas', 'becus', 'beda', 'bedan', 'begitu', 'bejad', 'bel', 'bela', 'belah', 'belakang', 'belanga', 'belok', 'benar', 'benci', 'bendigan', 'bentrok', 'bentuk', 'berahlaq', 'berani', 'berantas', 'berfikirnya', 'berita', 'bersih', 'bertagung', 'bgt', 'bibir', 'bicara', 'bidan', 'bijak', 'bikin', 'bilah', 'binar', 'binatang', 'bincang', 'bingung', 'bisnis', 'bkuasa', 'bla', 'blhkan', 'blhlkan', 'blon', 'blue', 'bnar', 'bngt', 'bnr', 'bo', 'bobrok', 'bocah', 'body', 'boga', 'boleh', 'brarti', 'breakpoint', 'brenti', 'brng', 'brow', 'brsama', 'brulang', 'bu', 'buat', 'bubar', 'budaya', 'buk', 'buka', 'bukti', 'bunga', 'bungkus', 'buru', 'buta', 'butuh', 'bwahaha', 'bwahahaha', 'bwahahahah', 'cabul', 'cakap', 'caling', 'cantum', 'capek', 'cari', 'cat', 'catat', 'cecep', 'cegah', 'celah', 'celeng', 'cerdas', 'cerita', 'cewek', 'chanel', 'charista', 'cholil', 'cholis', 'cicip', 'cium', 'ckckck', 'clear', 'cm', 'cman', 'coba', 'cocok', 'colek', 'comot', 'consent', 'contoh', 'contrario', 'cpt', 'cuan', 'cucu', 'daerah', 'dahulu', 'dajal', 'dalem', 'dalih', 'dampak', 'dapat', 'darurat', 'dasar', 'day', 'deal', 'debat', 'debatin', 'definisi', 'degradasi', 'deh', 'dekat', 'delik', 'demokrasi', 'denda', 'dengar', 'depa', 'depak', 'depan', 'derita', 'dewan', 'dewanga', 'dewi', 'dgr', 'dhadapi', 'diamenyetujui', 'dian', 'diangap', 'dibrantas', 'didik', 'diem', 'difahami', 'dijadin', 'dijelasin', 'dikemendikbud', 'dikti', 'dilangar', 'dilegalkanya', 'dimcok', 'dingin', 'direfisi', 'disamain', 'disetubuhin', 'diskusi', 'ditandatangani', 'ditawarin', 'ditindaklanjuti', 'diusulkn', 'dksih', 'dl', 'dlm', 'dluar', 'dmester', 'dmitri', 'dn', 'do', 'dokter', 'dosa', 'dosen', 'dosenya', 'doyan', 'dpan', 'dpr', 'dr', 'drone', 'drpd', 'drun', 'dua', 'dukung', 'duluan', 'dungu', 'dunia', 'dur', 'dzulfiqar', 'eak', 'ecer', 'edukasi', 'efek', 'ekonomi', 'elalu', 'enak', 'engkau', 'entar', 'ente', 'erti', 'esa', 'esek', 'etik', 'faham', 'fakta', 'farhan', 'fatwa', 'fauzi', 'fikir', 'fisi', 'fokus', 'formula', 'foto', 'frase', 'ga', 'gabisa', 'gabriela', 'gadis', 'gaduh', 'gak', 'gamblang', 'gampang', 'ganti', 'gantung', 'gara', 'garuk', 'gas', 'gatau', 'gaul', 'gaung', 'gawat', 'gede', 'gemeteran', 'genit', 'gerbong', 'germo', 'giat', 'gilir', 'gin', 'ginian', 'giring', 'giur', 'gk', 'gmn', 'gni', 'goblokny', 'godbener', 'gogle', 'golong', 'goreng', 'gosong', 'grepe', 'gurau', 'guru', 'gus', 'guwe', 'hadeh', 'hadir', 'hahaha', 'hak', 'halah', 'halal', 'hamil', 'haml', 'hancur', 'hapus', 'haram', 'harap', 'harga', 'harus', 'hashirama', 'hasil', 'hati', 'hdp', 'he', 'hehehe', 'hemat', 'hihihi', 'hilang', 'hindar', 'hinga', 'hormat', 'host', 'hotel', 'hp', 'hpus', 'hubunganya', 'hukum', 'hukumanya', 'huruf', 'ibuk', 'idiologi', 'ijin', 'ikadi', 'ikat', 'ikut', 'ilegal', 'ilegalkanya', 'imam', 'iman', 'imbal', 'imej', 'implementasi', 'in', 'inalilahi', 'indah', 'individu', 'indonesia', 'indra', 'informasi', 'ingat', 'inget', 'ini', 'injil', 'instal', 'interface', 'inti', 'intip', 'invalid', 'is', 'isi', 'islam', 'islamabad', 'islamis', 'isteri', 'istilah', 'istri', 'isu', 'isue', 'itu', 'iya', 'izin', 'jabar', 'jabat', 'jadi', 'jaga', 'jah', 'jahat', 'jakar', 'jalan', 'jaman', 'jatuh', 'jauh', 'jawap', 'jekartah', 'jepang', 'jerat', 'jk', 'jlan', 'jlanya', 'jlas', 'jokowi', 'jos', 'judul', 'juli', 'julidz', 'jum', 'jumat', 'juta', 'kacau', 'kader', 'kadron', 'kadrun', 'kaedah', 'kait', 'kakehan', 'kalah', 'kalang', 'kalimat', 'kalimatx', 'kamar', 'kampanye', 'kampus', 'kanya', 'karenahukum', 'kasi', 'kasih', 'katagori', 'kategori', 'kaum', 'kawan', 'kawin', 'kaya', 'kayakx', 'kbetulan', 'kbi', 'kbrnya', 'kebiri', 'kecuali', 'kedudukanya', 'kehancuranya', 'kehinan', 'keji', 'kelam', 'kelamin', 'kelas', 'kelompok', 'keluar', 'keluarga', 'kena', 'kendali', 'kentu', 'kenyat', 'kerab', 'keras', 'kereta', 'kerudung', 'kesan', 'kesimpulanya', 'ketat', 'ketentuanya', 'ketua', 'khawatir', 'khayal', 'khotbah', 'kiamat', 'kjadian', 'klaim', 'klausal', 'klu', 'kode', 'kodil', 'komen', 'komentar', 'kond', 'konklusi', 'konotasi', 'kons', 'konsekuensi', 'konsekwensi', 'konsensual', 'konsep', 'kontak', 'konteks', 'kontra', 'kontradiksi', 'kontro', 'kontroversi', 'kontroversial', 'konvensional', 'kopit', 'korban', 'korbanya', 'koropsi', 'kota', 'kotak', 'kpk', 'kritik', 'kritisi', 'krna', 'ksalahan', 'kuad', 'kuat', 'kuatir', 'kucing', 'kuhp', 'kuhpnya', 'kuliah', 'kun', 'kurikulum', 'kutip', 'kyak', 'kyknya', 'lacur', 'lagak', 'lahir', 'lai', 'laki', 'laksana', 'laku', 'lampau', 'lancar', 'lanjut', 'lap', 'lapor', 'laporin', 'larang', 'lari', 'las', 'latar', 'law', 'lawan', 'layak', 'lbh', 'lebar', 'leceh', 'legal', 'legalin', 'legalisasi', 'legalitas', 'legalx', 'legowo', 'lelet', 'lembut', 'letak', 'lgbt', 'lho', 'liar', 'libat', 'liberal', 'lihat', 'lindung', 'lingkung', 'lingkup', 'liput', 'literasi', 'literatur', 'logika', 'lolipop', 'los', 'love', 'luar', 'luas', 'lurus', 'lutut', 'ma', 'maf', 'mah', 'maha', 'mahaciwi', 'mahasiswa', 'mahasiswi', 'main', 'maju', 'makan', 'makarim', 'make', 'maklum', 'maksud', 'makul', 'malam', 'males', 'malu', 'mampu', 'manfatkan', 'mangil', 'mangkrak', 'manusia', 'marah', 'marak', 'mari', 'mas', 'masalah', 'mask', 'maslahat', 'masyarakat', 'mata', 'matang', 'materi', 'mati', 'mayoritas', 'mbahas', 'media', 'megang', 'megunakan', 'mekanisme', 'melangar', 'melulu', 'melundungi', 'memanfatkan', 'memang', 'membolehkanya', 'membuktikanya', 'memeng', 'mendikbud', 'mendikbudristek', 'meng', 'mengangap', 'mengmangtap', 'mengosokan', 'mengunakan', 'menrisek', 'menrisex', 'mental', 'menteri', 'menyalahgunakan', 'merasakanya', 'merinding', 'mesti', 'mesum', 'mhn', 'mikir', 'mikirin', 'mikirnya', 'mingu', 'miris', 'miss', 'mitos', 'mjd', 'mk', 'mkn', 'mknya', 'mksh', 'mksih', 'mlakukan', 'mna', 'mndidik', 'mnertibkan', 'mngabdi', 'mnganut', 'mngejar', 'mngenali', 'mnghamili', 'mnyikapi', 'moga', 'mora', 'moral', 'moril', 'motong', 'mpertahankan', 'mpret', 'mrasa', 'mreka', 'msing', 'msk', 'mslhx', 'mu', 'muantab', 'muat', 'mucho', 'muhamad', 'muhamadiyah', 'muhamdiah', 'mui', 'multi', 'multitafsir', 'mulut', 'muncul', 'mundur', 'munkin', 'murid', 'muslim', 'musnah', 'musyawarah', 'mutu', 'nabi', 'nadiem', 'nadim', 'naf', 'nakarim', 'nalar', 'nama', 'namax', 'nanangin', 'nangin', 'nangkepnya', 'nara', 'narapidana', 'narasi', 'nasional', 'nasip', 'natural', 'naudzubilah', 'nawarin', 'nayla', 'negara', 'negativ', 'negeri', 'negri', 'nempelkan', 'neng', 'neraka', 'nga', 'ngadu', 'ngajar', 'ngak', 'ngas', 'ngasi', 'ngedidik', 'ngedongeng', 'ngedukung', 'ngelarang', 'ngenyel', 'ngeres', 'ngeyel', 'ngoceh', 'ngubah', 'ngucap', 'ngurusin', 'ngusulin', 'nikah', 'nikahin', 'nikmatin', 'nila', 'nilai', 'nolak', 'non', 'nonton', 'norma', 'nti', 'nu', 'nungu', 'nyalahin', 'nyampe', 'nyata', 'nyeleneh', 'nyesel', 'nyumpahin', 'nyuri', 'oasti', 'oengagas', 'ojk', 'ok', 'oke', 'oknum', 'olah', 'onar', 'ondom', 'open', 'oposisi', 'org', 'ormas', 'ortunya', 'orunya', 'otak', 'pacar', 'pade', 'pagi', 'paham', 'pakai', 'pake', 'pakean', 'pakek', 'paksa', 'paksan', 'panca', 'pandai', 'pandang', 'pantai', 'par', 'partai', 'pasal', 'pasang', 'patokanya', 'patuh', 'paud', 'paut', 'payah', 'payung', 'pdhal', 'pdhl', 'pecat', 'pegang', 'pelangaran', 'peluk', 'pemahamanya', 'pemaksan', 'pemendikbud', 'pemerkosan', 'penetrasi', 'penjara', 'penring', 'penting', 'penyelesaianya', 'penyelesaina', 'penzinahan', 'peraturanya', 'perbutan', 'percaya', 'perempuan', 'perempuanya', 'perendikbud', 'pergi', 'perintah', 'perjanjianya', 'perkara', 'perkosa', 'perkosan', 'permasalahanya', 'permebdikbud', 'permedikbudristek', 'permen', 'permendikbud', 'permendikbudnya', 'permendikbudristek', 'permendikbudristekdikti', 'permenya', 'permnedikbudristek', 'pernyatan', 'personal', 'perzinahan', 'pesantren', 'photo', 'pidana', 'pikir', 'pikirin', 'pilih', 'pimpin', 'pinjol', 'pintu', 'piro', 'pisah', 'pisik', 'pkoknya', 'pks', 'plaku', 'plis', 'pnegak', 'poin', 'pojok', 'pola', 'polemik', 'poligami', 'polisi', 'politikus', 'politis', 'pondasi', 'porno', 'pornografi', 'posisi', 'positiv', 'pr', 'praktek', 'praktis', 'prasangka', 'prbuatan', 'presenter', 'presiden', 'prgaulan', 'pribadi', 'private', 'prof', 'profesional', 'propinsi', 'proposisi', 'proses', 'prostitusi', 'protes', 'publik', 'pulih', 'pundak', 'putera', 'putih', 'putusin', 'pzinan', 'qur', 'raba', 'ragu', 'raja', 'rajam', 'rakyat', 'rakyt', 'ralat', 'rame', 'ranah', 'rancang', 'rasa', 'rasuk', 'rata', 'rayu', 'realita', 'rekomendasi', 'rektor', 'rem', 'rendah', 'renung', 'repot', 'revisi', 'revolusi', 'riba', 'ribet', 'ribut', 'ridwan', 'rifki', 'riil', 'rinci', 'risikoberikhtilath', 'riza', 'rizqi', 'rkuhp', 'robah', 'rohani', 'roji', 'rok', 'rubah', 'rugi', 'rugika', 'rusak', 'rush', 'sadar', 'sahkan', 'salah', 'salahsatu', 'samasekali', 'sanak', 'sangkut', 'sangsi', 'sanksi', 'sat', 'saudara', 'sayang', 'sbg', 'sdg', 'sebab', 'sebar', 'sebelumya', 'sebut', 'sedekah', 'sedih', 'sedikit', 'segalasesuatu', 'seharusx', 'sehat', 'sek', 'sekolah', 'seks', 'seksual', 'seksualitas', 'sekulib', 'selamat', 'selangkang', 'selesai', 'selese', 'selingkuh', 'seluru', 'semangat', 'sembarang', 'sempat', 'sempit', 'sen', 'senang', 'senior', 'senjata', 'sensasi', 'sentuh', 'sepenuh', 'seprti', 'serah', 'serang', 'serap', 'sesat', 'sesuai', 'setan', 'seteru', 'setujuj', 'sex', 'sexual', 'shaming', 'sholat', 'sidang', 'sila', 'silah', 'simak', 'simpul', 'single', 'siri', 'sis', 'siswa', 'situ', 'situasi', 'skalipun', 'skrang', 'skrg', 'skrng', 'slalu', 'slama', 'sm', 'smartphone', 'smester', 'smoga', 'smseter', 'sndri', 'sngt', 'so', 'solusiable', 'sono', 'sopan', 'spk', 'sriyati', 'standing', 'stengah', 'stock', 'studi', 'suami', 'suara', 'substansi', 'subtantif', 'suka', 'sukak', 'surat', 'suruh', 'survey', 'sus', 'susah', 'susila', 'susu', 'swasta', 'swt', 'syah', 'syar', 'syarat', 'syariat', 'syg', 'sypa', 'syurga', 'tabayun', 'tabel', 'tafsir', 'tahu', 'tainya', 'tajam', 'tamat', 'tambah', 'tameng', 'tanam', 'tanda', 'tangan', 'tangap', 'tangkap', 'tangsel', 'tangung', 'tap', 'tapsir', 'tat', 'tau', 'tawar', 'tdak', 'tekan', 'telanjang', 'teliti', 'teman', 'tembak', 'tempat', 'tempel', 'tentang', 'tentu', 'teori', 'tera', 'terap', 'terbit', 'teriak', 'teriakin', 'terima', 'ternak', 'tertawa', 'tertingal', 'tetap', 'tetep', 'texto', 'tg', 'th', 'thohir', 'timbul', 'tindak', 'tindakanya', 'tingal', 'tingalkan', 'tinghi', 'tingi', 'tipe', 'titik', 'toge', 'tokoh', 'tolak', 'tonton', 'tr', 'tragis', 'transaksi', 'trgantung', 'tri', 'trjerumus', 'trlepas', 'trmksh', 'trnyta', 'true', 'trus', 'truskan', 'tsb', 'tsbt', 'tua', 'tuai', 'tubuh', 'tuhan', 'tuju', 'tujuanya', 'tuk', 'tukang', 'tulis', 'tumpul', 'tungangi', 'tungu', 'tunjuk', 'tuntut', 'turun', 'tutup', 'tv', 'twiter', 'uang', 'udah', 'udahlah', 'udeh', 'uin', 'uji', 'ulama', 'ulang', 'umat', 'umu', 'umur', 'un', 'undang', 'unsur', 'untung', 'unya', 'ursury', 'urus', 'urusin', 'usaha', 'usap', 'usia', 'ustadz', 'usul', 'usut', 'utama', 'verbal', 'versi', 'very', 'vidio', 'vissi', 'wa', 'wafat', 'wajar', 'wakil', 'wakl', 'wani', 'wanita', 'warung', 'wasalamu', 'waswas', 'wilayah', 'wkwkw', 'wkwkwkwk', 'wongemblung', 'xmbelgedesh', 'yaelah', 'ye', 'yes', 'you', 'zan', 'zina', 'zinah']\n",
      "\n"
     ]
    },
    {
     "name": "stderr",
     "output_type": "stream",
     "text": [
      "C:\\Users\\ASUS\\.conda\\envs\\aslan\\lib\\site-packages\\sklearn\\utils\\deprecation.py:87: FutureWarning: Function get_feature_names is deprecated; get_feature_names is deprecated in 1.0 and will be removed in 1.2. Please use get_feature_names_out instead.\n",
      "  warnings.warn(msg, category=FutureWarning)\n"
     ]
    }
   ],
   "source": [
    "print()\n",
    "print(\"selected words as feature : \")\n",
    "print(\"----------------------------\")\n",
    "print(tfidf_vect.get_feature_names())\n",
    "print()"
   ]
  },
  {
   "cell_type": "code",
   "execution_count": 11,
   "id": "7af60293",
   "metadata": {},
   "outputs": [
    {
     "name": "stdout",
     "output_type": "stream",
     "text": [
      "{'keras': 503, 'seksual': 1005, 'definisi': 222, 'tuju': 1172, 'korban': 540, 'logika': 606, 'nolak': 784, 'lawan': 580, 'dekat': 225, 'zinah': 1238, 'atur': 67, 'pasal': 830, 'dl': 263, 'sat': 987, 'demokrasi': 227, 'tdak': 1115, 'layak': 581, 'isi': 419, 'penting': 851, 'tingi': 1147, 'maslahat': 643, 'masyarakat': 644, 'jadi': 433, 'tameng': 1102, 'oknum': 803, 'mengunakan': 669, 'media': 651, 'skrang': 1050, 'bicara': 127, 'sembarang': 1015, 'law': 579, 'is': 418, 'art': 61, 'rinci': 964, 'gampang': 320, 'belok': 112, 'tetap': 1135, 'seksualitas': 1006, 'cocok': 200, 'terap': 1127, 'dikemendikbud': 248, 'dpr': 276, 'pakai': 818, 'anak': 42, 'sekolah': 1003, 'mahasiswa': 619, 'rok': 972, 'lutut': 613, 'ganti': 321, 'tri': 1158, 'bubar': 161, 'ragu': 936, 'lapor': 573, 'usul': 1209, 'lindung': 600, 'hukum': 386, 'polemik': 900, 'pdhal': 838, 'tingal': 1144, 'revisi': 956, 'maf': 615, 'diusulkn': 261, 'partai': 829, 'gmn': 342, 'kbrnya': 485, 'presenter': 915, 'suka': 1076, 'motong': 707, 'cakap': 175, 'nara': 745, 'sadar': 978, 'ormas': 810, 'islam': 420, 'dukung': 282, 'permedikbudristek': 869, 'tolak': 1152, 'ayat': 73, 'permendikbud': 871, 'nadiem': 735, 'hilang': 377, 'negara': 754, 'kacau': 458, 'jabat': 432, 'nyeleneh': 794, 'coba': 199, 'urus': 1203, 'subtantif': 1075, 'pecat': 840, 'ranah': 943, 'mendikbud': 663, 'iya': 429, 'menteri': 673, 'perempuan': 858, 'bnr': 145, 'laksana': 567, 'idiologi': 390, 'sbg': 990, 'muslim': 730, 'fakta': 303, 'terima': 1131, 'pojok': 898, 'kotak': 544, 'amal': 35, 'anjur': 52, 'sedekah': 996, 'kbetulan': 483, 'mreka': 711, 'sesat': 1029, 'adl': 6, 'saudara': 988, 'mjd': 687, 'isue': 427, 'ksalahan': 549, 'pnegak': 896, 'brsama': 157, 'dhadapi': 238, 'mnertibkan': 696, 'pemahamanya': 844, 'dr': 277, 'sedikit': 998, 'mbahas': 650, 'syurga': 1093, 'imbal': 399, 'neraka': 760, 'lbh': 582, 'bahas': 82, 'mngenali': 700, 'tuhan': 1171, 'konsekuensi': 527, 'mnganut': 698, 'agama': 11, 'brarti': 152, 'mngabdi': 697, 'mpertahankan': 708, 'imej': 400, 'mngejar': 699, 'aduh': 8, 'sexual': 1035, 'penzinahan': 854, 'ini': 411, 'beda': 103, 'kalimatx': 468, 'difahami': 245, 'undang': 1198, 'bahasa': 83, 'indonesia': 406, 'kayakx': 482, 'namax': 741, 'unsur': 1199, 'kalimat': 467, 'seharusx': 1000, 'debat': 220, 'degradasi': 223, 'moril': 706, 'haram': 365, 'anehny': 48, 'negeri': 756, 'deh': 224, 'permen': 870, 'ancam': 43, 'tindak': 1142, 'tsbt': 1167, 'dasar': 217, 'trus': 1164, 'laku': 568, 'ngak': 764, 'kena': 498, 'kampus': 471, 'susila': 1083, 'sypa': 1092, 'buat': 160, 'dlm': 264, 'wajar': 1219, 'cantum': 177, 'dmitri': 267, 'senang': 1019, 'mesum': 678, 'marah': 637, 'colek': 201, 'raba': 935, 'sangsi': 985, 'buka': 164, 'baju': 85, 'melangar': 655, 'kuhp': 554, 'muhamad': 719, 'thohir': 1140, 'oke': 802, 'bentrok': 116, 'pornografi': 907, 'lai': 565, 'seks': 1004, 'bebas': 101, 'patuh': 833, 'membolehkanya': 660, 'sebut': 995, 'memeng': 662, 'erti': 298, 'ikut': 394, 'ulama': 1192, 'kadron': 460, 'otak': 813, 'dalem': 212, 'contoh': 204, 'kuhpnya': 555, 'tubuh': 1170, 'suami': 1072, 'istri': 425, 'pidana': 882, 'zan': 1236, 'penjara': 849, 'denda': 228, 'katagori': 476, 'sentuh': 1023, 'usap': 1206, 'pegang': 841, 'peluk': 843, 'cium': 194, 'mengosokan': 668, 'nyata': 793, 'gamblang': 319, 'ambigu': 38, 'multitafsir': 724, 'sex': 1034, 'larang': 575, 'dapat': 215, 'esek': 300, 'malu': 631, 'syah': 1087, 'implementasi': 401, 'salah': 980, 'permendikbudnya': 872, 'tertawa': 1133, 'argumen': 59, 'kutip': 559, 'salahsatu': 981, 'kontroversial': 537, 'liput': 603, 'simpul': 1042, 'kelompok': 495, 'ada': 2, 'samasekali': 982, 'legal': 585, 'meng': 665, 'ilegal': 395, 'alias': 32, 'konsekwensi': 528, 'argumentum': 60, 'contrario': 205, 'pikir': 883, 'boleh': 151, 'pemendikbud': 846, 'ga': 313, 'dewanga': 235, 'putera': 930, 'frase': 312, 'faham': 302, 'peraturanya': 855, 'timbul': 1141, 'kontradiksi': 534, 'nama': 740, 'leceh': 584, 'literatur': 605, 'dampak': 214, 'memanfatkan': 658, 'alesanya': 30, 'kbi': 484, 'binatang': 133, 'derita': 233, 'mati': 648, 'akibat': 23, 'jahat': 436, 'mesti': 677, 'menrisex': 671, 'gaduh': 317, 'mknya': 690, 'makul': 628, 'kasih': 475, 'rohani': 970, 'hapus': 364, 'kuad': 550, 'in': 402, 'ok': 801, 'plis': 895, 'gabriela': 315, 'indah': 404, 'charista': 190, 'yes': 1234, 'very': 1214, 'true': 1163, 'bang': 88, 'baca': 78, 'bacod': 79, 'dijelasin': 247, 'huruf': 388, 'diangap': 241, 'alami': 27, 'situasi': 1048, 'paksa': 822, 'menyalahgunakan': 674, 'kedudukanya': 488, 'paham': 817, 'konsep': 530, 'consent': 203, 'mulut': 725, 'dewan': 234, 'jk': 446, 'moral': 705, 'bejad': 106, 'buk': 163, 'keluarga': 497, 'tanam': 1103, 'rasa': 945, 'kendali': 499, 'apa': 54, 'perkosan': 866, 'mk': 688, 'polisi': 902, 'ibuk': 389, 'vissi': 1216, 'miss': 685, 'presiden': 916, 'jabar': 431, 'bijak': 129, 'revolusi': 957, 'mental': 672, 'jokowi': 450, 'sempat': 1016, 'goreng': 348, 'gosong': 349, 'jatuh': 440, 'segalasesuatu': 999, 'serah': 1026, 'ahli': 15, 'tungu': 1179, 'kehancuranya': 489, 'host': 381, 'las': 577, 'alah': 25, 'swt': 1086, 'hdp': 372, 'rakyat': 939, 'bawa': 96, 'senjata': 1021, 'tajam': 1099, 'api': 56, 'enak': 294, 'bgt': 125, 'main': 621, 'pks': 893, 'engkau': 295, 'harap': 366, 'wilayah': 1227, 'private': 919, 'perkara': 864, 'individu': 405, 'didik': 243, 'mora': 704, 'entar': 296, 'olah': 804, 'izin': 430, 'perempuanya': 859, 'inget': 410, 'panca': 824, 'sila': 1039, 'maha': 617, 'esa': 299, 'pasang': 831, 'ngedukung': 769, 'mna': 694, 'tat': 1112, 'syariat': 1090, 'harus': 368, 'simak': 1041, 'penyelesaianya': 852, 'adil': 5, 'onar': 805, 'cman': 198, 'alih': 33, 'isu': 426, 'godbener': 345, 'jekartah': 443, 'angota': 50, 'par': 828, 'tainya': 1098, 'masalah': 641, 'formula': 310, 'usut': 1210, 'kpk': 545, 'sanak': 983, 'tuntut': 1181, 'hahaha': 357, 'waswas': 1226, 'angotanya': 51, 'garuk': 324, 'dalih': 213, 'lanjut': 571, 'permendikbudristek': 873, 'robah': 969, 'trgantung': 1157, 'ortunya': 811, 'penring': 850, 'tua': 1168, 'mndidik': 695, 'ahklak': 14, 'utama': 1211, 'tr': 1154, 'bukti': 165, 'kjadian': 515, 'ketat': 508, 'trjerumus': 1159, 'orunya': 812, 'selamat': 1008, 'hindar': 378, 'pr': 910, 'gaul': 327, 'bas': 94, 'cewek': 188, 'alhamdulilah': 31, 'tamat': 1100, 'kuliah': 556, 'bidan': 128, 'dua': 281, 'trlepas': 1160, 'prgaulan': 917, 'inti': 415, 'nasip': 749, 'rizqi': 967, 'mnyikapi': 702, 'makan': 623, 'jlan': 447, 'halal': 360, 'koropsi': 542, 'so': 1062, 'oasti': 798, 'renung': 954, 'cari': 179, 'jlanya': 448, 'miris': 684, 'gas': 325, 'tsb': 1166, 'kesimpulanya': 507, 'advokasi': 9, 'luas': 611, 'kait': 463, 'legalitas': 588, 'perzinahan': 879, 'konsensual': 529, 'terbit': 1128, 'legalisasi': 587, 'hashirama': 369, 'gogle': 346, 'azas': 76, 'jah': 435, 'aturanya': 69, 'klu': 518, 'banyak': 91, 'darurat': 216, 'bikin': 130, 'perendikbud': 860, 'badan': 80, 'slama': 1054, 'realita': 949, 'slalu': 1053, 'rugika': 975, 'ridwan': 961, 'basuki': 95, 'selingkuh': 1012, 'pemerkosan': 847, 'prostitusi': 925, 'dikti': 249, 'tentu': 1124, 'muat': 717, 'verbal': 1212, 'non': 785, 'penetrasi': 848, 'intip': 416, 'body': 149, 'shaming': 1036, 'grepe': 350, 'hadir': 356, 'sebar': 993, 'photo': 881, 'vidio': 1215, 'pribadi': 918, 'ijin': 391, 'kerab': 502, 'dengar': 229, 'pola': 899, 'fikir': 307, 'politikus': 903, 'golong': 347, 'sanksi': 986, 'breakpoint': 153, 'tv': 1184, 'butuh': 170, 'narasi': 747, 'lebar': 583, 'titik': 1149, 'susah': 1082, 'bedan': 104, 'angaran': 49, 'keluar': 496, 'hasil': 370, 'teliti': 1118, 'indra': 407, 'payung': 837, 'gak': 318, 'percaya': 857, 'perkosa': 865, 'kebiri': 486, 'tuk': 1174, 'lacur': 562, 'rugi': 974, 'untung': 1200, 'poligami': 901, 'duluan': 283, 'tujuanya': 1173, 'cegah': 183, 'bersih': 123, 'usia': 1207, 'tumpul': 1177, 'politis': 904, 'dosen': 272, 'kelamin': 493, 'rajam': 938, 'dunia': 285, 'rendah': 953, 'suara': 1073, 'rektor': 951, 'lagak': 563, 'dungu': 284, 'tempel': 1122, 'nempelkan': 758, 'anu': 53, 'nadim': 736, 'ngurusin': 777, 'begitu': 105, 'mutu': 733, 'guru': 352, 'pintu': 888, 'poin': 897, 'kontro': 535, 'versi': 1213, 'multi': 723, 'tapsir': 1111, 'direfisi': 254, 'merinding': 676, 'dgr': 237, 'sek': 1002, 'gadis': 316, 'moga': 703, 'jauh': 441, 'keji': 491, 'dn': 268, 'boga': 150, 'hati': 371, 'putih': 931, 'pacar': 814, 'hamil': 361, 'bertagung': 124, 'jawap': 442, 'cicip': 193, 'eak': 288, 'bendigan': 115, 'putusin': 932, 'sngt': 1061, 'khawatir': 511, 'maksud': 627, 'rancang': 944, 'isteri': 423, 'rame': 942, 'mui': 722, 'hpus': 384, 'pernyatan': 877, 'rubah': 973, 'invalid': 417, 'membuktikanya': 661, 'tabel': 1095, 'benar': 113, 'mari': 639, 'catat': 181, 'proposisi': 923, 'lihat': 599, 'baris': 93, 'syg': 1091, 'konklusi': 524, 'ambil': 39, 'do': 269, 'libat': 597, 'setan': 1031, 'perintah': 862, 'kehinan': 490, 'amin': 41, 'tafsir': 1096, 'kesan': 506, 'publik': 927, 'prasangka': 913, 'sdg': 991, 'hancur': 363, 'abai': 0, 'asalamualaikum': 62, 'ditandatangani': 258, 'mendikbudristek': 664, 'anda': 44, 'mahasiswi': 620, 'tutup': 1183, 'tahu': 1097, 'pelangaran': 842, 'muantab': 716, 'skrng': 1052, 'aman': 36, 'laki': 566, 'sis': 1045, 'pade': 815, 'nga': 761, 'ngas': 765, 'bwahahaha': 172, 'mas': 640, 'kuatir': 552, 'tentang': 1123, 'tuai': 1169, 'adzab': 10, 'akhirat': 21, 'giat': 335, 'pemaksan': 845, 'brenti': 154, 'situ': 1047, 'pzinan': 933, 'fisi': 308, 'tg': 1138, 'tempat': 1121, 'korbanya': 541, 'bagus': 81, 'baik': 84, 'mu': 715, 'umu': 1195, 'nayla': 753, 'permebdikbud': 868, 'ustadz': 1208, 'senior': 1020, 'lingkung': 601, 'pake': 819, 'benci': 114, 'buta': 169, 'mata': 645, 'umat': 1194, 'wkwkw': 1228, 'marak': 638, 'bngt': 144, 'tangkap': 1107, 'menrisek': 670, 'nasional': 748, 'maju': 622, 'cerdas': 186, 'rata': 947, 'tangan': 1105, 'belah': 109, 'julidz': 454, 'ikat': 393, 'kawin': 480, 'single': 1043, 'delik': 226, 'adu': 7, 'proses': 924, 'tera': 1126, 'bentuk': 117, 'teman': 1119, 'sekulib': 1007, 'protes': 926, 'cpt': 206, 'sahkan': 979, 'ribut': 960, 'kaum': 478, 'kons': 526, 'islamis': 422, 'capek': 178, 'melulu': 656, 'akhsan': 22, 'andi': 46, 'lap': 572, 'bawah': 97, 'umur': 1196, 'propinsi': 922, 'kota': 543, 'hukumanya': 387, 'nanangin': 742, 'nangin': 743, 'paksan': 823, 'mikir': 680, 'legalin': 586, 'konteks': 532, 'gabisa': 314, 'tau': 1113, 'ngelarang': 770, 'ketentuanya': 509, 'gatau': 326, 'tangsel': 1108, 'juta': 457, 'kamar': 469, 'ulang': 1193, 'surat': 1078, 'perjanjianya': 863, 'gantung': 322, 'daerah': 209, 'mayoritas': 649, 'ralat': 941, 'celah': 184, 'manfatkan': 633, 'ayam': 72, 'standing': 1068, 'udahlah': 1188, 'debatin': 221, 'ngubah': 775, 'posisi': 908, 'twiter': 1185, 'uji': 1191, 'materi': 647, 'ma': 614, 'depa': 230, 'akai': 18, 'ondom': 806, 'elalu': 293, 'sus': 1081, 'andarwati': 45, 'mekanisme': 654, 'gk': 341, 'jerat': 445, 'itu': 428, 'bu': 159, 'suruh': 1079, 'muncul': 726, 'rkuhp': 968, 'jalan': 438, 'tekan': 1116, 'aju': 17, 'bantu': 90, 'klausal': 517, 'komentar': 522, 'kenyat': 501, 'usaha': 1205, 'selesai': 1010, 'melundungi': 657, 'hubunganya': 385, 'dilegalkanya': 251, 'ngadu': 762, 'mangkrak': 635, 'legowo': 590, 'halah': 359, 'solusiable': 1063, 'spk': 1066, 'agamais': 12, 'diem': 244, 'pesantren': 880, 'nikahin': 780, 'maklum': 626, 'tertingal': 1134, 'bobrok': 147, 'raja': 937, 'bla': 138, 'mucho': 718, 'texto': 1137, 'nikmatin': 781, 'seteru': 1032, 'wkwkwkwk': 1229, 'ente': 297, 'males': 630, 'komen': 521, 'bales': 86, 'hehehe': 374, 'prbuatan': 914, 'aturany': 68, 'sndri': 1060, 'msing': 712, 'kyak': 560, 'bocah': 148, 'paud': 834, 'gede': 330, 'blon': 141, 'wongemblung': 1230, 'neng': 759, 'ye': 1233, 'udeh': 1189, 'hemat': 375, 'hotel': 382, 'bwahahahah': 173, 'rush': 977, 'day': 218, 'gni': 343, 'toge': 1150, 'dksih': 262, 'hp': 383, 'goblokny': 344, 'natural': 750, 'juli': 453, 'yaelah': 1232, 'cuan': 207, 'tukang': 1175, 'ecer': 289, 'kond': 523, 'stock': 1070, 'banyakin': 92, 'ahahaha': 13, 'trnyta': 1162, 'drone': 278, 'kelas': 494, 'ngoceh': 774, 'setujuj': 1033, 'pakek': 821, 'pakean': 820, 'pantai': 827, 'jos': 451, 'brow': 156, 'kadrun': 461, 'megunakan': 653, 'akal': 19, 'sehat': 1001, 'nyuri': 797, 'berani': 119, 'manusia': 636, 'berahlaq': 118, 'ayo': 74, 'tingalkan': 1145, 'dilangar': 250, 'berantas': 120, 'nila': 782, 'rusak': 976, 'susu': 1084, 'belanga': 111, 'liberal': 598, 'kurikulum': 558, 'kanya': 472, 'tambah': 1101, 'ajar': 16, 'rayu': 948, 'rasuk': 946, 'gus': 353, 'dur': 286, 'repot': 955, 'muhamadiyah': 720, 'ikadi': 392, 'prof': 920, 'cholis': 192, 'naf': 737, 'pergi': 861, 'th': 1139, 'nu': 789, 'wakil': 1220, 'cholil': 191, 'turun': 1182, 'truskan': 1165, 'dimcok': 252, 'kalang': 466, 'zina': 1237, 'cecep': 182, 'selangkang': 1009, 'tangap': 1106, 'kritik': 546, 'nonton': 786, 'porno': 906, 'sidang': 1038, 'bwahaha': 171, 'bela': 108, 'rem': 952, 'mpret': 709, 'urusin': 1204, 'kader': 459, 'kampanye': 470, 'diskusi': 257, 'sensasi': 1022, 'unya': 1201, 'tindakanya': 1143, 'amat': 37, 'kakehan': 464, 'jepang': 444, 'aborsi': 1, 'efek': 291, 'luar': 610, 'nikah': 779, 'dibrantas': 242, 'tanda': 1104, 'jaman': 439, 'naudzubilah': 751, 'inalilahi': 403, 'wa': 1217, 'roji': 971, 'un': 1197, 'oengagas': 799, 'plaku': 894, 'mah': 616, 'tembak': 1120, 'kode': 519, 'etik': 301, 'sesuai': 1030, 'patokanya': 832, 'nangkepnya': 744, 'bincang': 134, 'nungu': 790, 'selese': 1011, 'rifki': 962, 'fauzi': 306, 'kelam': 492, 'gilir': 336, 'ngusulin': 778, 'kritisi': 547, 'ginian': 338, 'nyampe': 792, 'nalar': 739, 'oposisi': 808, 'payah': 836, 'lelet': 591, 'kaya': 481, 'islamabad': 421, 'belakang': 110, 'riza': 966, 'kun': 557, 'azab': 75, 'xmbelgedesh': 1231, 'mitos': 686, 'gaung': 328, 'pondasi': 905, 'khayal': 512, 'teori': 1125, 'banding': 87, 'blue': 142, 'silah': 1040, 'pimpin': 886, 'kawan': 479, 'dahulu': 210, 'drpd': 279, 'make': 625, 'praktis': 912, 'arab': 57, 'bank': 89, 'konvensional': 538, 'qur': 934, 'riba': 958, 'injil': 412, 'ursury': 1202, 'tetep': 1136, 'dosa': 271, 'ilegalkanya': 396, 'drun': 280, 'sebab': 992, 'giring': 339, 'kiamat': 514, 'nti': 788, 'haml': 362, 'dluar': 265, 'buru': 168, 'siri': 1044, 'celeng': 185, 'bel': 107, 'pkoknya': 892, 'fatwa': 305, 'lurus': 612, 'wakl': 1221, 'ketua': 510, 'los': 608, 'krna': 548, 'mrasa': 710, 'kuat': 551, 'bkuasa': 137, 'apadaya': 55, 'rakyt': 940, 'hak': 358, 'bdoa': 99, 'bnar': 143, 'smoga': 1058, 'cucu': 208, 'brulang': 158, 'jlas': 449, 'mnghamili': 701, 'mlakukan': 693, 'dpan': 275, 'skalipun': 1049, 'dewi': 236, 'sriyati': 1067, 'ngedongeng': 768, 'kyknya': 561, 'teriak': 1129, 'teriakin': 1130, 'substansi': 1074, 'ckckck': 195, 'kasi': 474, 'kalah': 465, 'serang': 1027, 'personal': 878, 'berita': 122, 'rekomendasi': 950, 'dokter': 270, 'liar': 596, 'nyalahin': 791, 'sepenuh': 1024, 'syarat': 1089, 'kontra': 533, 'permasalahanya': 867, 'lembut': 592, 'dian': 240, 'chanel': 189, 'wafat': 1218, 'nabi': 734, 'kategori': 477, 'hinga': 379, 'depan': 232, 'msk': 713, 'lho': 595, 'memang': 659, 'tunjuk': 1180, 'nyumpahin': 796, 'gin': 337, 'ngucap': 776, 'dzulfiqar': 287, 'mengangap': 666, 'farhan': 304, 'diamenyetujui': 239, 'bibir': 126, 'ditindaklanjuti': 260, 'nilai': 783, 'norma': 787, 'akar': 20, 'trmksh': 1161, 'wasalamu': 1225, 'alaikum': 26, 'permnedikbudristek': 876, 'fokus': 309, 'latar': 578, 'penyelesaina': 853, 'studi': 1071, 'cerita': 187, 'letak': 593, 'lahir': 564, 'atas': 66, 'pandang': 826, 'kodil': 520, 'sebelumya': 994, 'bingung': 135, 'risikoberikhtilath': 965, 'mingu': 683, 'sholat': 1037, 'jum': 455, 'at': 65, 'imam': 397, 'khotbah': 513, 'tabayun': 1094, 'klaim': 516, 'hadeh': 355, 'nyesel': 795, 'jumat': 456, 'mengmangtap': 667, 'kentu': 500, 'sempit': 1017, 'budaya': 162, 'open': 807, 'bo': 146, 'ane': 47, 'uin': 1190, 'pagi': 816, 'kerudung': 505, 'malam': 629, 'warung': 1224, 'aldo': 29, 'binar': 132, 'udah': 1187, 'clear': 196, 'dosenya': 273, 'depak': 231, 'sm': 1055, 'kontak': 531, 'pisik': 891, 'tawar': 1114, 'transaksi': 1156, 'ditawarin': 259, 'telanjang': 1117, 'alat': 28, 'mampu': 632, 'aluxes': 34, 'nawarin': 752, 'dijadin': 246, 'awi': 71, 'asnawi': 64, 'laporin': 574, 'cat': 180, 'caling': 176, 'literasi': 604, 'edukasi': 290, 'aufa': 70, 'bilah': 131, 'tipe': 1148, 'org': 809, 'mikirnya': 682, 'ngeres': 772, 'positiv': 909, 'informasi': 408, 'profesional': 921, 'beban': 100, 'berfikirnya': 121, 'interface': 414, 'perbutan': 856, 'judul': 452, 'ngeyel': 773, 'asatgfiruloh': 63, 'munkin': 728, 'makarim': 624, 'sukak': 1077, 'dajal': 211, 'wanita': 1223, 'disetubuhin': 256, 'ngasi': 766, 'brng': 155, 'jaga': 434, 'jakar': 437, 'tokoh': 1151, 'ngenyel': 771, 'arah': 58, 'sayang': 989, 'ribet': 959, 'sono': 1064, 'sangkut': 984, 'paut': 835, 'lingkup': 602, 'dingin': 253, 'pisah': 890, 'gerbong': 333, 'kereta': 504, 'tungangi': 1178, 'lgbt': 594, 'tangung': 1109, 'semangat': 1014, 'harga': 367, 'mslhx': 714, 'adh': 4, 'tulis': 1176, 'legalx': 589, 'bungkus': 167, 'lolipop': 607, 'giur': 340, 'mahaciwi': 618, 'ojk': 800, 'pinjol': 887, 'pdhl': 839, 'praktek': 911, 'bunga': 166, 'tinghi': 1146, 'mikirin': 681, 'lampau': 569, 'guwe': 354, 'pikirin': 884, 'riil': 963, 'konotasi': 525, 'tragis': 1155, 'negri': 757, 'disamain': 255, 'he': 373, 'instal': 413, 'smartphone': 1056, 'hihihi': 376, 'kecuali': 487, 'permenya': 875, 'kaedah': 462, 'sopan': 1065, 'tonton': 1153, 'merasakanya': 675, 'narapidana': 746, 'seprti': 1025, 'comot': 202, 'pandai': 825, 'musyawarah': 732, 'muhamdiah': 721, 'deal': 219, 'iman': 398, 'becus': 102, 'ngajar': 763, 'ngedidik': 767, 'murid': 729, 'sen': 1018, 'babad': 77, 'musnah': 731, 'kucing': 553, 'serap': 1028, 'kontroversi': 536, 'negativ': 755, 'lari': 576, 'wani': 1222, 'piro': 889, 'doyan': 274, 'cabul': 174, 'gara': 323, 'adan': 3, 'sedih': 997, 'siswa': 1046, 'smester': 1057, 'uang': 1186, 'dmester': 266, 'blhkan': 139, 'tap': 1110, 'mask': 642, 'bayar': 98, 'swasta': 1085, 'kopit': 539, 'pulih': 928, 'ekonomi': 292, 'mkn': 689, 'cm': 197, 'mksh': 691, 'stengah': 1069, 'seluru': 1013, 'pilih': 885, 'blhlkan': 140, 'smseter': 1059, 'mksih': 692, 'lancar': 570, 'bisnis': 136, 'hormat': 380, 'mundur': 727, 'mhn': 679, 'istilah': 424, 'matang': 646, 'nakarim': 738, 'survey': 1080, 'megang': 652, 'pundak': 929, 'genit': 332, 'mangil': 634, 'love': 609, 'you': 1235, 'gurau': 351, 'foto': 311, 'gemeteran': 331, 'aksi': 24, 'permendikbudristekdikti': 874, 'syar': 1088, 'amburadul': 40, 'skrg': 1051, 'germo': 334, 'gawat': 329, 'karenahukum': 473, 'ingat': 409, 'ternak': 1132}\n"
     ]
    }
   ],
   "source": [
    "# You can use the below syntax to see the vocabulary that it has learned from the corpus\n",
    "print(tfidf_vect.vocabulary_)"
   ]
  },
  {
   "cell_type": "code",
   "execution_count": 12,
   "id": "71bb3c52",
   "metadata": {},
   "outputs": [
    {
     "name": "stdout",
     "output_type": "stream",
     "text": [
      "jumlah data training : \n",
      "512\n",
      "\n",
      "jumlah data test : \n",
      "128\n",
      "\n"
     ]
    }
   ],
   "source": [
    "print(\"jumlah data training : \")\n",
    "print(len(train_X))\n",
    "print()\n",
    "\n",
    "print(\"jumlah data test : \") \n",
    "print(len(test_X))\n",
    "print() "
   ]
  },
  {
   "cell_type": "code",
   "execution_count": 13,
   "id": "db705eb2",
   "metadata": {},
   "outputs": [],
   "source": [
    "train_X_tfidf = tfidf_vect.transform(df_train['Sentiment'])\n",
    "test_X_tfidf = tfidf_vect.transform(df_test['Sentiment'])"
   ]
  },
  {
   "cell_type": "code",
   "execution_count": 14,
   "id": "74b91766",
   "metadata": {},
   "outputs": [],
   "source": [
    "# tfidf_mat = tfidf_vect.transform(df['Komentar_Final']).toarray()\n",
    "tfidf_mat = tfidf_vect.transform(df_train['Sentiment']).toarray()\n",
    "# tfidf_mat = tfidf_vect.transform(df_test['Sentiment']).toarray()\n",
    "\n",
    "terms = tfidf_vect.get_feature_names()\n",
    "\n",
    "# menjumlahkan tfidf dari tiap kata/term di semua dataset\n",
    "sums = tfidf_mat.sum(axis=0)\n",
    "\n",
    "# menampilkan jumlah tfidf dari tiap kata yang ada di dataset\n",
    "data = []\n",
    "for col, term in enumerate(terms):\n",
    "    data.append((term, sums[col] ))\n",
    "\n",
    "ranking = pd.DataFrame(data, columns=['term','TF-IDF'])\n"
   ]
  },
  {
   "cell_type": "code",
   "execution_count": 15,
   "id": "ca63398d",
   "metadata": {},
   "outputs": [
    {
     "name": "stdout",
     "output_type": "stream",
     "text": [
      "          term     TF-IDF\n",
      "1172      tuju  23.757856\n",
      "67        atur  18.316195\n",
      "540     korban  16.769278\n",
      "503      keras  15.890520\n",
      "1005   seksual  14.932381\n",
      "...        ...        ...\n",
      "1148      tipe   0.000000\n",
      "255   disamain   0.000000\n",
      "682   mikirnya   0.000000\n",
      "231      depak   0.000000\n",
      "856   perbutan   0.000000\n",
      "\n",
      "[1239 rows x 2 columns]\n"
     ]
    }
   ],
   "source": [
    "ranking_br=ranking.sort_values('TF-IDF', ascending=False)\n",
    "print(ranking_br)"
   ]
  },
  {
   "cell_type": "code",
   "execution_count": 16,
   "id": "fe677181",
   "metadata": {},
   "outputs": [],
   "source": [
    "ranking_br.to_csv(r'tfidf_traintiga.csv')"
   ]
  },
  {
   "cell_type": "code",
   "execution_count": 17,
   "id": "0c57411c",
   "metadata": {},
   "outputs": [
    {
     "data": {
      "text/html": [
       "<style>#sk-container-id-3 {color: black;background-color: white;}#sk-container-id-3 pre{padding: 0;}#sk-container-id-3 div.sk-toggleable {background-color: white;}#sk-container-id-3 label.sk-toggleable__label {cursor: pointer;display: block;width: 100%;margin-bottom: 0;padding: 0.3em;box-sizing: border-box;text-align: center;}#sk-container-id-3 label.sk-toggleable__label-arrow:before {content: \"▸\";float: left;margin-right: 0.25em;color: #696969;}#sk-container-id-3 label.sk-toggleable__label-arrow:hover:before {color: black;}#sk-container-id-3 div.sk-estimator:hover label.sk-toggleable__label-arrow:before {color: black;}#sk-container-id-3 div.sk-toggleable__content {max-height: 0;max-width: 0;overflow: hidden;text-align: left;background-color: #f0f8ff;}#sk-container-id-3 div.sk-toggleable__content pre {margin: 0.2em;color: black;border-radius: 0.25em;background-color: #f0f8ff;}#sk-container-id-3 input.sk-toggleable__control:checked~div.sk-toggleable__content {max-height: 200px;max-width: 100%;overflow: auto;}#sk-container-id-3 input.sk-toggleable__control:checked~label.sk-toggleable__label-arrow:before {content: \"▾\";}#sk-container-id-3 div.sk-estimator input.sk-toggleable__control:checked~label.sk-toggleable__label {background-color: #d4ebff;}#sk-container-id-3 div.sk-label input.sk-toggleable__control:checked~label.sk-toggleable__label {background-color: #d4ebff;}#sk-container-id-3 input.sk-hidden--visually {border: 0;clip: rect(1px 1px 1px 1px);clip: rect(1px, 1px, 1px, 1px);height: 1px;margin: -1px;overflow: hidden;padding: 0;position: absolute;width: 1px;}#sk-container-id-3 div.sk-estimator {font-family: monospace;background-color: #f0f8ff;border: 1px dotted black;border-radius: 0.25em;box-sizing: border-box;margin-bottom: 0.5em;}#sk-container-id-3 div.sk-estimator:hover {background-color: #d4ebff;}#sk-container-id-3 div.sk-parallel-item::after {content: \"\";width: 100%;border-bottom: 1px solid gray;flex-grow: 1;}#sk-container-id-3 div.sk-label:hover label.sk-toggleable__label {background-color: #d4ebff;}#sk-container-id-3 div.sk-serial::before {content: \"\";position: absolute;border-left: 1px solid gray;box-sizing: border-box;top: 0;bottom: 0;left: 50%;z-index: 0;}#sk-container-id-3 div.sk-serial {display: flex;flex-direction: column;align-items: center;background-color: white;padding-right: 0.2em;padding-left: 0.2em;position: relative;}#sk-container-id-3 div.sk-item {position: relative;z-index: 1;}#sk-container-id-3 div.sk-parallel {display: flex;align-items: stretch;justify-content: center;background-color: white;position: relative;}#sk-container-id-3 div.sk-item::before, #sk-container-id-3 div.sk-parallel-item::before {content: \"\";position: absolute;border-left: 1px solid gray;box-sizing: border-box;top: 0;bottom: 0;left: 50%;z-index: -1;}#sk-container-id-3 div.sk-parallel-item {display: flex;flex-direction: column;z-index: 1;position: relative;background-color: white;}#sk-container-id-3 div.sk-parallel-item:first-child::after {align-self: flex-end;width: 50%;}#sk-container-id-3 div.sk-parallel-item:last-child::after {align-self: flex-start;width: 50%;}#sk-container-id-3 div.sk-parallel-item:only-child::after {width: 0;}#sk-container-id-3 div.sk-dashed-wrapped {border: 1px dashed gray;margin: 0 0.4em 0.5em 0.4em;box-sizing: border-box;padding-bottom: 0.4em;background-color: white;}#sk-container-id-3 div.sk-label label {font-family: monospace;font-weight: bold;display: inline-block;line-height: 1.2em;}#sk-container-id-3 div.sk-label-container {text-align: center;}#sk-container-id-3 div.sk-container {/* jupyter's `normalize.less` sets `[hidden] { display: none; }` but bootstrap.min.css set `[hidden] { display: none !important; }` so we also need the `!important` here to be able to override the default hidden behavior on the sphinx rendered scikit-learn.org. See: https://github.com/scikit-learn/scikit-learn/issues/21755 */display: inline-block !important;position: relative;}#sk-container-id-3 div.sk-text-repr-fallback {display: none;}</style><div id=\"sk-container-id-3\" class=\"sk-top-container\"><div class=\"sk-text-repr-fallback\"><pre>MultinomialNB()</pre><b>In a Jupyter environment, please rerun this cell to show the HTML representation or trust the notebook. <br />On GitHub, the HTML representation is unable to render, please try loading this page with nbviewer.org.</b></div><div class=\"sk-container\" hidden><div class=\"sk-item\"><div class=\"sk-estimator sk-toggleable\"><input class=\"sk-toggleable__control sk-hidden--visually\" id=\"sk-estimator-id-3\" type=\"checkbox\" checked><label for=\"sk-estimator-id-3\" class=\"sk-toggleable__label sk-toggleable__label-arrow\">MultinomialNB</label><div class=\"sk-toggleable__content\"><pre>MultinomialNB()</pre></div></div></div></div></div>"
      ],
      "text/plain": [
       "MultinomialNB()"
      ]
     },
     "execution_count": 17,
     "metadata": {},
     "output_type": "execute_result"
    }
   ],
   "source": [
    "from sklearn.naive_bayes import MultinomialNB\n",
    "model=MultinomialNB()\n",
    "model.fit(train_X_tfidf,df_train['Label'])"
   ]
  },
  {
   "cell_type": "code",
   "execution_count": 18,
   "id": "d5c28531",
   "metadata": {},
   "outputs": [
    {
     "name": "stdout",
     "output_type": "stream",
     "text": [
      "87.5 %\n"
     ]
    }
   ],
   "source": [
    "predict = model.predict(test_X_tfidf)\n",
    "acc = (accuracy_score(df_test['Label'],predict))*100\n",
    "\n",
    "print(round(acc,2),'%')"
   ]
  },
  {
   "cell_type": "code",
   "execution_count": 19,
   "id": "a6bd19c4",
   "metadata": {},
   "outputs": [
    {
     "name": "stdout",
     "output_type": "stream",
     "text": [
      "Confusion Matrix : \n",
      "[[51  0 10]\n",
      " [ 0  3  4]\n",
      " [ 2  0 58]]\n"
     ]
    }
   ],
   "source": [
    "conf_matrix = confusion_matrix(df_test['Label'], predict)\n",
    "print(\"Confusion Matrix : \") \n",
    "print(conf_matrix)"
   ]
  },
  {
   "cell_type": "code",
   "execution_count": 20,
   "id": "100f0558",
   "metadata": {},
   "outputs": [
    {
     "data": {
      "image/png": "[encoded data removed]",
      "text/plain": [
       "<Figure size 800x500 with 2 Axes>"
      ]
     },
     "metadata": {},
     "output_type": "display_data"
    }
   ],
   "source": [
    "import seaborn as sns\n",
    "f, ax = plt.subplots(figsize=(8,5))\n",
    "sns.heatmap(confusion_matrix(df_test['Label'], predict), annot=True, fmt=\".0f\",ax=ax)\n",
    "plt.xlabel(\"predict\")\n",
    "plt.ylabel(\"actual\")\n",
    "plt.savefig(r\"confusion matrix.png\")\n",
    "plt.show()"
   ]
  },
  {
   "cell_type": "code",
   "execution_count": 21,
   "id": "a30104e2",
   "metadata": {},
   "outputs": [
    {
     "name": "stdout",
     "output_type": "stream",
     "text": [
      "\n",
      "Here is the classification report:\n",
      "              precision    recall  f1-score   support\n",
      "\n",
      "          -1       0.96      0.84      0.89        61\n",
      "           0       1.00      0.43      0.60         7\n",
      "           1       0.81      0.97      0.88        60\n",
      "\n",
      "    accuracy                           0.88       128\n",
      "   macro avg       0.92      0.74      0.79       128\n",
      "weighted avg       0.89      0.88      0.87       128\n",
      "\n"
     ]
    }
   ],
   "source": [
    "from sklearn.metrics import classification_report\n",
    "# Accuracy, Precision, Recall, f1-score\n",
    "print (\"\\nHere is the classification report:\") \n",
    "print (classification_report(df_test['Label'], predict))"
   ]
  },
  {
   "cell_type": "code",
   "execution_count": 22,
   "id": "9647f6af",
   "metadata": {},
   "outputs": [],
   "source": [
    "# menghitung jumlah label positif dan negatif pada data test setelah hasil prediksi model\n",
    "test_after_nb_count_label = collections.Counter(predict)\n",
    "juml_pos_nb= test_after_nb_count_label[label_positive]\n",
    "juml_net_nb= test_after_nb_count_label[label_netral]\n",
    "juml_neg_nb = test_after_nb_count_label[label_negative]"
   ]
  },
  {
   "cell_type": "code",
   "execution_count": null,
   "id": "cd40acf9",
   "metadata": {},
   "outputs": [],
   "source": []
  },
  {
   "cell_type": "code",
   "execution_count": 30,
   "id": "4456a51d",
   "metadata": {},
   "outputs": [
    {
     "data": {
      "image/png": "[encoded data removed]",
      "text/plain": [
       "<Figure size 640x480 with 1 Axes>"
      ]
     },
     "metadata": {},
     "output_type": "display_data"
    }
   ],
   "source": [
    "#pie chart analisis sentimen\n",
    "labels = ['Positive','Netral','Negative']\n",
    "Category = [juml_pos_nb,juml_net_nb, juml_neg_nb]\n",
    "fig, ax = plt.subplots()\n",
    "color = ['blue','green', 'red']\n",
    "plt.pie(Category, labels=labels, colors=color,startangle=90, shadow=True, autopct='%1.2f%%', explode=(0.1, 0, 0.1))\n",
    "plt.title('Diagram Lingkar Data Hasil Prediksi Klasifikasi Naive Bayes')\n",
    "plt.legend()\n",
    "plt.savefig(r\"pie_nbdtiga.png\")\n",
    "plt.show()"
   ]
  },
  {
   "cell_type": "code",
   "execution_count": 31,
   "id": "45f480d9",
   "metadata": {},
   "outputs": [
    {
     "data": {
      "text/html": [
       "<div>\n",
       "<style scoped>\n",
       "    .dataframe tbody tr th:only-of-type {\n",
       "        vertical-align: middle;\n",
       "    }\n",
       "\n",
       "    .dataframe tbody tr th {\n",
       "        vertical-align: top;\n",
       "    }\n",
       "\n",
       "    .dataframe thead th {\n",
       "        text-align: right;\n",
       "    }\n",
       "</style>\n",
       "<table border=\"1\" class=\"dataframe\">\n",
       "  <thead>\n",
       "    <tr style=\"text-align: right;\">\n",
       "      <th></th>\n",
       "      <th>Unnamed: 0</th>\n",
       "      <th>term</th>\n",
       "      <th>TF-IDF</th>\n",
       "    </tr>\n",
       "  </thead>\n",
       "  <tbody>\n",
       "    <tr>\n",
       "      <th>0</th>\n",
       "      <td>1172</td>\n",
       "      <td>tuju</td>\n",
       "      <td>23.757856</td>\n",
       "    </tr>\n",
       "    <tr>\n",
       "      <th>1</th>\n",
       "      <td>67</td>\n",
       "      <td>atur</td>\n",
       "      <td>18.316195</td>\n",
       "    </tr>\n",
       "    <tr>\n",
       "      <th>2</th>\n",
       "      <td>540</td>\n",
       "      <td>korban</td>\n",
       "      <td>16.769278</td>\n",
       "    </tr>\n",
       "    <tr>\n",
       "      <th>3</th>\n",
       "      <td>503</td>\n",
       "      <td>keras</td>\n",
       "      <td>15.890520</td>\n",
       "    </tr>\n",
       "    <tr>\n",
       "      <th>4</th>\n",
       "      <td>1005</td>\n",
       "      <td>seksual</td>\n",
       "      <td>14.932381</td>\n",
       "    </tr>\n",
       "    <tr>\n",
       "      <th>5</th>\n",
       "      <td>1076</td>\n",
       "      <td>suka</td>\n",
       "      <td>12.989420</td>\n",
       "    </tr>\n",
       "    <tr>\n",
       "      <th>6</th>\n",
       "      <td>871</td>\n",
       "      <td>permendikbud</td>\n",
       "      <td>12.758721</td>\n",
       "    </tr>\n",
       "    <tr>\n",
       "      <th>7</th>\n",
       "      <td>1238</td>\n",
       "      <td>zinah</td>\n",
       "      <td>12.619061</td>\n",
       "    </tr>\n",
       "    <tr>\n",
       "      <th>8</th>\n",
       "      <td>568</td>\n",
       "      <td>laku</td>\n",
       "      <td>12.356357</td>\n",
       "    </tr>\n",
       "    <tr>\n",
       "      <th>9</th>\n",
       "      <td>429</td>\n",
       "      <td>iya</td>\n",
       "      <td>11.393849</td>\n",
       "    </tr>\n",
       "    <tr>\n",
       "      <th>10</th>\n",
       "      <td>145</td>\n",
       "      <td>bnr</td>\n",
       "      <td>10.570575</td>\n",
       "    </tr>\n",
       "    <tr>\n",
       "      <th>11</th>\n",
       "      <td>830</td>\n",
       "      <td>pasal</td>\n",
       "      <td>10.376236</td>\n",
       "    </tr>\n",
       "    <tr>\n",
       "      <th>12</th>\n",
       "      <td>1142</td>\n",
       "      <td>tindak</td>\n",
       "      <td>10.271214</td>\n",
       "    </tr>\n",
       "    <tr>\n",
       "      <th>13</th>\n",
       "      <td>318</td>\n",
       "      <td>gak</td>\n",
       "      <td>9.522996</td>\n",
       "    </tr>\n",
       "    <tr>\n",
       "      <th>14</th>\n",
       "      <td>893</td>\n",
       "      <td>pks</td>\n",
       "      <td>9.254180</td>\n",
       "    </tr>\n",
       "  </tbody>\n",
       "</table>\n",
       "</div>"
      ],
      "text/plain": [
       "    Unnamed: 0          term     TF-IDF\n",
       "0         1172          tuju  23.757856\n",
       "1           67          atur  18.316195\n",
       "2          540        korban  16.769278\n",
       "3          503         keras  15.890520\n",
       "4         1005       seksual  14.932381\n",
       "5         1076          suka  12.989420\n",
       "6          871  permendikbud  12.758721\n",
       "7         1238         zinah  12.619061\n",
       "8          568          laku  12.356357\n",
       "9          429           iya  11.393849\n",
       "10         145           bnr  10.570575\n",
       "11         830         pasal  10.376236\n",
       "12        1142        tindak  10.271214\n",
       "13         318           gak   9.522996\n",
       "14         893           pks   9.254180"
      ]
     },
     "execution_count": 31,
     "metadata": {},
     "output_type": "execute_result"
    }
   ],
   "source": [
    "kamus_kata = pd.read_csv(r'tfidf_traintiga.csv')\n",
    "kamus_kata.head(15)"
   ]
  },
  {
   "cell_type": "code",
   "execution_count": 32,
   "id": "99bbf312",
   "metadata": {},
   "outputs": [
    {
     "data": {
      "text/html": [
       "<div>\n",
       "<style scoped>\n",
       "    .dataframe tbody tr th:only-of-type {\n",
       "        vertical-align: middle;\n",
       "    }\n",
       "\n",
       "    .dataframe tbody tr th {\n",
       "        vertical-align: top;\n",
       "    }\n",
       "\n",
       "    .dataframe thead th {\n",
       "        text-align: right;\n",
       "    }\n",
       "</style>\n",
       "<table border=\"1\" class=\"dataframe\">\n",
       "  <thead>\n",
       "    <tr style=\"text-align: right;\">\n",
       "      <th></th>\n",
       "      <th>term</th>\n",
       "      <th>TF-IDF</th>\n",
       "    </tr>\n",
       "  </thead>\n",
       "  <tbody>\n",
       "    <tr>\n",
       "      <th>0</th>\n",
       "      <td>tuju</td>\n",
       "      <td>23.757856</td>\n",
       "    </tr>\n",
       "    <tr>\n",
       "      <th>1</th>\n",
       "      <td>atur</td>\n",
       "      <td>18.316195</td>\n",
       "    </tr>\n",
       "    <tr>\n",
       "      <th>2</th>\n",
       "      <td>korban</td>\n",
       "      <td>16.769278</td>\n",
       "    </tr>\n",
       "    <tr>\n",
       "      <th>3</th>\n",
       "      <td>keras</td>\n",
       "      <td>15.890520</td>\n",
       "    </tr>\n",
       "    <tr>\n",
       "      <th>4</th>\n",
       "      <td>seksual</td>\n",
       "      <td>14.932381</td>\n",
       "    </tr>\n",
       "    <tr>\n",
       "      <th>5</th>\n",
       "      <td>suka</td>\n",
       "      <td>12.989420</td>\n",
       "    </tr>\n",
       "    <tr>\n",
       "      <th>6</th>\n",
       "      <td>permendikbud</td>\n",
       "      <td>12.758721</td>\n",
       "    </tr>\n",
       "    <tr>\n",
       "      <th>7</th>\n",
       "      <td>zinah</td>\n",
       "      <td>12.619061</td>\n",
       "    </tr>\n",
       "    <tr>\n",
       "      <th>8</th>\n",
       "      <td>laku</td>\n",
       "      <td>12.356357</td>\n",
       "    </tr>\n",
       "    <tr>\n",
       "      <th>9</th>\n",
       "      <td>iya</td>\n",
       "      <td>11.393849</td>\n",
       "    </tr>\n",
       "    <tr>\n",
       "      <th>10</th>\n",
       "      <td>bnr</td>\n",
       "      <td>10.570575</td>\n",
       "    </tr>\n",
       "    <tr>\n",
       "      <th>11</th>\n",
       "      <td>pasal</td>\n",
       "      <td>10.376236</td>\n",
       "    </tr>\n",
       "    <tr>\n",
       "      <th>12</th>\n",
       "      <td>tindak</td>\n",
       "      <td>10.271214</td>\n",
       "    </tr>\n",
       "    <tr>\n",
       "      <th>13</th>\n",
       "      <td>gak</td>\n",
       "      <td>9.522996</td>\n",
       "    </tr>\n",
       "    <tr>\n",
       "      <th>14</th>\n",
       "      <td>pks</td>\n",
       "      <td>9.254180</td>\n",
       "    </tr>\n",
       "  </tbody>\n",
       "</table>\n",
       "</div>"
      ],
      "text/plain": [
       "            term     TF-IDF\n",
       "0           tuju  23.757856\n",
       "1           atur  18.316195\n",
       "2         korban  16.769278\n",
       "3          keras  15.890520\n",
       "4        seksual  14.932381\n",
       "5           suka  12.989420\n",
       "6   permendikbud  12.758721\n",
       "7          zinah  12.619061\n",
       "8           laku  12.356357\n",
       "9            iya  11.393849\n",
       "10           bnr  10.570575\n",
       "11         pasal  10.376236\n",
       "12        tindak  10.271214\n",
       "13           gak   9.522996\n",
       "14           pks   9.254180"
      ]
     },
     "execution_count": 32,
     "metadata": {},
     "output_type": "execute_result"
    }
   ],
   "source": [
    "del kamus_kata['Unnamed: 0']\n",
    "kamus_kata.head(15)"
   ]
  },
  {
   "cell_type": "code",
   "execution_count": 33,
   "id": "598217b4",
   "metadata": {},
   "outputs": [],
   "source": [
    "import pickle\n",
    "pickle.dump(model,\n",
    "            open('model_nbtiga.pkl', 'wb'),\n",
    "            protocol=4)"
   ]
  },
  {
   "cell_type": "code",
   "execution_count": 34,
   "id": "d949506f",
   "metadata": {},
   "outputs": [],
   "source": [
    "pickle.dump(tfidf_vect,\n",
    "            open('tfidf.pkl', 'wb'),\n",
    "            protocol=4)"
   ]
  },
  {
   "cell_type": "code",
   "execution_count": null,
   "id": "33347876",
   "metadata": {},
   "outputs": [],
   "source": []
  }
 ],
 "metadata": {
  "kernelspec": {
   "display_name": "Python 3 (ipykernel)",
   "language": "python",
   "name": "python3"
  },
  "language_info": {
   "codemirror_mode": {
    "name": "ipython",
    "version": 3
   },
   "file_extension": ".py",
   "mimetype": "text/x-python",
   "name": "python",
   "nbconvert_exporter": "python",
   "pygments_lexer": "ipython3",
   "version": "3.9.15"
  }
 },
 "nbformat": 4,
 "nbformat_minor": 5
}
