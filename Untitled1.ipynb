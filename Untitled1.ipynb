{
 "cells": [
  {
   "cell_type": "code",
   "execution_count": 1,
   "id": "813297a7",
   "metadata": {},
   "outputs": [],
   "source": [
    "import numpy as np\n",
    "import pandas as pd\n",
    "import matplotlib.pyplot as plt\n",
    "import seaborn as sns\n",
    "import collections\n",
    "from sklearn import model_selection\n",
    "from sklearn.model_selection import cross_val_score\n",
    "from sklearn.model_selection import train_test_split\n",
    "from sklearn.feature_extraction.text import TfidfVectorizer\n",
    "from sklearn.metrics import accuracy_score\n",
    "from sklearn.metrics import confusion_matrix\n",
    "import nltk\n"
   ]
  },
  {
   "cell_type": "code",
   "execution_count": 2,
   "id": "b1376fb6",
   "metadata": {},
   "outputs": [],
   "source": [
    "label_positive = 1 \n",
    "label_netral = 0\n",
    "label_negative = -1"
   ]
  },
  {
   "cell_type": "code",
   "execution_count": 3,
   "id": "5bc132fc",
   "metadata": {},
   "outputs": [
    {
     "data": {
      "text/html": [
       "<div>\n",
       "<style scoped>\n",
       "    .dataframe tbody tr th:only-of-type {\n",
       "        vertical-align: middle;\n",
       "    }\n",
       "\n",
       "    .dataframe tbody tr th {\n",
       "        vertical-align: top;\n",
       "    }\n",
       "\n",
       "    .dataframe thead th {\n",
       "        text-align: right;\n",
       "    }\n",
       "</style>\n",
       "<table border=\"1\" class=\"dataframe\">\n",
       "  <thead>\n",
       "    <tr style=\"text-align: right;\">\n",
       "      <th></th>\n",
       "      <th>Unnamed: 0</th>\n",
       "      <th>Komentar</th>\n",
       "      <th>Label</th>\n",
       "      <th>TOKENIZATION</th>\n",
       "      <th>STOP_REMOVAL</th>\n",
       "      <th>STEMMER</th>\n",
       "      <th>Komentar_Final</th>\n",
       "    </tr>\n",
       "  </thead>\n",
       "  <tbody>\n",
       "    <tr>\n",
       "      <th>0</th>\n",
       "      <td>0</td>\n",
       "      <td>seharusnya ruu tentang perlindungan korban kek...</td>\n",
       "      <td>negatif</td>\n",
       "      <td>['seharusnya', 'ruu', 'tentang', 'perlindungan...</td>\n",
       "      <td>['ruu', 'perlindungan', 'korban', 'kekerasan',...</td>\n",
       "      <td>['ruu', 'lindung', 'korban', 'keras', 'seksual...</td>\n",
       "      <td>ruu lindung korban keras seksual hrs legal byk...</td>\n",
       "    </tr>\n",
       "    <tr>\n",
       "      <th>1</th>\n",
       "      <td>1</td>\n",
       "      <td>bahkan sekelas goto aja masih kelolosan apalag...</td>\n",
       "      <td>negatif</td>\n",
       "      <td>['bahkan', 'sekelas', 'goto', 'aja', 'masih', ...</td>\n",
       "      <td>['sekelas', 'goto', 'kelolosan', 'rempahan', '...</td>\n",
       "      <td>['kelas', 'goto', 'lolos', 'rempah', 'renggina...</td>\n",
       "      <td>kelas goto lolos rempah rengginang kong wan</td>\n",
       "    </tr>\n",
       "    <tr>\n",
       "      <th>2</th>\n",
       "      <td>2</td>\n",
       "      <td>mendikbud yg tdk faham adab bangsa timur</td>\n",
       "      <td>negatif</td>\n",
       "      <td>['mendikbud', 'yg', 'tdk', 'faham', 'adab', 'b...</td>\n",
       "      <td>['mendikbud', 'tdk', 'faham', 'adab', 'bangsa'...</td>\n",
       "      <td>['mendikbud', 'tdk', 'faham', 'adab', 'bangsa'...</td>\n",
       "      <td>mendikbud tdk faham adab bangsa timur</td>\n",
       "    </tr>\n",
       "    <tr>\n",
       "      <th>3</th>\n",
       "      <td>3</td>\n",
       "      <td>kirain digugat gara gara data mining</td>\n",
       "      <td>negatif</td>\n",
       "      <td>['kirain', 'digugat', 'gara', 'gara', 'data', ...</td>\n",
       "      <td>['kirain', 'digugat', 'gara', 'gara', 'data', ...</td>\n",
       "      <td>['kirain', 'gugat', 'gara', 'gara', 'data', 'm...</td>\n",
       "      <td>kirain gugat gara gara data mining</td>\n",
       "    </tr>\n",
       "    <tr>\n",
       "      <th>4</th>\n",
       "      <td>4</td>\n",
       "      <td>narasi suka sama yg bebas</td>\n",
       "      <td>negatif</td>\n",
       "      <td>['narasi', 'suka', 'sama', 'yg', 'bebas']</td>\n",
       "      <td>['narasi', 'suka', 'bebas']</td>\n",
       "      <td>['narasi', 'suka', 'bebas']</td>\n",
       "      <td>narasi suka bebas</td>\n",
       "    </tr>\n",
       "  </tbody>\n",
       "</table>\n",
       "</div>"
      ],
      "text/plain": [
       "   Unnamed: 0                                           Komentar    Label  \\\n",
       "0           0  seharusnya ruu tentang perlindungan korban kek...  negatif   \n",
       "1           1  bahkan sekelas goto aja masih kelolosan apalag...  negatif   \n",
       "2           2           mendikbud yg tdk faham adab bangsa timur  negatif   \n",
       "3           3              kirain digugat gara gara data mining   negatif   \n",
       "4           4                          narasi suka sama yg bebas  negatif   \n",
       "\n",
       "                                        TOKENIZATION  \\\n",
       "0  ['seharusnya', 'ruu', 'tentang', 'perlindungan...   \n",
       "1  ['bahkan', 'sekelas', 'goto', 'aja', 'masih', ...   \n",
       "2  ['mendikbud', 'yg', 'tdk', 'faham', 'adab', 'b...   \n",
       "3  ['kirain', 'digugat', 'gara', 'gara', 'data', ...   \n",
       "4          ['narasi', 'suka', 'sama', 'yg', 'bebas']   \n",
       "\n",
       "                                        STOP_REMOVAL  \\\n",
       "0  ['ruu', 'perlindungan', 'korban', 'kekerasan',...   \n",
       "1  ['sekelas', 'goto', 'kelolosan', 'rempahan', '...   \n",
       "2  ['mendikbud', 'tdk', 'faham', 'adab', 'bangsa'...   \n",
       "3  ['kirain', 'digugat', 'gara', 'gara', 'data', ...   \n",
       "4                        ['narasi', 'suka', 'bebas']   \n",
       "\n",
       "                                             STEMMER  \\\n",
       "0  ['ruu', 'lindung', 'korban', 'keras', 'seksual...   \n",
       "1  ['kelas', 'goto', 'lolos', 'rempah', 'renggina...   \n",
       "2  ['mendikbud', 'tdk', 'faham', 'adab', 'bangsa'...   \n",
       "3  ['kirain', 'gugat', 'gara', 'gara', 'data', 'm...   \n",
       "4                        ['narasi', 'suka', 'bebas']   \n",
       "\n",
       "                                      Komentar_Final  \n",
       "0  ruu lindung korban keras seksual hrs legal byk...  \n",
       "1        kelas goto lolos rempah rengginang kong wan  \n",
       "2              mendikbud tdk faham adab bangsa timur  \n",
       "3                 kirain gugat gara gara data mining  \n",
       "4                                  narasi suka bebas  "
      ]
     },
     "execution_count": 3,
     "metadata": {},
     "output_type": "execute_result"
    }
   ],
   "source": [
    "df = pd.read_csv(r'PreProcessing.csv')\n",
    "df.head()"
   ]
  },
  {
   "cell_type": "code",
   "execution_count": 4,
   "id": "fdc764b6",
   "metadata": {},
   "outputs": [
    {
     "data": {
      "text/html": [
       "<div>\n",
       "<style scoped>\n",
       "    .dataframe tbody tr th:only-of-type {\n",
       "        vertical-align: middle;\n",
       "    }\n",
       "\n",
       "    .dataframe tbody tr th {\n",
       "        vertical-align: top;\n",
       "    }\n",
       "\n",
       "    .dataframe thead th {\n",
       "        text-align: right;\n",
       "    }\n",
       "</style>\n",
       "<table border=\"1\" class=\"dataframe\">\n",
       "  <thead>\n",
       "    <tr style=\"text-align: right;\">\n",
       "      <th></th>\n",
       "      <th>Komentar</th>\n",
       "      <th>Label</th>\n",
       "      <th>TOKENIZATION</th>\n",
       "      <th>STEMMER</th>\n",
       "      <th>Komentar_Final</th>\n",
       "    </tr>\n",
       "  </thead>\n",
       "  <tbody>\n",
       "    <tr>\n",
       "      <th>0</th>\n",
       "      <td>seharusnya ruu tentang perlindungan korban kek...</td>\n",
       "      <td>negatif</td>\n",
       "      <td>['seharusnya', 'ruu', 'tentang', 'perlindungan...</td>\n",
       "      <td>['ruu', 'lindung', 'korban', 'keras', 'seksual...</td>\n",
       "      <td>ruu lindung korban keras seksual hrs legal byk...</td>\n",
       "    </tr>\n",
       "    <tr>\n",
       "      <th>1</th>\n",
       "      <td>bahkan sekelas goto aja masih kelolosan apalag...</td>\n",
       "      <td>negatif</td>\n",
       "      <td>['bahkan', 'sekelas', 'goto', 'aja', 'masih', ...</td>\n",
       "      <td>['kelas', 'goto', 'lolos', 'rempah', 'renggina...</td>\n",
       "      <td>kelas goto lolos rempah rengginang kong wan</td>\n",
       "    </tr>\n",
       "    <tr>\n",
       "      <th>2</th>\n",
       "      <td>mendikbud yg tdk faham adab bangsa timur</td>\n",
       "      <td>negatif</td>\n",
       "      <td>['mendikbud', 'yg', 'tdk', 'faham', 'adab', 'b...</td>\n",
       "      <td>['mendikbud', 'tdk', 'faham', 'adab', 'bangsa'...</td>\n",
       "      <td>mendikbud tdk faham adab bangsa timur</td>\n",
       "    </tr>\n",
       "    <tr>\n",
       "      <th>3</th>\n",
       "      <td>kirain digugat gara gara data mining</td>\n",
       "      <td>negatif</td>\n",
       "      <td>['kirain', 'digugat', 'gara', 'gara', 'data', ...</td>\n",
       "      <td>['kirain', 'gugat', 'gara', 'gara', 'data', 'm...</td>\n",
       "      <td>kirain gugat gara gara data mining</td>\n",
       "    </tr>\n",
       "    <tr>\n",
       "      <th>4</th>\n",
       "      <td>narasi suka sama yg bebas</td>\n",
       "      <td>negatif</td>\n",
       "      <td>['narasi', 'suka', 'sama', 'yg', 'bebas']</td>\n",
       "      <td>['narasi', 'suka', 'bebas']</td>\n",
       "      <td>narasi suka bebas</td>\n",
       "    </tr>\n",
       "  </tbody>\n",
       "</table>\n",
       "</div>"
      ],
      "text/plain": [
       "                                            Komentar    Label  \\\n",
       "0  seharusnya ruu tentang perlindungan korban kek...  negatif   \n",
       "1  bahkan sekelas goto aja masih kelolosan apalag...  negatif   \n",
       "2           mendikbud yg tdk faham adab bangsa timur  negatif   \n",
       "3              kirain digugat gara gara data mining   negatif   \n",
       "4                          narasi suka sama yg bebas  negatif   \n",
       "\n",
       "                                        TOKENIZATION  \\\n",
       "0  ['seharusnya', 'ruu', 'tentang', 'perlindungan...   \n",
       "1  ['bahkan', 'sekelas', 'goto', 'aja', 'masih', ...   \n",
       "2  ['mendikbud', 'yg', 'tdk', 'faham', 'adab', 'b...   \n",
       "3  ['kirain', 'digugat', 'gara', 'gara', 'data', ...   \n",
       "4          ['narasi', 'suka', 'sama', 'yg', 'bebas']   \n",
       "\n",
       "                                             STEMMER  \\\n",
       "0  ['ruu', 'lindung', 'korban', 'keras', 'seksual...   \n",
       "1  ['kelas', 'goto', 'lolos', 'rempah', 'renggina...   \n",
       "2  ['mendikbud', 'tdk', 'faham', 'adab', 'bangsa'...   \n",
       "3  ['kirain', 'gugat', 'gara', 'gara', 'data', 'm...   \n",
       "4                        ['narasi', 'suka', 'bebas']   \n",
       "\n",
       "                                      Komentar_Final  \n",
       "0  ruu lindung korban keras seksual hrs legal byk...  \n",
       "1        kelas goto lolos rempah rengginang kong wan  \n",
       "2              mendikbud tdk faham adab bangsa timur  \n",
       "3                 kirain gugat gara gara data mining  \n",
       "4                                  narasi suka bebas  "
      ]
     },
     "execution_count": 4,
     "metadata": {},
     "output_type": "execute_result"
    }
   ],
   "source": [
    "df = df.drop(df.columns[[0, 4]], axis=1)\n",
    "df.head()"
   ]
  },
  {
   "cell_type": "code",
   "execution_count": 5,
   "id": "255f5c7b",
   "metadata": {},
   "outputs": [],
   "source": [
    "# Split into train and test data\n",
    "\n",
    "train_X, test_X, train_Y, test_Y = model_selection.train_test_split(df['Komentar_Final'], df['Label'], test_size = 0.2,random_state = 20)\n",
    "# random_state = 20 menyatakan kita akan mendapatkan output yang sama dengan saat pertama kali membuat pemisahan."
   ]
  },
  {
   "cell_type": "code",
   "execution_count": 6,
   "id": "b5062ee0",
   "metadata": {},
   "outputs": [],
   "source": [
    "df_train = pd.DataFrame()\n",
    "df_train['Sentiment'] = train_X\n",
    "df_train['Label'] = train_Y\n",
    "\n",
    "df_test = pd.DataFrame()\n",
    "df_test['Sentiment'] = test_X\n",
    "df_test['Label'] = test_Y"
   ]
  },
  {
   "cell_type": "code",
   "execution_count": 7,
   "id": "91af29ed",
   "metadata": {},
   "outputs": [],
   "source": [
    "def convert(label):\n",
    "  if label == 'positif':\n",
    "    return 1\n",
    "  elif label == 'netral':\n",
    "    return 0\n",
    "  else:\n",
    "    return -1\n",
    "\n",
    "df_train['Label'] = train_Y.apply(convert)\n",
    "df_test['Label'] = test_Y.apply(convert)"
   ]
  },
  {
   "cell_type": "code",
   "execution_count": 8,
   "id": "0f72922b",
   "metadata": {},
   "outputs": [
    {
     "data": {
      "text/html": [
       "<style>#sk-container-id-1 {color: black;background-color: white;}#sk-container-id-1 pre{padding: 0;}#sk-container-id-1 div.sk-toggleable {background-color: white;}#sk-container-id-1 label.sk-toggleable__label {cursor: pointer;display: block;width: 100%;margin-bottom: 0;padding: 0.3em;box-sizing: border-box;text-align: center;}#sk-container-id-1 label.sk-toggleable__label-arrow:before {content: \"▸\";float: left;margin-right: 0.25em;color: #696969;}#sk-container-id-1 label.sk-toggleable__label-arrow:hover:before {color: black;}#sk-container-id-1 div.sk-estimator:hover label.sk-toggleable__label-arrow:before {color: black;}#sk-container-id-1 div.sk-toggleable__content {max-height: 0;max-width: 0;overflow: hidden;text-align: left;background-color: #f0f8ff;}#sk-container-id-1 div.sk-toggleable__content pre {margin: 0.2em;color: black;border-radius: 0.25em;background-color: #f0f8ff;}#sk-container-id-1 input.sk-toggleable__control:checked~div.sk-toggleable__content {max-height: 200px;max-width: 100%;overflow: auto;}#sk-container-id-1 input.sk-toggleable__control:checked~label.sk-toggleable__label-arrow:before {content: \"▾\";}#sk-container-id-1 div.sk-estimator input.sk-toggleable__control:checked~label.sk-toggleable__label {background-color: #d4ebff;}#sk-container-id-1 div.sk-label input.sk-toggleable__control:checked~label.sk-toggleable__label {background-color: #d4ebff;}#sk-container-id-1 input.sk-hidden--visually {border: 0;clip: rect(1px 1px 1px 1px);clip: rect(1px, 1px, 1px, 1px);height: 1px;margin: -1px;overflow: hidden;padding: 0;position: absolute;width: 1px;}#sk-container-id-1 div.sk-estimator {font-family: monospace;background-color: #f0f8ff;border: 1px dotted black;border-radius: 0.25em;box-sizing: border-box;margin-bottom: 0.5em;}#sk-container-id-1 div.sk-estimator:hover {background-color: #d4ebff;}#sk-container-id-1 div.sk-parallel-item::after {content: \"\";width: 100%;border-bottom: 1px solid gray;flex-grow: 1;}#sk-container-id-1 div.sk-label:hover label.sk-toggleable__label {background-color: #d4ebff;}#sk-container-id-1 div.sk-serial::before {content: \"\";position: absolute;border-left: 1px solid gray;box-sizing: border-box;top: 0;bottom: 0;left: 50%;z-index: 0;}#sk-container-id-1 div.sk-serial {display: flex;flex-direction: column;align-items: center;background-color: white;padding-right: 0.2em;padding-left: 0.2em;position: relative;}#sk-container-id-1 div.sk-item {position: relative;z-index: 1;}#sk-container-id-1 div.sk-parallel {display: flex;align-items: stretch;justify-content: center;background-color: white;position: relative;}#sk-container-id-1 div.sk-item::before, #sk-container-id-1 div.sk-parallel-item::before {content: \"\";position: absolute;border-left: 1px solid gray;box-sizing: border-box;top: 0;bottom: 0;left: 50%;z-index: -1;}#sk-container-id-1 div.sk-parallel-item {display: flex;flex-direction: column;z-index: 1;position: relative;background-color: white;}#sk-container-id-1 div.sk-parallel-item:first-child::after {align-self: flex-end;width: 50%;}#sk-container-id-1 div.sk-parallel-item:last-child::after {align-self: flex-start;width: 50%;}#sk-container-id-1 div.sk-parallel-item:only-child::after {width: 0;}#sk-container-id-1 div.sk-dashed-wrapped {border: 1px dashed gray;margin: 0 0.4em 0.5em 0.4em;box-sizing: border-box;padding-bottom: 0.4em;background-color: white;}#sk-container-id-1 div.sk-label label {font-family: monospace;font-weight: bold;display: inline-block;line-height: 1.2em;}#sk-container-id-1 div.sk-label-container {text-align: center;}#sk-container-id-1 div.sk-container {/* jupyter's `normalize.less` sets `[hidden] { display: none; }` but bootstrap.min.css set `[hidden] { display: none !important; }` so we also need the `!important` here to be able to override the default hidden behavior on the sphinx rendered scikit-learn.org. See: https://github.com/scikit-learn/scikit-learn/issues/21755 */display: inline-block !important;position: relative;}#sk-container-id-1 div.sk-text-repr-fallback {display: none;}</style><div id=\"sk-container-id-1\" class=\"sk-top-container\"><div class=\"sk-text-repr-fallback\"><pre>TfidfVectorizer(max_features=5000)</pre><b>In a Jupyter environment, please rerun this cell to show the HTML representation or trust the notebook. <br />On GitHub, the HTML representation is unable to render, please try loading this page with nbviewer.org.</b></div><div class=\"sk-container\" hidden><div class=\"sk-item\"><div class=\"sk-estimator sk-toggleable\"><input class=\"sk-toggleable__control sk-hidden--visually\" id=\"sk-estimator-id-1\" type=\"checkbox\" checked><label for=\"sk-estimator-id-1\" class=\"sk-toggleable__label sk-toggleable__label-arrow\">TfidfVectorizer</label><div class=\"sk-toggleable__content\"><pre>TfidfVectorizer(max_features=5000)</pre></div></div></div></div></div>"
      ],
      "text/plain": [
       "TfidfVectorizer(max_features=5000)"
      ]
     },
     "execution_count": 8,
     "metadata": {},
     "output_type": "execute_result"
    }
   ],
   "source": [
    "# TF-IDF\n",
    "tfidf_vect = TfidfVectorizer(max_features = 5000)\n",
    "# tfidf_vect.fit(df_train['Sentiment'])\n",
    "tfidf_vect.fit(df['Komentar_Final'])\n"
   ]
  },
  {
   "cell_type": "code",
   "execution_count": 9,
   "id": "71d60b7b",
   "metadata": {},
   "outputs": [
    {
     "data": {
      "text/html": [
       "<style>#sk-container-id-2 {color: black;background-color: white;}#sk-container-id-2 pre{padding: 0;}#sk-container-id-2 div.sk-toggleable {background-color: white;}#sk-container-id-2 label.sk-toggleable__label {cursor: pointer;display: block;width: 100%;margin-bottom: 0;padding: 0.3em;box-sizing: border-box;text-align: center;}#sk-container-id-2 label.sk-toggleable__label-arrow:before {content: \"▸\";float: left;margin-right: 0.25em;color: #696969;}#sk-container-id-2 label.sk-toggleable__label-arrow:hover:before {color: black;}#sk-container-id-2 div.sk-estimator:hover label.sk-toggleable__label-arrow:before {color: black;}#sk-container-id-2 div.sk-toggleable__content {max-height: 0;max-width: 0;overflow: hidden;text-align: left;background-color: #f0f8ff;}#sk-container-id-2 div.sk-toggleable__content pre {margin: 0.2em;color: black;border-radius: 0.25em;background-color: #f0f8ff;}#sk-container-id-2 input.sk-toggleable__control:checked~div.sk-toggleable__content {max-height: 200px;max-width: 100%;overflow: auto;}#sk-container-id-2 input.sk-toggleable__control:checked~label.sk-toggleable__label-arrow:before {content: \"▾\";}#sk-container-id-2 div.sk-estimator input.sk-toggleable__control:checked~label.sk-toggleable__label {background-color: #d4ebff;}#sk-container-id-2 div.sk-label input.sk-toggleable__control:checked~label.sk-toggleable__label {background-color: #d4ebff;}#sk-container-id-2 input.sk-hidden--visually {border: 0;clip: rect(1px 1px 1px 1px);clip: rect(1px, 1px, 1px, 1px);height: 1px;margin: -1px;overflow: hidden;padding: 0;position: absolute;width: 1px;}#sk-container-id-2 div.sk-estimator {font-family: monospace;background-color: #f0f8ff;border: 1px dotted black;border-radius: 0.25em;box-sizing: border-box;margin-bottom: 0.5em;}#sk-container-id-2 div.sk-estimator:hover {background-color: #d4ebff;}#sk-container-id-2 div.sk-parallel-item::after {content: \"\";width: 100%;border-bottom: 1px solid gray;flex-grow: 1;}#sk-container-id-2 div.sk-label:hover label.sk-toggleable__label {background-color: #d4ebff;}#sk-container-id-2 div.sk-serial::before {content: \"\";position: absolute;border-left: 1px solid gray;box-sizing: border-box;top: 0;bottom: 0;left: 50%;z-index: 0;}#sk-container-id-2 div.sk-serial {display: flex;flex-direction: column;align-items: center;background-color: white;padding-right: 0.2em;padding-left: 0.2em;position: relative;}#sk-container-id-2 div.sk-item {position: relative;z-index: 1;}#sk-container-id-2 div.sk-parallel {display: flex;align-items: stretch;justify-content: center;background-color: white;position: relative;}#sk-container-id-2 div.sk-item::before, #sk-container-id-2 div.sk-parallel-item::before {content: \"\";position: absolute;border-left: 1px solid gray;box-sizing: border-box;top: 0;bottom: 0;left: 50%;z-index: -1;}#sk-container-id-2 div.sk-parallel-item {display: flex;flex-direction: column;z-index: 1;position: relative;background-color: white;}#sk-container-id-2 div.sk-parallel-item:first-child::after {align-self: flex-end;width: 50%;}#sk-container-id-2 div.sk-parallel-item:last-child::after {align-self: flex-start;width: 50%;}#sk-container-id-2 div.sk-parallel-item:only-child::after {width: 0;}#sk-container-id-2 div.sk-dashed-wrapped {border: 1px dashed gray;margin: 0 0.4em 0.5em 0.4em;box-sizing: border-box;padding-bottom: 0.4em;background-color: white;}#sk-container-id-2 div.sk-label label {font-family: monospace;font-weight: bold;display: inline-block;line-height: 1.2em;}#sk-container-id-2 div.sk-label-container {text-align: center;}#sk-container-id-2 div.sk-container {/* jupyter's `normalize.less` sets `[hidden] { display: none; }` but bootstrap.min.css set `[hidden] { display: none !important; }` so we also need the `!important` here to be able to override the default hidden behavior on the sphinx rendered scikit-learn.org. See: https://github.com/scikit-learn/scikit-learn/issues/21755 */display: inline-block !important;position: relative;}#sk-container-id-2 div.sk-text-repr-fallback {display: none;}</style><div id=\"sk-container-id-2\" class=\"sk-top-container\"><div class=\"sk-text-repr-fallback\"><pre>TfidfVectorizer(max_features=5000)</pre><b>In a Jupyter environment, please rerun this cell to show the HTML representation or trust the notebook. <br />On GitHub, the HTML representation is unable to render, please try loading this page with nbviewer.org.</b></div><div class=\"sk-container\" hidden><div class=\"sk-item\"><div class=\"sk-estimator sk-toggleable\"><input class=\"sk-toggleable__control sk-hidden--visually\" id=\"sk-estimator-id-2\" type=\"checkbox\" checked><label for=\"sk-estimator-id-2\" class=\"sk-toggleable__label sk-toggleable__label-arrow\">TfidfVectorizer</label><div class=\"sk-toggleable__content\"><pre>TfidfVectorizer(max_features=5000)</pre></div></div></div></div></div>"
      ],
      "text/plain": [
       "TfidfVectorizer(max_features=5000)"
      ]
     },
     "execution_count": 9,
     "metadata": {},
     "output_type": "execute_result"
    }
   ],
   "source": [
    "tfidf_vect"
   ]
  },
  {
   "cell_type": "code",
   "execution_count": 10,
   "id": "afcbc5a3",
   "metadata": {},
   "outputs": [
    {
     "name": "stdout",
     "output_type": "stream",
     "text": [
      "\n",
      "selected words as feature : \n",
      "----------------------------\n",
      "['aamaan', 'aborsi', 'absorb', 'acara', 'adab', 'adap', 'adem', 'adh', 'aduh', 'agama', 'ahirnya', 'ahklak', 'ahklaq', 'aj', 'ajaib', 'ajak', 'ajar', 'ajaranya', 'akal', 'akar', 'akherat', 'akhir', 'akhlak', 'akibat', 'akibatnx', 'aklaq', 'aksi', 'aktif', 'al', 'alaikum', 'alam', 'alangkah', 'alat', 'alesanya', 'alias', 'alibi', 'allah', 'alloh', 'ama', 'ambigu', 'ambiguitas', 'ambil', 'amburadul', 'ampun', 'ana', 'anak', 'ancam', 'ancur', 'ancuran', 'anda', 'aneeh', 'anehny', 'ang', 'anggap', 'anggar', 'anggauta', 'angkat', 'anisya', 'anti', 'antisipasi', 'anut', 'aoa', 'apa', 'apalgi', 'apasaja', 'apasalahnya', 'api', 'apologize', 'apps', 'aq', 'arab', 'arah', 'argumen', 'arif', 'arigatoguzaimasu', 'arti', 'artis', 'asa', 'assalamualaikum', 'astaghfirullah', 'asu', 'asyiik', 'at', 'atau', 'ato', 'atur', 'ayah', 'ayam', 'ayat', 'ayo', 'azas', 'azni', 'bab', 'babad', 'babe', 'babeh', 'babey', 'baca', 'bacot', 'badan', 'bae', 'bag', 'bagai', 'bagas', 'bahas', 'bahasa', 'bahaya', 'baik', 'baju', 'bak', 'banding', 'bangsa', 'banyak', 'barat', 'basah', 'bawa', 'bawah', 'bayang', 'bayar', 'bayi', 'be', 'bebas', 'becus', 'beda', 'bejad', 'bekebudayaan', 'bela', 'belagu', 'belah', 'beliau', 'beludak', 'benang', 'benar', 'bener', 'bentuk', 'berani', 'berat', 'berita', 'bernaman', 'berzinaa', 'berzinah', 'betapa', 'betawi', 'betina', 'betmen', 'bgt', 'bgtu', 'bh', 'bhahaha', 'bhkn', 'biadab', 'biar', 'bicarax', 'bidadari', 'bijak', 'bikin', 'binatang', 'bingung', 'bismillahirrahmanirrahim', 'bisnis', 'bkn', 'blepot', 'blh', 'blhkan', 'blhlkan', 'blm', 'bngt', 'bnr', 'bo', 'bobot', 'bocil', 'bodoh', 'bohong', 'bokbrok', 'boleh', 'bolong', 'bom', 'bong', 'boong', 'brati', 'bravo', 'brng', 'brpa', 'brsama', 'brti', 'brunding', 'bsa', 'bu', 'buang', 'buat', 'budaya', 'buk', 'buka', 'bukti', 'bumi', 'bunga', 'bungkus', 'buntel', 'bunting', 'bunuh', 'buru', 'burukk', 'buset', 'busuk', 'buta', 'butuh', 'buzzer', 'bwahahaahaha', 'byk', 'byr', 'cabul', 'cabut', 'cakap', 'campur', 'cantik', 'cantiku', 'cari', 'case', 'cebong', 'cegah', 'cek', 'celah', 'cendana', 'cerdas', 'cetek', 'cewek', 'chat', 'cinta', 'cipta', 'ciri', 'cm', 'coba', 'coklat', 'comment', 'comot', 'contoh', 'cucu', 'culun', 'cureek', 'curek', 'cwe', 'dah', 'dajal', 'dalam', 'dalem', 'dalih', 'dampak', 'dangkal', 'dannkata', 'dapat', 'daruat', 'darurat', 'dasar', 'data', 'dateng', 'deal', 'defense', 'deh', 'delik', 'dewan', 'dhohirnya', 'didenger', 'didik', 'diem', 'difikiran', 'diknasristek', 'dimna', 'dipungkiri', 'disamain', 'disetubuhin', 'diskusi', 'dkk', 'dlm', 'dlu', 'dmester', 'dmn', 'dn', 'dngan', 'do', 'dosa', 'dosen', 'doyan', 'dpr', 'dpt', 'dr', 'drp', 'dsb', 'dtg', 'duka', 'dukung', 'dungu', 'dungurockygarong', 'dunia', 'duo', 'duuh', 'dzubaedah', 'ecchi', 'edan', 'efek', 'efi', 'ego', 'eka', 'ekonomi', 'elak', 'emang', 'enak', 'enas', 'endonesa', 'endut', 'erti', 'esa', 'etika', 'faham', 'fakboy', 'fakta', 'fallacy', 'fasal', 'feminism', 'fihak', 'fikir', 'fikirkan', 'forum', 'foto', 'frase', 'fungsi', 'ga', 'gadis', 'gaduh', 'gaduhh', 'gagal', 'gajelas', 'gak', 'galiat', 'gampang', 'ganti', 'gara', 'garis', 'gas', 'gass', 'gausah', 'gawat', 'gebukin', 'gede', 'gembar', 'gembor', 'gembrot', 'gemes', 'gemeteran', 'gemuk', 'gendeng', 'genderasi', 'gendut', 'generasi', 'genit', 'genjot', 'gerbong', 'gerombol', 'geser', 'getol', 'giat', 'gigih', 'gila', 'gilir', 'gimana', 'gin', 'girang', 'gitu', 'giur', 'gk', 'gmn', 'go', 'goa', 'goalkan', 'goblog', 'gokil', 'good', 'goped', 'goreng', 'gosok', 'goto', 'greget', 'grepe', 'gugat', 'gulali', 'gurau', 'guru', 'guwe', 'gw', 'ha', 'haah', 'hadeeh', 'hadeehh', 'hadeh', 'hadehh', 'hadeuuhh', 'haduhh', 'haekal', 'hahaha', 'hahh', 'haikal', 'hajkal', 'hak', 'hal', 'halal', 'hancur', 'hantar', 'hapus', 'haram', 'harga', 'harysnya', 'hasaan', 'hasan', 'hasil', 'hassan', 'hati', 'hayo', 'hebat', 'hei', 'hentai', 'heran', 'hersubeno', 'hh', 'hidung', 'hidup', 'hihihi', 'hikal', 'hilang', 'hipnotis', 'hirau', 'hiv', 'hobi', 'horee', 'hormat', 'horrayy', 'hostnya', 'hotel', 'hrs', 'hubung', 'huhuhuhuu', 'hukum', 'hut', 'hutang', 'iblis', 'ideology', 'idiot', 'ihlas', 'ijin', 'ilmu', 'iman', 'imbang', 'implementasi', 'indonesia', 'infeksi', 'ingat', 'inget', 'ingin', 'innalillahi', 'insaallh', 'install', 'inti', 'intim', 'intimidasi', 'iring', 'isi', 'islam', 'islami', 'isteri', 'istilah', 'istri', 'isu', 'ite', 'iya', 'iyahh', 'iyyuuhh', 'jabat', 'jadi', 'jaga', 'jah', 'jajah', 'jakar', 'jalan', 'jalnkan', 'jamah', 'jaman', 'jasa', 'jd', 'jdi', 'jebak', 'jejak', 'jekas', 'jelas', 'jerat', 'jg', 'jga', 'jgn', 'jilbab', 'jls', 'jngan', 'jngankan', 'jngn', 'jokowi', 'joob', 'jual', 'juang', 'jubir', 'judul', 'jumbo', 'jumpa', 'junjung', 'jurus', 'kacau', 'kadang', 'kader', 'kadron', 'kadrun', 'kaedah', 'kagak', 'kait', 'kakak', 'kal', 'kalah', 'kalang', 'kalbu', 'kali', 'kalimat', 'kalu', 'kampus', 'kandung', 'karenahukum', 'karet', 'karna', 'kasi', 'kasih', 'kasus', 'kau', 'kaum', 'kawaall', 'kawin', 'kaya', 'kayak', 'kayaky', 'kbnaran', 'ke', 'kebelaguannya', 'kebelinger', 'kebo', 'kecil', 'kecuali', 'kedok', 'kehormatanx', 'kejam', 'kejap', 'keladi', 'kelamin', 'kelas', 'keluar', 'keluarga', 'kemari', 'kemarin', 'kemendikbud', 'ken', 'kena', 'kenceng', 'kentut', 'kerah', 'keras', 'kereta', 'kerja', 'kerudung', 'kes', 'kesana', 'ketangkep', 'ketawa', 'ketemu', 'khan', 'khas', 'khilafah', 'khusus', 'kiblat', 'kirain', 'kl', 'klas', 'kliatnya', 'klu', 'klw', 'kndorr', 'knp', 'knpa', 'ko', 'koar', 'komen', 'komentar', 'kondom', 'kong', 'konotasi', 'konsep', 'konservatif', 'konteks', 'kontra', 'kontroversi', 'konyol', 'kopit', 'koplak', 'koplk', 'koq', 'korban', 'koreksi', 'korperatif', 'koruptor', 'kos', 'kosan', 'kota', 'kowe', 'kpan', 'kpda', 'krg', 'krinten', 'kristen', 'kritik', 'krng', 'kronologi', 'kuasa', 'kucing', 'kuhp', 'kuliah', 'kumpul', 'kunci', 'kuning', 'ky', 'kyak', 'kyk', 'lacur', 'lagh', 'lahir', 'laki', 'laksana', 'laku', 'lamaa', 'lampau', 'lancar', 'landas', 'langgar', 'langkah', 'langsung', 'lanjut', 'lantang', 'lantas', 'lapang', 'larang', 'lari', 'lawan', 'layak', 'layan', 'lbh', 'leceh', 'legal', 'legalx', 'lelaki', 'leluasa', 'lenceng', 'lengan', 'lenyap', 'lepas', 'lg', 'lgbt', 'lh', 'lho', 'liar', 'liat', 'liberal', 'lihat', 'like', 'lindung', 'lingkung', 'lingkup', 'lo', 'lobang', 'logical', 'logika', 'lokalisasi', 'lollipop', 'lolos', 'lom', 'love', 'lu', 'lulus', 'lumayan', 'lurus', 'lw', 'ma', 'maaf', 'maak', 'macem', 'maen', 'mah', 'maha', 'mahaciwi', 'mahasiswa', 'mahasiswi', 'mahasiwanya', 'main', 'maju', 'makan', 'makariem', 'makarim', 'makax', 'maklum', 'makrim', 'maksiat', 'maksimal', 'maksud', 'malu', 'maluin', 'mampu', 'mana', 'manggil', 'mangsa', 'mankrak', 'manpaat', 'mantaf', 'mantap', 'mantu', 'manusia', 'markotop', 'mas', 'masalah', 'masalh', 'mask', 'masuk', 'masum', 'masyaallah', 'masyarakat', 'mata', 'matang', 'mati', 'mau', 'mayoritas', 'mba', 'mbak', 'mbk', 'medsos', 'megang', 'meindungi', 'melulu', 'melwan', 'mem', 'memahamai', 'memanfat', 'memgusulkan', 'meminimalisir', 'men', 'menag', 'mencermiinkan', 'mendikbud', 'mendikbudristek', 'mendikbut', 'menghlalkn', 'mental', 'menteri', 'merajelala', 'merka', 'mertua', 'meski', 'mesti', 'mesum', 'meta', 'mhn', 'mikirin', 'mimpi', 'mining', 'minoritas', 'mintri', 'miris', 'mkn', 'mksh', 'mksih', 'mlh', 'mmg', 'mna', 'mnangani', 'mngambil', 'mngerti', 'mnjdi', 'modal', 'moga', 'monafik', 'moril', 'msh', 'msk', 'mslhx', 'msti', 'muaantaab', 'muak', 'muda', 'muhamdiah', 'muhammad', 'mui', 'muka', 'multi', 'multitafsir', 'mulut', 'munafik', 'munafiq', 'muncul', 'mundur', 'munkin', 'murah', 'murid', 'muslim', 'musnah', 'musti', 'musyawarah', 'mutar', 'muter', 'mutu', 'mvk', 'nabi', 'nadiem', 'nadim', 'najwa', 'nakarim', 'nalar', 'nama', 'nanggulangin', 'nanya', 'napsu', 'nara', 'narasi', 'narsum', 'nasi', 'naudzubillah', 'ndak', 'ne', 'negara', 'negativ', 'negri', 'neh', 'neng', 'neraka', 'nga', 'ngaco', 'ngajar', 'ngaji', 'ngak', 'ngalor', 'ngampuss', 'ngapain', 'ngas', 'ngasi', 'ngasih', 'ngaur', 'ngawur', 'ngebet', 'ngedidik', 'ngehapus', 'ngeles', 'ngelindungi', 'ngenyel', 'ngeres', 'ngerti', 'ngeyel', 'ngga', 'nggak', 'nggk', 'ngibul', 'ngidul', 'ngilangin', 'ngk', 'ngomong', 'ngomongin', 'ngomongnya', 'ngotot', 'ngundang', 'ngustad', 'niat', 'nikah', 'nilai', 'nmnya', 'no', 'nolong', 'non', 'nongol', 'nonmus', 'nonton', 'norma', 'now', 'ntah', 'nu', 'nunggu', 'nuntut', 'nyambung', 'nyampek', 'nyata', 'nyerang', 'nyuruh', 'ogah', 'ojk', 'ojol', 'oke', 'oknum', 'omong', 'one', 'org', 'otak', 'otoritas', 'pa', 'paaspasan', 'pacar', 'pad', 'pada', 'padang', 'pade', 'paha', 'paham', 'pakai', 'pakar', 'pake', 'paksa', 'panca', 'pancasilais', 'pandai', 'panggang', 'pantat', 'parah', 'partai', 'pasal', 'pasti', 'patuh', 'patut', 'paut', 'payung', 'pcr', 'pd', 'pdhl', 'pdi', 'pdip', 'pecat', 'pedoman', 'pegang', 'pelintir', 'peljaran', 'peluang', 'pen', 'penampilanx', 'pepet', 'peraturanya', 'peraturnnya', 'perbutan', 'perempuan', 'peri', 'perintah', 'perkosa', 'permedikbud', 'permen', 'permendibud', 'permendikbud', 'permendikbudnya', 'permendikbudristek', 'permendikbudristekdikti', 'permendikti', 'perut', 'perzinahan', 'piara', 'pidana', 'pikir', 'pikiranx', 'pikirin', 'pilih', 'pinjol', 'pintar', 'pinter', 'piro', 'pisah', 'pitar', 'pki', 'pks', 'pngen', 'pny', 'pokonamah', 'pola', 'polemik', 'poligami', 'polisi', 'politik', 'posisi', 'praktek', 'predator', 'prermpuan', 'presiden', 'prestasi', 'pria', 'pribadi', 'prinsip', 'pro', 'prosen', 'proses', 'prostitusi', 'provokator', 'proyek', 'pulih', 'pun', 'pundak', 'pungkiri', 'pura', 'putih', 'putus', 'quran', 'rahasia', 'rakyat', 'rambu', 'rame', 'rampok', 'rasuk', 'reaktif', 'realita', 'rebut', 'rejim', 'rela', 'remi', 'rempah', 'rengginang', 'resah', 'resmiin', 'revisi', 'revolusi', 'rialita', 'ribet', 'ribut', 'riil', 'rim', 'rintih', 'risikoberikhtilath', 'rojion', 'ruang', 'rubah', 'rugi', 'rumus', 'rusak', 'rusuh', 'ruu', 'ruwet', 'ruwetnesia', 'rx', 'sadar', 'salah', 'sam', 'sampah', 'sampe', 'sampean', 'sampek', 'sanggup', 'sangka', 'sangkut', 'sanksi', 'saran', 'save', 'saw', 'sayah', 'sayang', 'sbuah', 'sebab', 'seblm', 'sebut', 'sedia', 'sedih', 'segel', 'segitu', 'sehat', 'sek', 'sekoi', 'sekolah', 'seksual', 'sekular', 'selamat', 'selangkang', 'selese', 'selingkuh', 'seluru', 'semangat', 'sembunyi', 'semi', 'sempat', 'sempurna', 'semua', 'sen', 'senang', 'seng', 'senonoh', 'senyum', 'serap', 'sesat', 'sesimple', 'sesuai', 'sex', 'sexsual', 'sexual', 'sikafer', 'sikap', 'sila', 'silah', 'simak', 'siregar', 'sis', 'siswa', 'siswi', 'situ', 'situasi', 'sj', 'skr', 'skrg', 'skrng', 'slama', 'slb', 'slesai', 'sllu', 'sm', 'smartphone', 'smester', 'smpe', 'smseter', 'sndri', 'sngat', 'so', 'sok', 'somplakk', 'sono', 'sopan', 'sorga', 'speak', 'spt', 'stempel', 'stengah', 'stigma', 'strobery', 'suam', 'suara', 'substansi', 'subtansi', 'suci', 'suka', 'sukak', 'sumber', 'sungsang', 'sunguh', 'suruh', 'survey', 'susah', 'susila', 'swasta', 'sy', 'syah', 'syahwat', 'syar', 'syarat', 'syariat', 'syetan', 'syg', 'taat', 'tabrak', 'tafirnya', 'tafsir', 'tahan', 'tai', 'tambah', 'tameng', 'tampil', 'tanda', 'tangan', 'tanggulang', 'tanggung', 'tanya', 'tau', 'tawar', 'tdk', 'teas', 'tegak', 'tegas', 'tekan', 'teliti', 'tentang', 'tentu', 'terap', 'terbit', 'teriak', 'terima', 'ternak', 'terooss', 'terus', 'tetap', 'teteh', 'tetep', 'thn', 'tiang', 'tidk', 'tim', 'timbul', 'timur', 'tindak', 'tinggal', 'tinghi', 'tipu', 'titik', 'tlg', 'tmpat', 'to', 'tobat', 'tokang', 'tokoh', 'tolak', 'tong', 'tonton', 'topp', 'tp', 'tpi', 'tragis', 'trgantung', 'tri', 'trmksh', 'tsb', 'ttap', 'ttp', 'tua', 'tubruk', 'tubuh', 'tuhan', 'tuju', 'tuk', 'tukang', 'tular', 'tuli', 'tulis', 'tunggang', 'tuntun', 'turun', 'tutup', 'tv', 'tvone', 'uang', 'udah', 'udahlah', 'udh', 'uji', 'ulama', 'ular', 'ulung', 'umat', 'umpama', 'umur', 'undang', 'universiti', 'untk', 'untung', 'up', 'urgensi', 'urus', 'usaha', 'usak', 'usia', 'ust', 'usul', 'usut', 'utan', 'uu', 'vani', 'vc', 'veni', 'venny', 'veny', 'vera', 'viral', 'vz', 'wajah', 'wajib', 'wakil', 'walau', 'wan', 'wani', 'wanita', 'wassalamu', 'waswas', 'watak', 'wawas', 'weinnalillahi', 'wkk', 'wkwjwk', 'wkwkwk', 'wkwkwkwk', 'wkwkwkwkkw', 'wlaupun', 'yaakk', 'yak', 'yakin', 'yaman', 'yes', 'ygai', 'yogya', 'you', 'zholim', 'zina', 'zinah']\n",
      "\n"
     ]
    },
    {
     "name": "stderr",
     "output_type": "stream",
     "text": [
      "C:\\Users\\ASUS\\.conda\\envs\\aslan\\lib\\site-packages\\sklearn\\utils\\deprecation.py:87: FutureWarning: Function get_feature_names is deprecated; get_feature_names is deprecated in 1.0 and will be removed in 1.2. Please use get_feature_names_out instead.\n",
      "  warnings.warn(msg, category=FutureWarning)\n"
     ]
    }
   ],
   "source": [
    "print()\n",
    "print(\"selected words as feature : \")\n",
    "print(\"----------------------------\")\n",
    "print(tfidf_vect.get_feature_names())\n",
    "print()"
   ]
  },
  {
   "cell_type": "code",
   "execution_count": 11,
   "id": "7af60293",
   "metadata": {},
   "outputs": [
    {
     "name": "stdout",
     "output_type": "stream",
     "text": [
      "{'ruu': 1039, 'lindung': 672, 'korban': 605, 'keras': 565, 'seksual': 1071, 'hrs': 436, 'legal': 655, 'byk': 208, 'mnjdi': 782, 'sangka': 1051, 'kelas': 554, 'goto': 379, 'lolos': 681, 'rempah': 1019, 'rengginang': 1020, 'kong': 593, 'wan': 1275, 'mendikbud': 753, 'tdk': 1173, 'faham': 312, 'adab': 4, 'bangsa': 111, 'timur': 1196, 'kirain': 579, 'gugat': 382, 'gara': 335, 'data': 253, 'mining': 769, 'narasi': 827, 'suka': 1139, 'bebas': 121, 'kawaall': 536, 'terooss': 1186, 'meta': 765, 'jga': 493, 'gk': 368, 'kena': 561, 'go': 370, 'to': 1204, 'masalah': 725, 'udah': 1238, 'lamaa': 637, 'bgt': 145, 'jd': 485, 'polemik': 980, 'speak': 1128, 'up': 1252, 'medsos': 740, 'jg': 492, 'stigma': 1132, 'dn': 276, 'salah': 1044, 'gak': 331, 'ngerti': 859, 'knp': 586, 'nyerang': 893, 'iring': 462, 'jalan': 480, 'kasus': 533, 'tambah': 1163, 'terus': 1187, 'tp': 1212, 'pks': 975, 'bhkn': 149, 'permendikbud': 955, 'tentang': 1179, 'sy': 1149, 'betapa': 141, 'ndak': 831, 'ingin': 455, 'hati': 414, 'aq': 69, 'tim': 1194, 'niat': 874, 'ngehapus': 854, 'comment': 233, 'yak': 1290, 'goped': 376, 'oke': 898, 'kontra': 598, 'gajelas': 330, 'galiat': 332, 'urgensi': 1253, 'hadehh': 393, 'moga': 784, 'baik': 107, 'indonesia': 451, 'cinta': 227, 'huhuhuhuu': 438, 'sehat': 1067, 'mba': 737, 'cantiku': 215, 'partai': 924, 'getol': 358, 'tolak': 1208, 'gemes': 346, 'bngt': 166, 'gw': 387, 'bsa': 186, 'lenyap': 661, 'predator': 986, 'kampus': 526, 'yes': 1293, 'sex': 1093, 'peraturnnya': 946, 'untk': 1250, 'perkosa': 951, 'klw': 584, 'ga': 325, 'masalh': 726, 'hadeeh': 390, 'kerudung': 568, 'gin': 364, 'lbh': 653, 'bahas': 104, 'hersubeno': 420, 'arif': 73, 'org': 902, 'kuasa': 621, 'sllu': 1114, 'bawa': 115, 'nama': 822, 'dr': 284, 'subtansi': 1137, 'kritik': 618, 'tsb': 1218, 'dosen': 280, 'belagu': 127, 'tai': 1162, 'kebelaguannya': 543, 'nolong': 879, 'cakap': 212, 'mahasiswa': 697, 'lapang': 647, 'kerja': 567, 'wajah': 1271, 'senyum': 1088, 'cantik': 214, 'kakak': 518, 'ganti': 334, 'muslim': 808, 'konservatif': 596, 'tuju': 1225, 'atur': 85, 'syarat': 1153, 'hapus': 406, 'frase': 323, 'contoh': 235, 'pasal': 925, 'buka': 192, 'pakai': 914, 'mahasiswi': 698, 'iyahh': 472, 'aoa': 61, 'silah': 1099, 'boleh': 174, 'bahaya': 106, 'tubuh': 1223, 'berzinah': 140, 'tampil': 1165, 'ambigu': 39, 'arti': 75, 'dampak': 246, 'burukk': 201, 'infeksi': 452, 'tular': 1228, 'merajelala': 759, 'hiv': 429, 'anak': 45, 'ajar': 16, 'mlh': 776, 'rintih': 1030, 'lahir': 633, 'aborsi': 1, 'keluarga': 556, 'jerat': 491, 'maksud': 710, 'rusak': 1037, 'jadi': 475, 'pedoman': 937, 'manusia': 722, 'agama': 9, 'minoritas': 770, 'nonton': 883, 'anisya': 57, 'azni': 91, 'muaantaab': 791, 'skrng': 1110, 'maen': 693, 'aamaan': 0, 'sis': 1102, 'slama': 1111, 'lw': 688, 'nga': 839, 'ngas': 847, 'hotel': 435, 'gas': 337, 'bwahahaahaha': 207, 'baca': 97, 'dukung': 289, 'permen': 953, 'udh': 1240, 'ngebet': 852, 'tahan': 1161, 'nikah': 875, 'nunggu': 888, 'halal': 403, 'kacau': 510, 'permendikbudnya': 956, 'akhir': 21, 'ayat': 88, 'muncul': 803, 'liat': 668, 'pola': 979, 'sebut': 1062, 'pelintir': 939, 'alat': 32, 'laku': 636, 'bingung': 157, 'syariat': 1154, 'risikoberikhtilath': 1031, 'uu': 1262, 'ite': 470, 'karet': 529, 'sebab': 1060, 'makrim': 707, 'tri': 1216, 'otak': 903, 'mesum': 764, 'zina': 1298, 'ntah': 886, 'payung': 930, 'hukum': 439, 'leceh': 654, 'tutup': 1234, 'sempat': 1081, 'tuk': 1226, 'mangsa': 716, 'yakin': 1291, 'sono': 1125, 'asyiik': 81, 'zinah': 1299, 'bkn': 160, 'susila': 1147, 'bo': 168, 'ayam': 87, 'khan': 574, 'topp': 1211, 'markotop': 723, 'nadim': 818, 'mankrak': 717, 'rim': 1029, 'ancur': 47, 'negara': 833, 'inget': 454, 'tiang': 1192, 'wanita': 1277, 'ahklaq': 12, 'hancur': 404, 'dpr': 282, 'dewan': 259, 'wakil': 1273, 'rejim': 1016, 'rakyat': 1008, 'paksa': 917, 'ancam': 46, 'nilai': 876, 'dunia': 292, 'kes': 569, 'bodoh': 171, 'dlm': 272, 'fakta': 314, 'bela': 126, 'bejad': 124, 'mental': 757, 'wkwkwkwk': 1286, 'hobi': 430, 'berzinaa': 139, 'teriak': 1183, 'horee': 431, 'girang': 365, 'good': 375, 'joob': 501, 'nadiem': 817, 'makariem': 703, 'bak': 109, 'efi': 299, 'pikiranx': 965, 'nyampek': 891, 'kayak': 539, 'layak': 651, 'bicarax': 152, 'penampilanx': 943, 'kadrun': 514, 'chat': 226, 'kagak': 516, 'bhahaha': 148, 'drp': 285, 'zholim': 1297, 'seblm': 1061, 'gulali': 383, 'hh': 421, 'ngasih': 849, 'baju': 108, 'hahh': 398, 'duuh': 294, 'parah': 923, 'pacar': 907, 'waswas': 1279, 'hubung': 437, 'badan': 99, 'rumus': 1036, 'pura': 1003, 'gimana': 363, 'patut': 928, 'masuk': 728, 'absorb': 2, 'jngan': 497, 'reaktif': 1013, 'defense': 256, 'konteks': 597, 'rela': 1017, 'tpi': 1213, 'intimidasi': 461, 'alangkah': 31, 'bae': 100, 'maksimal': 709, 'cegah': 219, 'buat': 189, 'celah': 221, 'aktif': 27, 'anggauta': 55, 'pikir': 964, 'cerdas': 223, 'buru': 200, 'biar': 151, 'revisi': 1023, 'mmg': 777, 'bnr': 167, 'inti': 459, 'bom': 176, 'tua': 1221, 'bawah': 116, 'umur': 1247, 'mati': 734, 'karna': 530, 'bentuk': 134, 'usak': 1256, 'alam': 30, 'bumi': 194, 'nuntut': 889, 'ilmu': 447, 'msk': 788, 'delik': 258, 'pisah': 972, 'haikal': 399, 'lo': 675, 'ngak': 843, 'nyambung': 890, 'sok': 1123, 'pintar': 969, 'akhlak': 22, 'jaga': 476, 'jah': 477, 'haram': 407, 'selamat': 1073, 'akherat': 20, 'kuliah': 624, 'sekolah': 1070, 'guru': 385, 'islami': 465, 'ribut': 1027, 'urus': 1254, 'selangkang': 1074, 'anehny': 51, 'smpe': 1118, 'ngaur': 850, 'bener': 133, 'lenceng': 659, 'knpa': 587, 'pilih': 967, 'presiden': 988, 'rusuh': 1038, 'haah': 389, 'enak': 305, 'guwe': 386, 'hebat': 416, 'babe': 94, 'ngaco': 840, 'generasi': 352, 'banyak': 112, 'ecchi': 296, 'ama': 38, 'hentai': 418, 'wkwkwk': 1285, 'lepas': 662, 'cari': 216, 'untung': 1251, 'musti': 810, 'undang': 1248, 'jgn': 494, 'sampe': 1047, 'perintah': 950, 'macem': 692, 'goa': 371, 'gebukin': 341, 'jabat': 474, 'prestasi': 989, 'ruwet': 1040, 'kpan': 613, 'jokowi': 500, 'selese': 1075, 'maaf': 690, 'mbak': 738, 'veni': 1265, 'blm': 165, 'realita': 1014, 'sm': 1115, 'krng': 619, 'imbang': 449, 'kaum': 535, 'tidk': 1193, 'pungkiri': 1002, 'melulu': 743, 'gila': 361, 'bidadari': 153, 'biadab': 150, 'wkk': 1283, 'perempuan': 948, 'genjot': 354, 'gembrot': 345, 'kliatnya': 582, 'lom': 682, 'pny': 977, 'pngen': 976, 'coba': 231, 'lho': 666, 'pade': 911, 'kemarin': 558, 'mata': 732, 'najwa': 819, 'situ': 1105, 'forum': 321, 'bobot': 169, 'nara': 826, 'sesuai': 1092, 'substansi': 1136, 'hasan': 411, 'dpt': 283, 'ciri': 229, 'khas': 575, 'betawi': 142, 'garis': 336, 'turun': 1233, 'allah': 36, 'tokang': 1206, 'ojol': 897, 'mintri': 771, 'akibatnx': 24, 'innalillahi': 456, 'weinnalillahi': 1282, 'rojion': 1032, 'istri': 468, 'putih': 1004, 'jajah': 478, 'udahlah': 1239, 'bu': 187, 'lihat': 670, 'dasar': 252, 'gendeng': 349, 'koruptor': 608, 'asu': 80, 'sila': 1098, 'masum': 729, 'feminism': 317, 'didenger': 261, 'logical': 677, 'fallacy': 315, 'hirau': 428, 'jalnkan': 481, 'insaallh': 457, 'genderasi': 350, 'patuh': 927, 'mendikbut': 755, 'syah': 1150, 'menag': 751, 'bunting': 198, 'tanya': 1170, 'isteri': 466, 'sedia': 1063, 'tinggal': 1198, 'negri': 835, 'memahamai': 746, 'bahasa': 105, 'permendikbudristek': 957, 'musyawarah': 811, 'tokoh': 1207, 'masyarakat': 731, 'bijak': 154, 'kecil': 546, 'resah': 1021, 'timbul': 1195, 'budaya': 190, 'geser': 357, 'skrg': 1109, 'sj': 1107, 'gass': 338, 'sampek': 1049, 'iblis': 442, 'do': 278, 'goalkan': 372, 'liberal': 669, 'sungsang': 1142, 'kasih': 532, 'peljaran': 940, 'lurus': 687, 'posisi': 984, 'mimpi': 768, 'ketemu': 573, 'nabi': 816, 'muhammad': 795, 'saw': 1056, 'assalamualaikum': 78, 'no': 878, 'dalem': 244, 'tangan': 1167, 'mendikbudristek': 754, 'apologize': 67, 'anda': 49, 'gosok': 378, 'kelamin': 553, 'sembunyi': 1079, 'tau': 1171, 'tindak': 1197, 'lanjut': 644, 'akibat': 23, 'giat': 359, 'norma': 884, 'akar': 19, 'trmksh': 1217, 'wassalamu': 1278, 'alaikum': 29, 'kunci': 626, 'sorga': 1127, 'poligami': 981, 'hajkal': 400, 'suci': 1138, 'gerombol': 356, 'munafik': 801, 'usut': 1260, 'kuhp': 623, 'tafirnya': 1159, 'permendikti': 959, 'heran': 419, 'isu': 469, 'apa': 62, 'tv': 1235, 'one': 901, 'msti': 790, 'haekal': 396, 'buset': 202, 'universiti': 1249, 'nggk': 863, 'dah': 241, 'edan': 297, 'neng': 837, 'endut': 308, 'lari': 649, 'wkwjwk': 1284, 'mvk': 815, 'wawas': 1281, 'hei': 417, 'istilah': 467, 'kumpul': 625, 'kebo': 545, 'kos': 609, 'kosan': 610, 'hidup': 423, 'kait': 517, 'hipnotis': 427, 'tawar': 1172, 'layan': 652, 'etika': 311, 'terima': 1184, 'ngeres': 858, 'memanfat': 747, 'azas': 90, 'manpaat': 718, 'ha': 388, 'kal': 519, 'hassan': 413, 'ana': 44, 'arab': 70, 'yaman': 1292, 'tukang': 1227, 'gaduhh': 328, 'ang': 52, 'keladi': 552, 'mulut': 800, 'kau': 534, 'somplakk': 1124, 'modal': 783, 'kondom': 592, 'landas': 640, 'bukti': 193, 'bayi': 119, 'usia': 1257, 'muda': 793, 'men': 750, 'rialita': 1025, 'ayah': 86, 'intim': 460, 'kandung': 527, 'mertua': 761, 'selingkuh': 1076, 'ma': 689, 'mantu': 721, 'peluang': 941, 'jubir': 504, 'argumen': 72, 'ngalor': 844, 'ngidul': 865, 'cetek': 224, 'revolusi': 1024, 'aklaq': 25, 'paaspasan': 906, 'segitu': 1066, 'nongol': 881, 'maklum': 706, 'hostnya': 434, 'culun': 237, 'fakboy': 313, 'be': 120, 'like': 671, 'horrayy': 433, 'ngundang': 872, 'ko': 588, 'alloh': 37, 'dateng': 254, 'pad': 908, 'sayah': 1057, 'boong': 178, 'resmiin': 1022, 'apalgi': 63, 'remi': 1018, 'koplk': 603, 'kowe': 612, 'tmpat': 1203, 'pro': 993, 'khilafah': 576, 'koar': 589, 'so': 1122, 'pinter': 970, 'spt': 1129, 'tipu': 1200, 'ulung': 1244, 'cendana': 222, 'hayo': 415, 'ambil': 41, 'ngga': 861, 'mngambil': 780, 'sbuah': 1059, 'putus': 1005, 'ajak': 15, 'brunding': 185, 'kpda': 614, 'mngerti': 781, 'brsama': 183, 'ampun': 43, 'kuning': 627, 'sngat': 1121, 'sopan': 1126, 'paha': 912, 'angkat': 56, 'koplak': 602, 'ne': 832, 'gmn': 369, 'mahasiwanya': 699, 'ular': 1243, 'beludak': 130, 'diskusi': 270, 'trgantung': 1215, 'lh': 665, 'gembar': 343, 'gembor': 344, 'anut': 60, 'ideology': 443, 'eka': 301, 'tuhan': 1224, 'bekebudayaan': 125, 'pada': 909, 'hal': 402, 'darurat': 251, 'viral': 1269, 'skr': 1108, 'peri': 949, 'kalang': 521, 'fasal': 316, 'politik': 983, 'maha': 695, 'esa': 310, 'panca': 918, 'harga': 408, 'endonesa': 307, 'ngustad': 873, 'sampah': 1046, 'pitar': 973, 'dimna': 266, 'erti': 309, 'menghlalkn': 756, 'busuk': 203, 'goreng': 377, 'berita': 137, 'lokalisasi': 679, 'didik': 262, 'sek': 1068, 'hantar': 405, 'siswa': 1103, 'siswi': 1104, 'leluasa': 658, 'gitu': 366, 'non': 880, 'peraturanya': 945, 'tabrak': 1158, 'ahirnya': 10, 'gaduh': 327, 'mayoritas': 736, 'umat': 1245, 'islam': 464, 'dalam': 243, 'ajaranya': 17, 'larang': 648, 'tetep': 1190, 'perzinahan': 961, 'fikir': 319, 'bag': 101, 'gampang': 333, 'dlu': 273, 'ngapain': 846, 'nyuruh': 894, 'cureek': 238, 'curek': 239, 'jdi': 486, 'greget': 380, 'ky': 628, 'duka': 288, 'bagas': 103, 'gemuk': 348, 'hak': 401, 'hadeehh': 391, 'ngotot': 871, 'buntel': 197, 'kentut': 563, 'jasa': 484, 'cipta': 228, 'mutu': 814, 'rebut': 1015, 'nyata': 892, 'tubruk': 1222, 'akal': 18, 'bokbrok': 173, 'wkwkwkwkkw': 1287, 'bolong': 175, 'gagal': 329, 'semi': 1080, 'fungsi': 324, 'adem': 6, 'mantap': 720, 'babey': 96, 'monafik': 785, 'jurus': 509, 'kerah': 564, 'tegak': 1175, 'benang': 131, 'basah': 114, 'wajib': 1272, 'cwe': 240, 'gendut': 351, 'doyan': 281, 'grepe': 381, 'kali': 523, 'mantaf': 719, 'venny': 1266, 'prinsip': 992, 'juang': 503, 'dkk': 271, 'titik': 1201, 'umpama': 1246, 'ego': 300, 'pribadi': 991, 'gigih': 360, 'bravo': 180, 'veny': 1267, 'hahaha': 397, 'konyol': 600, 'kaya': 538, 'artis': 76, 'tvone': 1236, 'acara': 3, 'sumber': 1141, 'provokator': 997, 'bohong': 172, 'klas': 581, 'cewek': 225, 'rx': 1042, 'masyaallah': 730, 'babeh': 95, 'memgusulkan': 748, 'mencermiinkan': 752, 'muka': 797, 'kl': 580, 'emang': 304, 'isi': 463, 'mas': 724, 'multi': 798, 'tafsir': 1160, 'pd': 932, 'meminimalisir': 749, 'permedikbud': 952, 'saran': 1054, 'suruh': 1144, 'cabut': 211, 'arah': 71, 'dsb': 286, 'siregar': 1101, 'koq': 604, 'dungu': 290, 'yaakk': 1289, 'ngelindungi': 856, 'hadeuuhh': 394, 'maluin': 712, 'ngampuss': 845, 'al': 28, 'quran': 1006, 'tuntun': 1232, 'aneeh': 50, 'buzzer': 206, 'pdip': 935, 'sekular': 1072, 'vera': 1268, 'hasil': 412, 'langkah': 642, 'mnangani': 779, 'sanksi': 1053, 'berat': 136, 'kejam': 550, 'maju': 701, 'mundur': 804, 'proyek': 998, 'anggar': 54, 'keluar': 555, 'kemendikbud': 559, 'nanya': 824, 'goblog': 373, 'piara': 962, 'hasaan': 410, 'ngibul': 864, 'pake': 916, 'brpa': 182, 'lagh': 632, 'cabul': 210, 'bisnis': 159, 'rampok': 1011, 'haduhh': 395, 'dmn': 275, 'belah': 128, 'fihak': 318, 'yogya': 1295, 'mui': 796, 'seng': 1086, 'ngk': 867, 'kayaky': 540, 'sam': 1045, 'prermpuan': 987, 'betina': 143, 'jilbab': 495, 'tegas': 1176, 'harysnya': 409, 'ambiguitas': 40, 'jls': 496, 'gokil': 374, 'gede': 342, 'kecuali': 547, 'mampu': 713, 'brati': 179, 'korperatif': 607, 'hormat': 432, 'ttp': 1220, 'kalah': 520, 'jumbo': 506, 'usaha': 1255, 'sempurna': 1082, 'krg': 615, 'konsep': 595, 'kejap': 551, 'asa': 77, 'napsu': 825, 'syahwat': 1151, 'perut': 960, 'maak': 691, 'sexual': 1095, 'kader': 512, 'pdi': 934, 'buta': 204, 'nonmus': 882, 'mau': 735, 'barat': 113, 'kiblat': 578, 'merka': 760, 'atau': 83, 'pun': 1000, 'bismillahirrahmanirrahim': 158, 'rambu': 1009, 'taat': 1157, 'laksana': 635, 'lantas': 646, 'ketangkep': 571, 'jngankan': 498, 'murid': 807, 'ngaji': 842, 'vc': 1264, 'kyak': 629, 'difikiran': 264, 'duo': 293, 'astaghfirullah': 79, 'naudzubillah': 830, 'iyyuuhh': 473, 'ayo': 89, 'suara': 1135, 'kbnaran': 541, 'dngan': 277, 'lantang': 645, 'jngn': 499, 'kndorr': 585, 'pa': 905, 'bgtu': 146, 'teteh': 1189, 'manggil': 715, 'ust': 1258, 'main': 700, 'mana': 714, 'rahasia': 1007, 'nggak': 862, 'langgar': 641, 'jekas': 489, 'tulis': 1230, 'pancasilais': 919, 'multitafsir': 799, 'sesimple': 1091, 'implementasi': 450, 'pen': 942, 'dipungkiri': 267, 'mesti': 763, 'jelas': 490, 'kronologi': 620, 'kalimat': 524, 'dannkata': 248, 'pasti': 926, 'case': 217, 'tetap': 1188, 'tentu': 1180, 'vani': 1263, 'alibi': 35, 'kedok': 548, 'permendibud': 954, 'logika': 678, 'ngawur': 851, 'buk': 191, 'nalar': 821, 'banding': 110, 'sanggup': 1050, 'melwan': 744, 'kadang': 511, 'bunuh': 199, 'ngomong': 868, 'anti': 58, 'tanggulang': 1168, 'liar': 667, 'sadar': 1043, 'save': 1055, 'arigatoguzaimasu': 74, 'rasuk': 1012, 'syetan': 1155, 'pepet': 944, 'elak': 303, 'ajaib': 14, 'dosa': 279, 'panggang': 921, 'api': 66, 'neraka': 838, 'tobat': 1205, 'hikal': 425, 'msh': 787, 'rame': 1010, 'sikafer': 1096, 'munafiq': 802, 'dzubaedah': 295, 'lengan': 660, 'hilang': 426, 'bh': 147, 'narsum': 828, 'apasaja': 64, 'wlaupun': 1288, 'dtg': 287, 'pakar': 915, 'antisipasi': 59, 'meski': 762, 'lu': 684, 'miris': 772, 'bocil': 170, 'jaman': 483, 'now': 885, 'apasalahnya': 65, 'proses': 995, 'gadis': 326, 'senonoh': 1087, 'laki': 634, 'alesanya': 33, 'murah': 806, 'sikap': 1097, 'bagai': 102, 'kalbu': 522, 'menteri': 758, 'diknasristek': 265, 'terbit': 1182, 'sunguh': 1143, 'enas': 306, 'buang': 188, 'tong': 1209, 'pria': 990, 'lelaki': 657, 'suam': 1134, 'lingkung': 673, 'berani': 135, 'bab': 92, 'pokonamah': 978, 'teas': 1174, 'neh': 836, 'stempel': 1130, 'semua': 1083, 'dungurockygarong': 291, 'aduh': 8, 'jebak': 487, 'betmen': 144, 'ngilangin': 866, 'jejak': 488, 'pcr': 931, 'kenceng': 562, 'kyk': 630, 'junjung': 508, 'watak': 1280, 'cebong': 218, 'susah': 1146, 'mem': 745, 'ngomongnya': 870, 'blepot': 161, 'meindungi': 742, 'bong': 177, 'sekoi': 1069, 'nanggulangin': 823, 'beda': 123, 'kalu': 525, 'mutar': 812, 'muter': 813, 'kebelinger': 544, 'sesat': 1090, 'hut': 440, 'utan': 1261, 'binatang': 156, 'jumpa': 507, 'komen': 590, 'muak': 792, 'ogah': 895, 'ken': 560, 'ketawa': 572, 'paham': 913, 'dangkal': 247, 'tanda': 1166, 'bernaman': 138, 'ruwetnesia': 1041, 'nasi': 829, 'padang': 910, 'campur': 213, 'coklat': 232, 'strobery': 1133, 'bayang': 117, 'ancuran': 48, 'dalih': 245, 'sexsual': 1094, 'pidana': 963, 'idiot': 444, 'mah': 694, 'lulus': 685, 'slb': 1112, 'otoritas': 904, 'brti': 184, 'makan': 702, 'omong': 900, 'sndri': 1120, 'nmnya': 877, 'krinten': 616, 'vz': 1270, 'kristen': 617, 'langsung': 643, 'maksiat': 708, 'sampean': 1048, 'mbk': 739, 'gilir': 362, 'jual': 502, 'kehormatanx': 549, 'makax': 705, 'rubah': 1034, 'tuli': 1229, 'cek': 220, 'deh': 257, 'prosen': 994, 'kota': 611, 'malu': 711, 'segel': 1065, 'jamah': 482, 'ihlas': 445, 'ato': 84, 'dhohirnya': 260, 'ngeyel': 860, 'gausah': 339, 'ngeles': 855, 'kesana': 570, 'kemari': 557, 'cucu': 236, 'pki': 974, 'ygai': 1294, 'moril': 786, 'fikirkan': 320, 'koreksi': 606, 'adap': 5, 'lobang': 676, 'hidung': 422, 'pantat': 922, 'lumayan': 686, 'bayar': 118, 'hutang': 441, 'gawat': 340, 'daruat': 250, 'karenahukum': 528, 'makarim': 704, 'ke': 542, 'anggap': 53, 'ingat': 453, 'ternak': 1185, 'lacur': 631, 'slesai': 1113, 'amburadul': 42, 'permendikbudristekdikti': 958, 'lawan': 650, 'syar': 1152, 'at': 82, 'megang': 741, 'pundak': 1001, 'ijin': 446, 'genit': 353, 'syg': 1156, 'love': 683, 'you': 1296, 'pegang': 938, 'gurau': 384, 'foto': 322, 'gemeteran': 347, 'aksi': 26, 'nakarim': 820, 'bikin': 155, 'survey': 1145, 'rugi': 1035, 'mhn': 766, 'simak': 1100, 'komentar': 591, 'matang': 733, 'lancar': 639, 'usul': 1259, 'klu': 583, 'blh': 162, 'uji': 1241, 'smester': 1117, 'uang': 1237, 'dmester': 274, 'blhkan': 163, 'ttap': 1219, 'mask': 727, 'swasta': 1148, 'situasi': 1106, 'kopit': 601, 'pulih': 999, 'ekonomi': 302, 'lg': 663, 'mkn': 773, 'cm': 230, 'mksh': 774, 'thn': 1191, 'byr': 209, 'stengah': 1131, 'seluru': 1077, 'blhlkan': 164, 'smseter': 1119, 'mksih': 775, 'sedih': 1064, 'serap': 1089, 'tameng': 1164, 'kontroversi': 599, 'negativ': 834, 'iya': 471, 'wani': 1276, 'piro': 971, 'prostitusi': 996, 'kucing': 622, 'kawin': 537, 'mna': 778, 'iman': 448, 'ahklak': 11, 'tekan': 1177, 'becus': 122, 'ngajar': 841, 'ngedidik': 853, 'pecat': 936, 'kasi': 531, 'sen': 1084, 'oknum': 899, 'babad': 93, 'musnah': 809, 'nu': 887, 'muhamdiah': 794, 'deal': 255, 'aj': 13, 'comot': 234, 'efek': 298, 'pandai': 920, 'terap': 1181, 'alias': 34, 'benar': 132, 'senang': 1085, 'kaedah': 515, 'tonton': 1210, 'disamain': 268, 'apps': 68, 'install': 458, 'smartphone': 1116, 'hihihi': 424, 'riil': 1028, 'konotasi': 594, 'tragis': 1214, 'ojk': 896, 'pinjol': 968, 'pdhl': 933, 'praktek': 985, 'bunga': 195, 'tinghi': 1199, 'mikirin': 767, 'lampau': 638, 'pikirin': 966, 'bungkus': 196, 'lollipop': 680, 'giur': 367, 'mahaciwi': 696, 'semangat': 1078, 'mslhx': 789, 'adh': 7, 'legalx': 656, 'beliau': 129, 'tanggung': 1169, 'tunggang': 1231, 'ulama': 1242, 'kadron': 513, 'lgbt': 664, 'khusus': 577, 'gerbong': 355, 'kereta': 566, 'ngenyel': 857, 'hadeh': 392, 'sayang': 1058, 'ribet': 1026, 'ngomongin': 869, 'sangkut': 1052, 'paut': 929, 'ruang': 1033, 'lingkup': 674, 'diem': 263, 'disetubuhin': 269, 'walau': 1274, 'ngasi': 848, 'brng': 181, 'jakar': 479, 'polisi': 982, 'dajal': 242, 'munkin': 805, 'sukak': 1140, 'bacot': 98, 'judul': 505, 'tlg': 1202, 'teliti': 1178, 'dapat': 249, 'perbutan': 947, 'butuh': 205}\n"
     ]
    }
   ],
   "source": [
    "# You can use the below syntax to see the vocabulary that it has learned from the corpus\n",
    "print(tfidf_vect.vocabulary_)"
   ]
  },
  {
   "cell_type": "code",
   "execution_count": 12,
   "id": "71bb3c52",
   "metadata": {},
   "outputs": [
    {
     "name": "stdout",
     "output_type": "stream",
     "text": [
      "jumlah data training : \n",
      "213\n",
      "\n",
      "jumlah data test : \n",
      "54\n",
      "\n"
     ]
    }
   ],
   "source": [
    "print(\"jumlah data training : \")\n",
    "print(len(train_X))\n",
    "print()\n",
    "\n",
    "print(\"jumlah data test : \") \n",
    "print(len(test_X))\n",
    "print() "
   ]
  },
  {
   "cell_type": "code",
   "execution_count": 13,
   "id": "db705eb2",
   "metadata": {},
   "outputs": [],
   "source": [
    "train_X_tfidf = tfidf_vect.transform(df_train['Sentiment'])\n",
    "test_X_tfidf = tfidf_vect.transform(df_test['Sentiment'])"
   ]
  },
  {
   "cell_type": "code",
   "execution_count": 14,
   "id": "74b91766",
   "metadata": {},
   "outputs": [],
   "source": [
    "# tfidf_mat = tfidf_vect.transform(df['Komentar_Final']).toarray()\n",
    "tfidf_mat = tfidf_vect.transform(df_train['Sentiment']).toarray()\n",
    "# tfidf_mat = tfidf_vect.transform(df_test['Sentiment']).toarray()\n",
    "\n",
    "terms = tfidf_vect.get_feature_names()\n",
    "\n",
    "# menjumlahkan tfidf dari tiap kata/term di semua dataset\n",
    "sums = tfidf_mat.sum(axis=0)\n",
    "\n",
    "# menampilkan jumlah tfidf dari tiap kata yang ada di dataset\n",
    "data = []\n",
    "for col, term in enumerate(terms):\n",
    "    data.append((term, sums[col] ))\n",
    "\n",
    "ranking = pd.DataFrame(data, columns=['term','TF-IDF'])\n"
   ]
  },
  {
   "cell_type": "code",
   "execution_count": 15,
   "id": "ca63398d",
   "metadata": {},
   "outputs": [
    {
     "name": "stdout",
     "output_type": "stream",
     "text": [
      "         term    TF-IDF\n",
      "399    haikal  6.324109\n",
      "1139     suka  6.134513\n",
      "85       atur  4.999150\n",
      "331       gak  4.929925\n",
      "1225     tuju  4.905496\n",
      "...       ...       ...\n",
      "1022  resmiin  0.000000\n",
      "377    goreng  0.000000\n",
      "1018     remi  0.000000\n",
      "1010     rame  0.000000\n",
      "1025  rialita  0.000000\n",
      "\n",
      "[1300 rows x 2 columns]\n"
     ]
    }
   ],
   "source": [
    "ranking_br=ranking.sort_values('TF-IDF', ascending=False)\n",
    "print(ranking_br)"
   ]
  },
  {
   "cell_type": "code",
   "execution_count": 16,
   "id": "fe677181",
   "metadata": {},
   "outputs": [],
   "source": [
    "ranking_br.to_csv(r'tfidf_traintiga.csv')"
   ]
  },
  {
   "cell_type": "code",
   "execution_count": 17,
   "id": "0c57411c",
   "metadata": {},
   "outputs": [
    {
     "data": {
      "text/html": [
       "<style>#sk-container-id-3 {color: black;background-color: white;}#sk-container-id-3 pre{padding: 0;}#sk-container-id-3 div.sk-toggleable {background-color: white;}#sk-container-id-3 label.sk-toggleable__label {cursor: pointer;display: block;width: 100%;margin-bottom: 0;padding: 0.3em;box-sizing: border-box;text-align: center;}#sk-container-id-3 label.sk-toggleable__label-arrow:before {content: \"▸\";float: left;margin-right: 0.25em;color: #696969;}#sk-container-id-3 label.sk-toggleable__label-arrow:hover:before {color: black;}#sk-container-id-3 div.sk-estimator:hover label.sk-toggleable__label-arrow:before {color: black;}#sk-container-id-3 div.sk-toggleable__content {max-height: 0;max-width: 0;overflow: hidden;text-align: left;background-color: #f0f8ff;}#sk-container-id-3 div.sk-toggleable__content pre {margin: 0.2em;color: black;border-radius: 0.25em;background-color: #f0f8ff;}#sk-container-id-3 input.sk-toggleable__control:checked~div.sk-toggleable__content {max-height: 200px;max-width: 100%;overflow: auto;}#sk-container-id-3 input.sk-toggleable__control:checked~label.sk-toggleable__label-arrow:before {content: \"▾\";}#sk-container-id-3 div.sk-estimator input.sk-toggleable__control:checked~label.sk-toggleable__label {background-color: #d4ebff;}#sk-container-id-3 div.sk-label input.sk-toggleable__control:checked~label.sk-toggleable__label {background-color: #d4ebff;}#sk-container-id-3 input.sk-hidden--visually {border: 0;clip: rect(1px 1px 1px 1px);clip: rect(1px, 1px, 1px, 1px);height: 1px;margin: -1px;overflow: hidden;padding: 0;position: absolute;width: 1px;}#sk-container-id-3 div.sk-estimator {font-family: monospace;background-color: #f0f8ff;border: 1px dotted black;border-radius: 0.25em;box-sizing: border-box;margin-bottom: 0.5em;}#sk-container-id-3 div.sk-estimator:hover {background-color: #d4ebff;}#sk-container-id-3 div.sk-parallel-item::after {content: \"\";width: 100%;border-bottom: 1px solid gray;flex-grow: 1;}#sk-container-id-3 div.sk-label:hover label.sk-toggleable__label {background-color: #d4ebff;}#sk-container-id-3 div.sk-serial::before {content: \"\";position: absolute;border-left: 1px solid gray;box-sizing: border-box;top: 0;bottom: 0;left: 50%;z-index: 0;}#sk-container-id-3 div.sk-serial {display: flex;flex-direction: column;align-items: center;background-color: white;padding-right: 0.2em;padding-left: 0.2em;position: relative;}#sk-container-id-3 div.sk-item {position: relative;z-index: 1;}#sk-container-id-3 div.sk-parallel {display: flex;align-items: stretch;justify-content: center;background-color: white;position: relative;}#sk-container-id-3 div.sk-item::before, #sk-container-id-3 div.sk-parallel-item::before {content: \"\";position: absolute;border-left: 1px solid gray;box-sizing: border-box;top: 0;bottom: 0;left: 50%;z-index: -1;}#sk-container-id-3 div.sk-parallel-item {display: flex;flex-direction: column;z-index: 1;position: relative;background-color: white;}#sk-container-id-3 div.sk-parallel-item:first-child::after {align-self: flex-end;width: 50%;}#sk-container-id-3 div.sk-parallel-item:last-child::after {align-self: flex-start;width: 50%;}#sk-container-id-3 div.sk-parallel-item:only-child::after {width: 0;}#sk-container-id-3 div.sk-dashed-wrapped {border: 1px dashed gray;margin: 0 0.4em 0.5em 0.4em;box-sizing: border-box;padding-bottom: 0.4em;background-color: white;}#sk-container-id-3 div.sk-label label {font-family: monospace;font-weight: bold;display: inline-block;line-height: 1.2em;}#sk-container-id-3 div.sk-label-container {text-align: center;}#sk-container-id-3 div.sk-container {/* jupyter's `normalize.less` sets `[hidden] { display: none; }` but bootstrap.min.css set `[hidden] { display: none !important; }` so we also need the `!important` here to be able to override the default hidden behavior on the sphinx rendered scikit-learn.org. See: https://github.com/scikit-learn/scikit-learn/issues/21755 */display: inline-block !important;position: relative;}#sk-container-id-3 div.sk-text-repr-fallback {display: none;}</style><div id=\"sk-container-id-3\" class=\"sk-top-container\"><div class=\"sk-text-repr-fallback\"><pre>MultinomialNB()</pre><b>In a Jupyter environment, please rerun this cell to show the HTML representation or trust the notebook. <br />On GitHub, the HTML representation is unable to render, please try loading this page with nbviewer.org.</b></div><div class=\"sk-container\" hidden><div class=\"sk-item\"><div class=\"sk-estimator sk-toggleable\"><input class=\"sk-toggleable__control sk-hidden--visually\" id=\"sk-estimator-id-3\" type=\"checkbox\" checked><label for=\"sk-estimator-id-3\" class=\"sk-toggleable__label sk-toggleable__label-arrow\">MultinomialNB</label><div class=\"sk-toggleable__content\"><pre>MultinomialNB()</pre></div></div></div></div></div>"
      ],
      "text/plain": [
       "MultinomialNB()"
      ]
     },
     "execution_count": 17,
     "metadata": {},
     "output_type": "execute_result"
    }
   ],
   "source": [
    "from sklearn.naive_bayes import MultinomialNB\n",
    "model=MultinomialNB()\n",
    "model.fit(train_X_tfidf,df_train['Label'])"
   ]
  },
  {
   "cell_type": "code",
   "execution_count": 18,
   "id": "d5c28531",
   "metadata": {},
   "outputs": [
    {
     "name": "stdout",
     "output_type": "stream",
     "text": [
      "68.52 %\n"
     ]
    }
   ],
   "source": [
    "predict = model.predict(test_X_tfidf)\n",
    "acc = (accuracy_score(df_test['Label'],predict))*100\n",
    "\n",
    "print(round(acc,2),'%')"
   ]
  },
  {
   "cell_type": "code",
   "execution_count": 19,
   "id": "a6bd19c4",
   "metadata": {},
   "outputs": [
    {
     "name": "stdout",
     "output_type": "stream",
     "text": [
      "Confusion Matrix : \n",
      "[[37  0  0]\n",
      " [12  0  0]\n",
      " [ 5  0  0]]\n"
     ]
    }
   ],
   "source": [
    "conf_matrix = confusion_matrix(df_test['Label'], predict)\n",
    "print(\"Confusion Matrix : \") \n",
    "print(conf_matrix)"
   ]
  },
  {
   "cell_type": "code",
   "execution_count": 20,
   "id": "100f0558",
   "metadata": {},
   "outputs": [
    {
     "data": {
      "image/png": "[encoded data removed]",
      "text/plain": [
       "<Figure size 800x500 with 2 Axes>"
      ]
     },
     "metadata": {},
     "output_type": "display_data"
    }
   ],
   "source": [
    "import seaborn as sns\n",
    "f, ax = plt.subplots(figsize=(8,5))\n",
    "sns.heatmap(confusion_matrix(df_test['Label'], predict), annot=True, fmt=\".0f\",ax=ax)\n",
    "plt.xlabel(\"predict\")\n",
    "plt.ylabel(\"actual\")\n",
    "plt.savefig(r\"confusion matrix.png\")\n",
    "plt.show()"
   ]
  },
  {
   "cell_type": "code",
   "execution_count": 21,
   "id": "a30104e2",
   "metadata": {},
   "outputs": [
    {
     "name": "stdout",
     "output_type": "stream",
     "text": [
      "\n",
      "Here is the classification report:\n",
      "              precision    recall  f1-score   support\n",
      "\n",
      "          -1       0.69      1.00      0.81        37\n",
      "           0       0.00      0.00      0.00        12\n",
      "           1       0.00      0.00      0.00         5\n",
      "\n",
      "    accuracy                           0.69        54\n",
      "   macro avg       0.23      0.33      0.27        54\n",
      "weighted avg       0.47      0.69      0.56        54\n",
      "\n"
     ]
    },
    {
     "name": "stderr",
     "output_type": "stream",
     "text": [
      "C:\\Users\\ASUS\\.conda\\envs\\aslan\\lib\\site-packages\\sklearn\\metrics\\_classification.py:1334: UndefinedMetricWarning: Precision and F-score are ill-defined and being set to 0.0 in labels with no predicted samples. Use `zero_division` parameter to control this behavior.\n",
      "  _warn_prf(average, modifier, msg_start, len(result))\n",
      "C:\\Users\\ASUS\\.conda\\envs\\aslan\\lib\\site-packages\\sklearn\\metrics\\_classification.py:1334: UndefinedMetricWarning: Precision and F-score are ill-defined and being set to 0.0 in labels with no predicted samples. Use `zero_division` parameter to control this behavior.\n",
      "  _warn_prf(average, modifier, msg_start, len(result))\n",
      "C:\\Users\\ASUS\\.conda\\envs\\aslan\\lib\\site-packages\\sklearn\\metrics\\_classification.py:1334: UndefinedMetricWarning: Precision and F-score are ill-defined and being set to 0.0 in labels with no predicted samples. Use `zero_division` parameter to control this behavior.\n",
      "  _warn_prf(average, modifier, msg_start, len(result))\n"
     ]
    }
   ],
   "source": [
    "from sklearn.metrics import classification_report\n",
    "# Accuracy, Precision, Recall, f1-score\n",
    "print (\"\\nHere is the classification report:\") \n",
    "print (classification_report(df_test['Label'], predict))"
   ]
  },
  {
   "cell_type": "code",
   "execution_count": 28,
   "id": "9647f6af",
   "metadata": {},
   "outputs": [],
   "source": [
    "# menghitung jumlah label positif dan negatif pada data test setelah hasil prediksi model\n",
    "test_after_nb_count_label = collections.Counter(predict)\n",
    "juml_pos_nb= test_after_nb_count_label[label_positive]\n",
    "juml_net_nb= test_after_nb_count_label[label_netral]\n",
    "juml_neg_nb = test_after_nb_count_label[label_negative]"
   ]
  },
  {
   "cell_type": "code",
   "execution_count": 34,
   "id": "4456a51d",
   "metadata": {},
   "outputs": [
    {
     "data": {
      "image/png": "[encoded data removed]",
      "text/plain": [
       "<Figure size 640x480 with 1 Axes>"
      ]
     },
     "metadata": {},
     "output_type": "display_data"
    }
   ],
   "source": [
    "#pie chart analisis sentimen\n",
    "labels = ['Positive','Netral','Negative']\n",
    "Category = [juml_pos_nb,juml_net_nb, juml_neg_nb]\n",
    "fig, ax = plt.subplots()\n",
    "color = ['blue','green', 'red']\n",
    "plt.pie(Category, labels=labels, colors=color,startangle=90, shadow=True, autopct='%1.2f%%', explode=(0.1, 0, 0.1))\n",
    "plt.title('Diagram Lingkar Data Hasil Prediksi Klasifikasi Naive Bayes')\n",
    "plt.legend()\n",
    "plt.savefig(r\"pie_nbdtiga.png\")\n",
    "plt.show()"
   ]
  },
  {
   "cell_type": "code",
   "execution_count": 39,
   "id": "45f480d9",
   "metadata": {},
   "outputs": [
    {
     "data": {
      "text/html": [
       "<div>\n",
       "<style scoped>\n",
       "    .dataframe tbody tr th:only-of-type {\n",
       "        vertical-align: middle;\n",
       "    }\n",
       "\n",
       "    .dataframe tbody tr th {\n",
       "        vertical-align: top;\n",
       "    }\n",
       "\n",
       "    .dataframe thead th {\n",
       "        text-align: right;\n",
       "    }\n",
       "</style>\n",
       "<table border=\"1\" class=\"dataframe\">\n",
       "  <thead>\n",
       "    <tr style=\"text-align: right;\">\n",
       "      <th></th>\n",
       "      <th>Unnamed: 0</th>\n",
       "      <th>term</th>\n",
       "      <th>TF-IDF</th>\n",
       "    </tr>\n",
       "  </thead>\n",
       "  <tbody>\n",
       "    <tr>\n",
       "      <th>0</th>\n",
       "      <td>399</td>\n",
       "      <td>haikal</td>\n",
       "      <td>6.324109</td>\n",
       "    </tr>\n",
       "    <tr>\n",
       "      <th>1</th>\n",
       "      <td>1139</td>\n",
       "      <td>suka</td>\n",
       "      <td>6.134513</td>\n",
       "    </tr>\n",
       "    <tr>\n",
       "      <th>2</th>\n",
       "      <td>85</td>\n",
       "      <td>atur</td>\n",
       "      <td>4.999150</td>\n",
       "    </tr>\n",
       "    <tr>\n",
       "      <th>3</th>\n",
       "      <td>331</td>\n",
       "      <td>gak</td>\n",
       "      <td>4.929925</td>\n",
       "    </tr>\n",
       "    <tr>\n",
       "      <th>4</th>\n",
       "      <td>1225</td>\n",
       "      <td>tuju</td>\n",
       "      <td>4.905496</td>\n",
       "    </tr>\n",
       "    <tr>\n",
       "      <th>5</th>\n",
       "      <td>276</td>\n",
       "      <td>dn</td>\n",
       "      <td>4.547235</td>\n",
       "    </tr>\n",
       "    <tr>\n",
       "      <th>6</th>\n",
       "      <td>1093</td>\n",
       "      <td>sex</td>\n",
       "      <td>4.309975</td>\n",
       "    </tr>\n",
       "    <tr>\n",
       "      <th>7</th>\n",
       "      <td>565</td>\n",
       "      <td>keras</td>\n",
       "      <td>4.110410</td>\n",
       "    </tr>\n",
       "    <tr>\n",
       "      <th>8</th>\n",
       "      <td>948</td>\n",
       "      <td>perempuan</td>\n",
       "      <td>3.956984</td>\n",
       "    </tr>\n",
       "    <tr>\n",
       "      <th>9</th>\n",
       "      <td>121</td>\n",
       "      <td>bebas</td>\n",
       "      <td>3.678833</td>\n",
       "    </tr>\n",
       "    <tr>\n",
       "      <th>10</th>\n",
       "      <td>831</td>\n",
       "      <td>ndak</td>\n",
       "      <td>3.507273</td>\n",
       "    </tr>\n",
       "    <tr>\n",
       "      <th>11</th>\n",
       "      <td>186</td>\n",
       "      <td>bsa</td>\n",
       "      <td>3.455329</td>\n",
       "    </tr>\n",
       "    <tr>\n",
       "      <th>12</th>\n",
       "      <td>903</td>\n",
       "      <td>otak</td>\n",
       "      <td>3.427183</td>\n",
       "    </tr>\n",
       "    <tr>\n",
       "      <th>13</th>\n",
       "      <td>61</td>\n",
       "      <td>aoa</td>\n",
       "      <td>3.365426</td>\n",
       "    </tr>\n",
       "    <tr>\n",
       "      <th>14</th>\n",
       "      <td>526</td>\n",
       "      <td>kampus</td>\n",
       "      <td>3.152558</td>\n",
       "    </tr>\n",
       "  </tbody>\n",
       "</table>\n",
       "</div>"
      ],
      "text/plain": [
       "    Unnamed: 0       term    TF-IDF\n",
       "0          399     haikal  6.324109\n",
       "1         1139       suka  6.134513\n",
       "2           85       atur  4.999150\n",
       "3          331        gak  4.929925\n",
       "4         1225       tuju  4.905496\n",
       "5          276         dn  4.547235\n",
       "6         1093        sex  4.309975\n",
       "7          565      keras  4.110410\n",
       "8          948  perempuan  3.956984\n",
       "9          121      bebas  3.678833\n",
       "10         831       ndak  3.507273\n",
       "11         186        bsa  3.455329\n",
       "12         903       otak  3.427183\n",
       "13          61        aoa  3.365426\n",
       "14         526     kampus  3.152558"
      ]
     },
     "execution_count": 39,
     "metadata": {},
     "output_type": "execute_result"
    }
   ],
   "source": [
    "kamus_kata = pd.read_csv(r'tfidf_traintiga.csv')\n",
    "kamus_kata.head(15)"
   ]
  },
  {
   "cell_type": "code",
   "execution_count": 40,
   "id": "99bbf312",
   "metadata": {},
   "outputs": [
    {
     "data": {
      "text/html": [
       "<div>\n",
       "<style scoped>\n",
       "    .dataframe tbody tr th:only-of-type {\n",
       "        vertical-align: middle;\n",
       "    }\n",
       "\n",
       "    .dataframe tbody tr th {\n",
       "        vertical-align: top;\n",
       "    }\n",
       "\n",
       "    .dataframe thead th {\n",
       "        text-align: right;\n",
       "    }\n",
       "</style>\n",
       "<table border=\"1\" class=\"dataframe\">\n",
       "  <thead>\n",
       "    <tr style=\"text-align: right;\">\n",
       "      <th></th>\n",
       "      <th>term</th>\n",
       "      <th>TF-IDF</th>\n",
       "    </tr>\n",
       "  </thead>\n",
       "  <tbody>\n",
       "    <tr>\n",
       "      <th>0</th>\n",
       "      <td>haikal</td>\n",
       "      <td>6.324109</td>\n",
       "    </tr>\n",
       "    <tr>\n",
       "      <th>1</th>\n",
       "      <td>suka</td>\n",
       "      <td>6.134513</td>\n",
       "    </tr>\n",
       "    <tr>\n",
       "      <th>2</th>\n",
       "      <td>atur</td>\n",
       "      <td>4.999150</td>\n",
       "    </tr>\n",
       "    <tr>\n",
       "      <th>3</th>\n",
       "      <td>gak</td>\n",
       "      <td>4.929925</td>\n",
       "    </tr>\n",
       "    <tr>\n",
       "      <th>4</th>\n",
       "      <td>tuju</td>\n",
       "      <td>4.905496</td>\n",
       "    </tr>\n",
       "    <tr>\n",
       "      <th>5</th>\n",
       "      <td>dn</td>\n",
       "      <td>4.547235</td>\n",
       "    </tr>\n",
       "    <tr>\n",
       "      <th>6</th>\n",
       "      <td>sex</td>\n",
       "      <td>4.309975</td>\n",
       "    </tr>\n",
       "    <tr>\n",
       "      <th>7</th>\n",
       "      <td>keras</td>\n",
       "      <td>4.110410</td>\n",
       "    </tr>\n",
       "    <tr>\n",
       "      <th>8</th>\n",
       "      <td>perempuan</td>\n",
       "      <td>3.956984</td>\n",
       "    </tr>\n",
       "    <tr>\n",
       "      <th>9</th>\n",
       "      <td>bebas</td>\n",
       "      <td>3.678833</td>\n",
       "    </tr>\n",
       "    <tr>\n",
       "      <th>10</th>\n",
       "      <td>ndak</td>\n",
       "      <td>3.507273</td>\n",
       "    </tr>\n",
       "    <tr>\n",
       "      <th>11</th>\n",
       "      <td>bsa</td>\n",
       "      <td>3.455329</td>\n",
       "    </tr>\n",
       "    <tr>\n",
       "      <th>12</th>\n",
       "      <td>otak</td>\n",
       "      <td>3.427183</td>\n",
       "    </tr>\n",
       "    <tr>\n",
       "      <th>13</th>\n",
       "      <td>aoa</td>\n",
       "      <td>3.365426</td>\n",
       "    </tr>\n",
       "    <tr>\n",
       "      <th>14</th>\n",
       "      <td>kampus</td>\n",
       "      <td>3.152558</td>\n",
       "    </tr>\n",
       "  </tbody>\n",
       "</table>\n",
       "</div>"
      ],
      "text/plain": [
       "         term    TF-IDF\n",
       "0      haikal  6.324109\n",
       "1        suka  6.134513\n",
       "2        atur  4.999150\n",
       "3         gak  4.929925\n",
       "4        tuju  4.905496\n",
       "5          dn  4.547235\n",
       "6         sex  4.309975\n",
       "7       keras  4.110410\n",
       "8   perempuan  3.956984\n",
       "9       bebas  3.678833\n",
       "10       ndak  3.507273\n",
       "11        bsa  3.455329\n",
       "12       otak  3.427183\n",
       "13        aoa  3.365426\n",
       "14     kampus  3.152558"
      ]
     },
     "execution_count": 40,
     "metadata": {},
     "output_type": "execute_result"
    }
   ],
   "source": [
    "del kamus_kata['Unnamed: 0']\n",
    "kamus_kata.head(15)"
   ]
  },
  {
   "cell_type": "code",
   "execution_count": 41,
   "id": "598217b4",
   "metadata": {},
   "outputs": [],
   "source": [
    "import pickle\n",
    "pickle.dump(model,\n",
    "            open('model_nbtiga.pkl', 'wb'),\n",
    "            protocol=4)"
   ]
  },
  {
   "cell_type": "code",
   "execution_count": 42,
   "id": "d949506f",
   "metadata": {},
   "outputs": [],
   "source": [
    "pickle.dump(tfidf_vect,\n",
    "            open('tfidf.pkl', 'wb'),\n",
    "            protocol=4)"
   ]
  },
  {
   "cell_type": "code",
   "execution_count": null,
   "id": "33347876",
   "metadata": {},
   "outputs": [],
   "source": []
  }
 ],
 "metadata": {
  "kernelspec": {
   "display_name": "Python 3 (ipykernel)",
   "language": "python",
   "name": "python3"
  },
  "language_info": {
   "codemirror_mode": {
    "name": "ipython",
    "version": 3
   },
   "file_extension": ".py",
   "mimetype": "text/x-python",
   "name": "python",
   "nbconvert_exporter": "python",
   "pygments_lexer": "ipython3",
   "version": "3.9.12"
  }
 },
 "nbformat": 4,
 "nbformat_minor": 5
}
